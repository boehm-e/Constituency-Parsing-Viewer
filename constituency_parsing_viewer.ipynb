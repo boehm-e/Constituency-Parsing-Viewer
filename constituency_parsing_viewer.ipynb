{
 "cells": [
  {
   "cell_type": "code",
   "execution_count": 1,
   "metadata": {},
   "outputs": [],
   "source": [
    "# install ipydagred3\n",
    "\n",
    "import ipydagred3\n",
    "import spacy\n",
    "from benepar.spacy_plugin import BeneparComponent\n",
    "\n",
    "nlp = spacy.load(\"fr\")\n",
    "nlp.add_pipe(BeneparComponent('benepar_fr'))"
   ]
  },
  {
   "cell_type": "code",
   "execution_count": 2,
   "metadata": {},
   "outputs": [
    {
     "data": {
      "text/html": [
       "<style>.container { width:80% !important; }</style>"
      ],
      "text/plain": [
       "<IPython.core.display.HTML object>"
      ]
     },
     "metadata": {},
     "output_type": "display_data"
    }
   ],
   "source": [
    "from IPython.core.display import display, HTML\n",
    "display(HTML(\"<style>.container { width:80% !important; }</style>\"))\n",
    "\n",
    "tooltips = {\n",
    "    \"NP-SUJ\": \"Nom propre SUJET\"\n",
    "}"
   ]
  },
  {
   "cell_type": "code",
   "execution_count": 3,
   "metadata": {},
   "outputs": [],
   "source": [
    "def processConstituency(pStr):\n",
    "    nodes = []\n",
    "    cur = \"\";\n",
    "    stack = [];\n",
    "    nid = 0;\n",
    "    for i in range(len(pStr)):\n",
    "        if(pStr[i] == ' ' or pStr[i] == '\\n'):\n",
    "            if (len(cur) > 0): \n",
    "                newNode = {\n",
    "                    \"nodeID\": nid,\n",
    "                    \"nodeType\": \"Internal\",\n",
    "                    \"name\": cur,\n",
    "                    \"children\": []\n",
    "                }\n",
    "                cur = \"\";\n",
    "                nid += 1;\n",
    "                if (len(stack) > 0):\n",
    "                    stack[len(stack) - 1][\"children\"].append(newNode);\n",
    "                stack.append(newNode);\n",
    "                nodes.append(newNode)\n",
    "        elif pStr[i] == ')':\n",
    "            if (len(cur) > 0):\n",
    "                newNode = {\n",
    "                    \"nodeID\": nid,\n",
    "                    \"nodeType\": \"Leaf\",\n",
    "                    \"name\": cur,\n",
    "                    \"children\": []\n",
    "                }\n",
    "                cur = \"\";\n",
    "                nid += 1;\n",
    "                stack[len(stack) - 1][\"children\"].append(newNode);\n",
    "                nodes.append(newNode)\n",
    "                stack.pop();\n",
    "            else:\n",
    "                if (len(stack) == 1):\n",
    "                    root = stack[0]\n",
    "                stack.pop();\n",
    "        elif pStr[i] == '(':\n",
    "            continue\n",
    "        else:\n",
    "            cur = cur + pStr[i];\n",
    "    return nodes, root\n",
    "\n",
    "def showDependencyGraph(nodes, parsed, sent):\n",
    "    g = ipydagred3.Graph()\n",
    "    wordIdx = 0\n",
    "    for node in nodes:\n",
    "        if len(node[\"children\"]):\n",
    "            tooltip = tooltips[node[\"name\"]] if node[\"name\"] in tooltips else node[\"name\"]\n",
    "        else:\n",
    "#             tooltip = str(node[\"nodeID\"])\n",
    "            tooltip = f\"WORD={sent[wordIdx].text} | DEP={sent[wordIdx].dep_} | POS={sent[wordIdx].pos_}\\n\"\n",
    "            wordIdx += 1\n",
    "        g.setNode(str(node[\"nodeID\"]), label=node['name'], tooltip=tooltip, rx=5, ry=5, style=\"fill: \" + (\"white\" if len(node[\"children\"]) else \"#00bcd4\"));\n",
    "#         g.setNode(str(node[\"nodeID\"]), labelType=\"html\", label=f\"<span style='color: black; font-size: 12px;'>{node['name']}</span>\", tooltip=tooltips[node[\"name\"]] if node[\"name\"] in tooltips else node[\"name\"], rx=5, ry=5, style=\"fill: \" + (\"white\" if len(node[\"children\"]) else \"#00bcd4\"));\n",
    "\n",
    "    def setEdge(parent):\n",
    "        for i in range(len(parent[\"children\"])):\n",
    "            g.setEdge(str(parent[\"nodeID\"]), str(parent[\"children\"][i][\"nodeID\"]))\n",
    "            setEdge(parent[\"children\"][i])\n",
    "\n",
    "    setEdge(parsed)\n",
    "    widget = ipydagred3.DagreD3Widget(graph=g)\n",
    "    display(widget)\n",
    "    "
   ]
  },
  {
   "cell_type": "code",
   "execution_count": 7,
   "metadata": {},
   "outputs": [
    {
     "data": {
      "application/vnd.jupyter.widget-view+json": {
       "model_id": "80c3ab9f63804cecb1088786760e29c5",
       "version_major": 2,
       "version_minor": 0
      },
      "text/plain": [
       "DagreD3Widget()"
      ]
     },
     "metadata": {},
     "output_type": "display_data"
    }
   ],
   "source": [
    "import ipydagred3\n",
    "import spacy\n",
    "from benepar.spacy_plugin import BeneparComponent\n",
    "\n",
    "nlp = spacy.load(\"fr\")\n",
    "nlp.add_pipe(BeneparComponent('benepar_fr'))\n",
    "\n",
    "doc = nlp(\"Le gentil petit chat blanc mange du poisson.\")\n",
    "sent = list(doc.sents)[0]\n",
    "nodes, parsed = processConstituency(sent._.parse_string)\n",
    "showDependencyGraph(nodes, parsed, sent)\n"
   ]
  }
 ],
 "metadata": {
  "kernelspec": {
   "display_name": "Python 3",
   "language": "python",
   "name": "python3"
  },
  "language_info": {
   "codemirror_mode": {
    "name": "ipython",
    "version": 3
   },
   "file_extension": ".py",
   "mimetype": "text/x-python",
   "name": "python",
   "nbconvert_exporter": "python",
   "pygments_lexer": "ipython3",
   "version": "3.8.2"
  }
 },
 "nbformat": 4,
 "nbformat_minor": 4
}

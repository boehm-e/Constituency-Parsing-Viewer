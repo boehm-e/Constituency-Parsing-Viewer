{
 "cells": [
  {
   "cell_type": "code",
   "execution_count": 1,
   "metadata": {},
   "outputs": [],
   "source": [
    "# install ipydagred3\n",
    "# install benepar and download benepar_fr\n",
    "\n",
    "import ipydagred3\n",
    "import spacy\n",
    "from spacy.tokens import Doc, Span, Token\n",
    "from spacy import displacy\n",
    "from benepar.spacy_plugin import BeneparComponent\n",
    "\n",
    "nlp = spacy.load(\"fr\")\n",
    "nlp.add_pipe(BeneparComponent('benepar_fr'))"
   ]
  },
  {
   "cell_type": "code",
   "execution_count": 2,
   "metadata": {},
   "outputs": [],
   "source": [
    "# feel free to complete this dict and PR\n",
    "\n",
    "tooltips = {\n",
    "    \"NP-SUJ\": \"Nom propre sujet\",\n",
    "    \"PONCT\": \"Ponctuation\",\n",
    "    \"VN\": \"Noyau verbal\",\n",
    "    \"ADV\": \"Adverbe\",\n",
    "    \"AP-ATS\": \"attribut du sujet\",\n",
    "    \"NC\": \"Nom commun\",\n",
    "    \"DET\": \"Déterminant\",\n",
    "    \"V\": \"Verb\",\n",
    "    \"SENT\": \"Phrase racine\",\n",
    "    \"NP-OBJ\": \"Nom propre, objet\",\n",
    "    \"Srel\": \"Subordonnée relative\"\n",
    "    \n",
    "}"
   ]
  },
  {
   "cell_type": "code",
   "execution_count": 34,
   "metadata": {
    "scrolled": false
   },
   "outputs": [],
   "source": [
    "import collections\n",
    "\n",
    "try:\n",
    "    nlp.remove_pipe(\"constituency_parser\")\n",
    "    Span.remove_extension(\"constituency\")\n",
    "    Span.remove_extension(\"show_constituency\")\n",
    "    Span.remove_extension(\"search_constituency\")\n",
    "except:\n",
    "    pass\n",
    "\n",
    "\n",
    "def _flatten(l):\n",
    "    for el in l:\n",
    "        if isinstance(el, collections.Iterable) and not isinstance(el, (str, bytes)):\n",
    "            yield from flatten(el)\n",
    "        else:\n",
    "            yield el\n",
    "\n",
    "flatten = lambda l: list(_flatten(l))\n",
    "\n",
    "class ConstituencyParser():\n",
    "    name = \"constituency_parser\"\n",
    "\n",
    "    def __init__(self):\n",
    "        Span.set_extension(\"constituency\", default=None)\n",
    "        Span.set_extension(\"show_constituency\", default=None)\n",
    "        Span.set_extension(\"search_constituency\", default=None)\n",
    "\n",
    "\n",
    "\n",
    "    def __call__(self, doc):\n",
    "        for sent in doc.sents:\n",
    "            nodes, parsed  = self.processConstituency(sent._.parse_string)\n",
    "            sent._.set(\"show_constituency\", lambda: self.showDependencyGraph(nodes, parsed))\n",
    "            sent._.set(\"search_constituency\", lambda _type: self.find(_type, parsed, sent))\n",
    "        return doc\n",
    "\n",
    "    def processConstituency(self, pStr):\n",
    "        nodes = []\n",
    "        cur = \"\";\n",
    "        stack = [];\n",
    "        nid = 0;\n",
    "        wordIndex = 0\n",
    "        for i in range(len(pStr)):\n",
    "            if(pStr[i] == ' ' or pStr[i] == '\\n'):\n",
    "                if (len(cur) > 0): \n",
    "                    newNode = {\n",
    "                        \"nodeID\": nid,\n",
    "                        \"nodeType\": \"Internal\",\n",
    "                        \"name\": cur,\n",
    "                        \"children\": []\n",
    "                    }\n",
    "                    cur = \"\";\n",
    "                    nid += 1;\n",
    "                    if (len(stack) > 0):\n",
    "                        stack[len(stack) - 1][\"children\"].append(newNode);\n",
    "                    stack.append(newNode);\n",
    "                    nodes.append(newNode)\n",
    "            elif pStr[i] == ')':\n",
    "                if (len(cur) > 0):\n",
    "                    newNode = {\n",
    "                        \"nodeID\": nid,\n",
    "                        \"nodeType\": \"Leaf\",\n",
    "                        \"name\": cur,\n",
    "                        \"wordIndex\": wordIndex,\n",
    "                        \"children\": []\n",
    "                    }\n",
    "                    cur = \"\";\n",
    "                    nid += 1;\n",
    "                    wordIndex += 1;\n",
    "                    stack[len(stack) - 1][\"children\"].append(newNode);\n",
    "                    nodes.append(newNode)\n",
    "                    stack.pop();\n",
    "                else:\n",
    "                    if (len(stack) == 1):\n",
    "                        root = stack[0]\n",
    "                    stack.pop();\n",
    "            elif pStr[i] == '(':\n",
    "                continue\n",
    "            else:\n",
    "                cur = cur + pStr[i];\n",
    "        return nodes, root\n",
    "\n",
    "    def showDependencyGraph(self, nodes, parsed):\n",
    "        g = ipydagred3.Graph()\n",
    "        for node in nodes:\n",
    "            g.setNode(str(node[\"nodeID\"]),\n",
    "                      label=node[\"name\"],\n",
    "                      tooltip=tooltips[node[\"name\"]] if node[\"name\"] in tooltips else node[\"name\"],\n",
    "                      rx=5,\n",
    "                      ry=5,\n",
    "                      style=\"fill: \" + (\"white\" if len(node[\"children\"]) else \"#00bcd4\"));\n",
    "\n",
    "        def setEdge(parent):\n",
    "            for i in range(len(parent[\"children\"])):\n",
    "                g.setEdge(str(parent[\"nodeID\"]), str(parent[\"children\"][i][\"nodeID\"]))\n",
    "                setEdge(parent[\"children\"][i])\n",
    "\n",
    "        setEdge(parsed)\n",
    "        widget = ipydagred3.DagreD3Widget(graph=g)\n",
    "        return display(widget)\n",
    "\n",
    "    def getWordIndex(self, node):\n",
    "        return [self.getWordIndex(childNode) for childNode in node[\"children\"]] if node[\"nodeType\"] != \"Leaf\" else node[\"wordIndex\"]\n",
    "\n",
    "    def getSpan(self, node):\n",
    "        return\n",
    "    \n",
    "    def getString(self, node):\n",
    "        return ' '.join([self.getString(childNode) for childNode in node[\"children\"]]) if node[\"nodeType\"] != \"Leaf\" else node[\"name\"]\n",
    "\n",
    "    def search(self, _types, node):\n",
    "        fltn = lambda l: [item for sublist in l for item in sublist]\n",
    "        types = [child for child in node[\"children\"] if child[\"name\"] in _types]\n",
    "        others = fltn([self.search(_types, child) for child in node[\"children\"]])\n",
    "        return types+others\n",
    "\n",
    "    def find(self, _types, node, sent):\n",
    "        spans = []\n",
    "        strings = []\n",
    "        for _node in self.search(_types, node):\n",
    "            indexes = flatten([x for x in self.getWordIndex(_node)])\n",
    "            span = sent[min(indexes): max(indexes)+1]\n",
    "            spans.append(span)\n",
    "            strings.append(self.getString(_node))\n",
    "        return spans\n",
    "        \n",
    "\n",
    "# add constituencyParser to spacy pipeline\n",
    "constituencyParser = ConstituencyParser()\n",
    "nlp.add_pipe(constituencyParser, last=True)\n"
   ]
  },
  {
   "cell_type": "code",
   "execution_count": 45,
   "metadata": {
    "scrolled": false
   },
   "outputs": [
    {
     "name": "stdout",
     "output_type": "stream",
     "text": [
      "=========================\n",
      "\n",
      "INDEX     :  0\n",
      "SENTENCE  :  Un jour de plein hiver, une reine était assise à sa fenêtre encadrée de bois d'ébène et cousait.\n",
      "SUBJECTs  :  [une reine]\n",
      "OBJECTs   :  []\n",
      "VERBS     :  [était assise, cousait]\n"
     ]
    },
    {
     "data": {
      "application/vnd.jupyter.widget-view+json": {
       "model_id": "3407d8d0e1cc40f18e7c9038c2f4acef",
       "version_major": 2,
       "version_minor": 0
      },
      "text/plain": [
       "DagreD3Widget()"
      ]
     },
     "metadata": {},
     "output_type": "display_data"
    },
    {
     "name": "stdout",
     "output_type": "stream",
     "text": [
      "=========================\n",
      "\n",
      "INDEX     :  1\n",
      "SENTENCE  :  Tout en tirant l'aiguille, elle regardait voler les blancs flocons.\n",
      "SUBJECTs  :  []\n",
      "OBJECTs   :  [l'aiguille, les blancs flocons]\n",
      "VERBS     :  [elle regardait, tirant, voler]\n"
     ]
    },
    {
     "data": {
      "application/vnd.jupyter.widget-view+json": {
       "model_id": "86cd9015231b4b3fa5d43f76ae3eb7f7",
       "version_major": 2,
       "version_minor": 0
      },
      "text/plain": [
       "DagreD3Widget()"
      ]
     },
     "metadata": {},
     "output_type": "display_data"
    },
    {
     "name": "stdout",
     "output_type": "stream",
     "text": [
      "=========================\n",
      "\n",
      "INDEX     :  2\n",
      "SENTENCE  :  Elle se piqua au doigt et trois gouttes de sang tombèrent sur la neige.\n",
      "SUBJECTs  :  [trois gouttes de sang]\n",
      "OBJECTs   :  []\n",
      "VERBS     :  [Elle se piqua, tombèrent]\n"
     ]
    },
    {
     "data": {
      "application/vnd.jupyter.widget-view+json": {
       "model_id": "bd83c389076f40779330438ea1d0c7db",
       "version_major": 2,
       "version_minor": 0
      },
      "text/plain": [
       "DagreD3Widget()"
      ]
     },
     "metadata": {},
     "output_type": "display_data"
    },
    {
     "name": "stdout",
     "output_type": "stream",
     "text": [
      "=========================\n",
      "\n",
      "INDEX     :  3\n",
      "SENTENCE  :  Ce rouge sur ce blanc faisait si bel effet qu'elle se dit : «\n",
      "SUBJECTs  :  [Ce rouge sur ce blanc]\n",
      "OBJECTs   :  []\n",
      "VERBS     :  [faisait, elle se dit]\n"
     ]
    },
    {
     "data": {
      "application/vnd.jupyter.widget-view+json": {
       "model_id": "908e53760e5b4c10bff07f841d71c012",
       "version_major": 2,
       "version_minor": 0
      },
      "text/plain": [
       "DagreD3Widget()"
      ]
     },
     "metadata": {},
     "output_type": "display_data"
    },
    {
     "name": "stdout",
     "output_type": "stream",
     "text": [
      "=========================\n",
      "\n",
      "INDEX     :  4\n",
      "SENTENCE  :  Si seulement j'avais un enfant aussi blanc que la neige, aussi rose que le sang, aussi noir que le bois de ma fenêtre !\n",
      "SUBJECTs  :  []\n",
      "OBJECTs   :  [un enfant aussi blanc que la neige, aussi rose que le sang, aussi noir que le bois de ma fenêtre ]\n",
      "VERBS     :  [j'avais]\n"
     ]
    },
    {
     "data": {
      "application/vnd.jupyter.widget-view+json": {
       "model_id": "41465353f2bf4abbb9ea86d042ccaf1c",
       "version_major": 2,
       "version_minor": 0
      },
      "text/plain": [
       "DagreD3Widget()"
      ]
     },
     "metadata": {},
     "output_type": "display_data"
    },
    {
     "name": "stdout",
     "output_type": "stream",
     "text": [
      "=========================\n",
      "\n",
      "INDEX     :  5\n",
      "SENTENCE  :  »\n",
      "SUBJECTs  :  []\n",
      "OBJECTs   :  []\n",
      "VERBS     :  []\n"
     ]
    },
    {
     "data": {
      "application/vnd.jupyter.widget-view+json": {
       "model_id": "96afd176015d477cb2ce07fbd076cd1f",
       "version_major": 2,
       "version_minor": 0
      },
      "text/plain": [
       "DagreD3Widget()"
      ]
     },
     "metadata": {},
     "output_type": "display_data"
    },
    {
     "name": "stdout",
     "output_type": "stream",
     "text": [
      "=========================\n",
      "\n",
      "INDEX     :  6\n",
      "SENTENCE  :  Peu de temps après, une fille lui naquit ;\n",
      "SUBJECTs  :  [une fille]\n",
      "OBJECTs   :  []\n",
      "VERBS     :  [lui naquit]\n"
     ]
    },
    {
     "data": {
      "application/vnd.jupyter.widget-view+json": {
       "model_id": "a8fae540c986448e84346e4f19d03ed7",
       "version_major": 2,
       "version_minor": 0
      },
      "text/plain": [
       "DagreD3Widget()"
      ]
     },
     "metadata": {},
     "output_type": "display_data"
    },
    {
     "name": "stdout",
     "output_type": "stream",
     "text": [
      "=========================\n",
      "\n",
      "INDEX     :  7\n",
      "SENTENCE  :  elle était blanche comme neige, rose comme sang et ses cheveux étaient noirs comme de l'ébène.\n",
      "SUBJECTs  :  [ses cheveux]\n",
      "OBJECTs   :  []\n",
      "VERBS     :  [elle était, étaient]\n"
     ]
    },
    {
     "data": {
      "application/vnd.jupyter.widget-view+json": {
       "model_id": "0cc7b6758bee492e80be37e398ab2885",
       "version_major": 2,
       "version_minor": 0
      },
      "text/plain": [
       "DagreD3Widget()"
      ]
     },
     "metadata": {},
     "output_type": "display_data"
    },
    {
     "name": "stdout",
     "output_type": "stream",
     "text": [
      "=========================\n",
      "\n",
      "INDEX     :  8\n",
      "SENTENCE  :  On l'appela Blanche-Neige.\n",
      "SUBJECTs  :  []\n",
      "OBJECTs   :  [Blanche-Neige]\n",
      "VERBS     :  [On l'appela]\n"
     ]
    },
    {
     "data": {
      "application/vnd.jupyter.widget-view+json": {
       "model_id": "5030ed1499834efd8cfd9a6eb9e1f3be",
       "version_major": 2,
       "version_minor": 0
      },
      "text/plain": [
       "DagreD3Widget()"
      ]
     },
     "metadata": {},
     "output_type": "display_data"
    },
    {
     "name": "stdout",
     "output_type": "stream",
     "text": [
      "=========================\n",
      "\n",
      "INDEX     :  9\n",
      "SENTENCE  :  Mais la reine mourut en lui donnant le jour. , Au bout d'une année, le roi épousa une autre femme.\n",
      "SUBJECTs  :  [la reine, le roi]\n",
      "OBJECTs   :  [une autre femme, le jour]\n",
      "VERBS     :  [mourut, épousa, lui donnant]\n"
     ]
    },
    {
     "data": {
      "application/vnd.jupyter.widget-view+json": {
       "model_id": "33ebb023a7104e01809bbd455e64e58b",
       "version_major": 2,
       "version_minor": 0
      },
      "text/plain": [
       "DagreD3Widget()"
      ]
     },
     "metadata": {},
     "output_type": "display_data"
    },
    {
     "name": "stdout",
     "output_type": "stream",
     "text": [
      "=========================\n",
      "\n",
      "INDEX     :  10\n",
      "SENTENCE  :  Elle était très belle ;\n",
      "SUBJECTs  :  []\n",
      "OBJECTs   :  []\n",
      "VERBS     :  [Elle était]\n"
     ]
    },
    {
     "data": {
      "application/vnd.jupyter.widget-view+json": {
       "model_id": "ef6b060419e3469f97219f6ddba578c5",
       "version_major": 2,
       "version_minor": 0
      },
      "text/plain": [
       "DagreD3Widget()"
      ]
     },
     "metadata": {},
     "output_type": "display_data"
    },
    {
     "name": "stdout",
     "output_type": "stream",
     "text": [
      "=========================\n",
      "\n",
      "INDEX     :  11\n",
      "SENTENCE  :  mais elle était fière et vaniteuse et ne pouvait souffrir que quelqu'un la surpassât en beauté.\n",
      "SUBJECTs  :  [quelqu'un]\n",
      "OBJECTs   :  []\n",
      "VERBS     :  [elle était, ne pouvait, souffrir, la surpassât]\n"
     ]
    },
    {
     "data": {
      "application/vnd.jupyter.widget-view+json": {
       "model_id": "66dc71497c834fbcbc482ae26aaee398",
       "version_major": 2,
       "version_minor": 0
      },
      "text/plain": [
       "DagreD3Widget()"
      ]
     },
     "metadata": {},
     "output_type": "display_data"
    },
    {
     "name": "stdout",
     "output_type": "stream",
     "text": [
      "=========================\n",
      "\n",
      "INDEX     :  12\n",
      "SENTENCE  :  Elle possédait un miroir magique.\n",
      "SUBJECTs  :  []\n",
      "OBJECTs   :  [un miroir magique]\n",
      "VERBS     :  [Elle possédait]\n"
     ]
    },
    {
     "data": {
      "application/vnd.jupyter.widget-view+json": {
       "model_id": "dfce21fd26f74c2c971983b5d0eda198",
       "version_major": 2,
       "version_minor": 0
      },
      "text/plain": [
       "DagreD3Widget()"
      ]
     },
     "metadata": {},
     "output_type": "display_data"
    },
    {
     "name": "stdout",
     "output_type": "stream",
     "text": [
      "=========================\n",
      "\n",
      "INDEX     :  13\n",
      "SENTENCE  :  Quand elle s'y regardait en disant : «\n",
      "SUBJECTs  :  []\n",
      "OBJECTs   :  []\n",
      "VERBS     :  [elle s'y regardait, disant]\n"
     ]
    },
    {
     "data": {
      "application/vnd.jupyter.widget-view+json": {
       "model_id": "f325778b24754921aed06b8ee95de5cb",
       "version_major": 2,
       "version_minor": 0
      },
      "text/plain": [
       "DagreD3Widget()"
      ]
     },
     "metadata": {},
     "output_type": "display_data"
    },
    {
     "name": "stdout",
     "output_type": "stream",
     "text": [
      "=========================\n",
      "\n",
      "INDEX     :  14\n",
      "SENTENCE  :  Miroir, miroir joli, qui est la plus belle au pays ?\n",
      "SUBJECTs  :  [qui]\n",
      "OBJECTs   :  []\n",
      "VERBS     :  [est]\n"
     ]
    },
    {
     "data": {
      "application/vnd.jupyter.widget-view+json": {
       "model_id": "db466f367b2747668b8819fe6b2924cc",
       "version_major": 2,
       "version_minor": 0
      },
      "text/plain": [
       "DagreD3Widget()"
      ]
     },
     "metadata": {},
     "output_type": "display_data"
    },
    {
     "name": "stdout",
     "output_type": "stream",
     "text": [
      "=========================\n",
      "\n",
      "INDEX     :  15\n",
      "SENTENCE  :  » Le miroir répondait :\n",
      "SUBJECTs  :  [Le miroir]\n",
      "OBJECTs   :  []\n",
      "VERBS     :  [répondait]\n"
     ]
    },
    {
     "data": {
      "application/vnd.jupyter.widget-view+json": {
       "model_id": "122c81da92ca43019218fc7616b1528a",
       "version_major": 2,
       "version_minor": 0
      },
      "text/plain": [
       "DagreD3Widget()"
      ]
     },
     "metadata": {},
     "output_type": "display_data"
    },
    {
     "name": "stdout",
     "output_type": "stream",
     "text": [
      "=========================\n",
      "\n",
      "INDEX     :  16\n",
      "SENTENCE  :  « \n",
      "SUBJECTs  :  []\n",
      "OBJECTs   :  []\n",
      "VERBS     :  [vous êtes]\n"
     ]
    },
    {
     "data": {
      "application/vnd.jupyter.widget-view+json": {
       "model_id": "822818f3b69d47c0b9650c19ac4c0072",
       "version_major": 2,
       "version_minor": 0
      },
      "text/plain": [
       "DagreD3Widget()"
      ]
     },
     "metadata": {},
     "output_type": "display_data"
    },
    {
     "name": "stdout",
     "output_type": "stream",
     "text": [
      "=========================\n",
      "\n",
      "INDEX     :  17\n",
      "SENTENCE  :  » Et elle était contente.\n",
      "SUBJECTs  :  []\n",
      "OBJECTs   :  []\n",
      "VERBS     :  [elle était]\n"
     ]
    },
    {
     "data": {
      "application/vnd.jupyter.widget-view+json": {
       "model_id": "2579c73f414d40e79ee4b2982deee378",
       "version_major": 2,
       "version_minor": 0
      },
      "text/plain": [
       "DagreD3Widget()"
      ]
     },
     "metadata": {},
     "output_type": "display_data"
    },
    {
     "name": "stdout",
     "output_type": "stream",
     "text": [
      "=========================\n",
      "\n",
      "INDEX     :  18\n",
      "SENTENCE  :  Elle savait que le miroir disait la vérité.\n",
      "SUBJECTs  :  [le miroir]\n",
      "OBJECTs   :  [la vérité]\n",
      "VERBS     :  [Elle savait, disait]\n"
     ]
    },
    {
     "data": {
      "application/vnd.jupyter.widget-view+json": {
       "model_id": "f8cda8548d964623812f600fed0db632",
       "version_major": 2,
       "version_minor": 0
      },
      "text/plain": [
       "DagreD3Widget()"
      ]
     },
     "metadata": {},
     "output_type": "display_data"
    },
    {
     "name": "stdout",
     "output_type": "stream",
     "text": [
      "=========================\n",
      "\n",
      "INDEX     :  19\n",
      "SENTENCE  :  Blanche-Neige, cependant, grandissait et devenait de plus en plus belle.\n",
      "SUBJECTs  :  [Blanche-Neige]\n",
      "OBJECTs   :  []\n",
      "VERBS     :  [grandissait, devenait]\n"
     ]
    },
    {
     "data": {
      "application/vnd.jupyter.widget-view+json": {
       "model_id": "5d6f78e826ac4e6281f32befdf568e91",
       "version_major": 2,
       "version_minor": 0
      },
      "text/plain": [
       "DagreD3Widget()"
      ]
     },
     "metadata": {},
     "output_type": "display_data"
    },
    {
     "name": "stdout",
     "output_type": "stream",
     "text": [
      "=========================\n",
      "\n",
      "INDEX     :  20\n",
      "SENTENCE  :  Quand elle eut atteint ses dix-sept ans, elle était déjà plus jolie que le jour et plus belle que la reine elle-même.\n",
      "SUBJECTs  :  []\n",
      "OBJECTs   :  [ses dix-sept ans]\n",
      "VERBS     :  [elle était, elle eut atteint]\n"
     ]
    },
    {
     "data": {
      "application/vnd.jupyter.widget-view+json": {
       "model_id": "2e9fb08cba3b49b6827c6e3244b35e2c",
       "version_major": 2,
       "version_minor": 0
      },
      "text/plain": [
       "DagreD3Widget()"
      ]
     },
     "metadata": {},
     "output_type": "display_data"
    },
    {
     "name": "stdout",
     "output_type": "stream",
     "text": [
      "=========================\n",
      "\n",
      "INDEX     :  21\n",
      "SENTENCE  :  Un jour que celle-ci demandait au miroir : « Miroir, miroir joli, qui est la plus belle au pays ?\n",
      "SUBJECTs  :  [celle-ci, qui]\n",
      "OBJECTs   :  [que]\n",
      "VERBS     :  [demandait, est]\n"
     ]
    },
    {
     "data": {
      "application/vnd.jupyter.widget-view+json": {
       "model_id": "699adff8390b4930863d59a112fc8e7f",
       "version_major": 2,
       "version_minor": 0
      },
      "text/plain": [
       "DagreD3Widget()"
      ]
     },
     "metadata": {},
     "output_type": "display_data"
    },
    {
     "name": "stdout",
     "output_type": "stream",
     "text": [
      "=========================\n",
      "\n",
      "INDEX     :  22\n",
      "SENTENCE  :  »\n",
      "SUBJECTs  :  []\n",
      "OBJECTs   :  []\n",
      "VERBS     :  []\n"
     ]
    },
    {
     "data": {
      "application/vnd.jupyter.widget-view+json": {
       "model_id": "4f167d3cd9f745c094ecacfbafd94d21",
       "version_major": 2,
       "version_minor": 0
      },
      "text/plain": [
       "DagreD3Widget()"
      ]
     },
     "metadata": {},
     "output_type": "display_data"
    },
    {
     "name": "stdout",
     "output_type": "stream",
     "text": [
      "=========================\n",
      "\n",
      "INDEX     :  23\n",
      "SENTENCE  :  Celui-ci répondit :\n",
      "SUBJECTs  :  [Celui-ci]\n",
      "OBJECTs   :  []\n",
      "VERBS     :  [répondit]\n"
     ]
    },
    {
     "data": {
      "application/vnd.jupyter.widget-view+json": {
       "model_id": "dfabc1d4229942a4919ae69c37899ad7",
       "version_major": 2,
       "version_minor": 0
      },
      "text/plain": [
       "DagreD3Widget()"
      ]
     },
     "metadata": {},
     "output_type": "display_data"
    },
    {
     "name": "stdout",
     "output_type": "stream",
     "text": [
      "=========================\n",
      "\n",
      "INDEX     :  24\n",
      "SENTENCE  :  « \n",
      "SUBJECTs  :  []\n",
      "OBJECTs   :  []\n",
      "VERBS     :  [vous êtes]\n"
     ]
    },
    {
     "data": {
      "application/vnd.jupyter.widget-view+json": {
       "model_id": "c6e5fdf7fb884a40acefb8ba71240f32",
       "version_major": 2,
       "version_minor": 0
      },
      "text/plain": [
       "DagreD3Widget()"
      ]
     },
     "metadata": {},
     "output_type": "display_data"
    },
    {
     "name": "stdout",
     "output_type": "stream",
     "text": [
      "=========================\n",
      "\n",
      "INDEX     :  25\n",
      "SENTENCE  :  mais Blanche-Neige est encore mille fois plus belle.\n",
      "SUBJECTs  :  [Blanche-Neige]\n",
      "OBJECTs   :  []\n",
      "VERBS     :  [est]\n"
     ]
    },
    {
     "data": {
      "application/vnd.jupyter.widget-view+json": {
       "model_id": "a079cf5c2219484a998f6ea493dbef10",
       "version_major": 2,
       "version_minor": 0
      },
      "text/plain": [
       "DagreD3Widget()"
      ]
     },
     "metadata": {},
     "output_type": "display_data"
    },
    {
     "name": "stdout",
     "output_type": "stream",
     "text": [
      "=========================\n",
      "\n",
      "INDEX     :  26\n",
      "SENTENCE  :  » La reine en fut épouvantée.\n",
      "SUBJECTs  :  [La reine]\n",
      "OBJECTs   :  []\n",
      "VERBS     :  [en fut épouvantée]\n"
     ]
    },
    {
     "data": {
      "application/vnd.jupyter.widget-view+json": {
       "model_id": "8848cb75f9284ee4b53ebc11ecf546e4",
       "version_major": 2,
       "version_minor": 0
      },
      "text/plain": [
       "DagreD3Widget()"
      ]
     },
     "metadata": {},
     "output_type": "display_data"
    },
    {
     "name": "stdout",
     "output_type": "stream",
     "text": [
      "=========================\n",
      "\n",
      "INDEX     :  27\n",
      "SENTENCE  :  À partir de là, chaque fois qu'elle apercevait Blanche-Neige, son cœur se retournait dans sa poitrine tant elle éprouvait de haine à son égard.\n",
      "SUBJECTs  :  [son cœur]\n",
      "OBJECTs   :  [Blanche-Neige, de haine]\n",
      "VERBS     :  [se retournait, elle apercevait, elle éprouvait]\n"
     ]
    },
    {
     "data": {
      "application/vnd.jupyter.widget-view+json": {
       "model_id": "46f0f81bca084901b6a435d264ae6f02",
       "version_major": 2,
       "version_minor": 0
      },
      "text/plain": [
       "DagreD3Widget()"
      ]
     },
     "metadata": {},
     "output_type": "display_data"
    },
    {
     "name": "stdout",
     "output_type": "stream",
     "text": [
      "=========================\n",
      "\n",
      "INDEX     :  28\n",
      "SENTENCE  :  Elle en avait perdu le repos, le jour et la nuit.\n",
      "SUBJECTs  :  []\n",
      "OBJECTs   :  [le repos, le jour et la nuit]\n",
      "VERBS     :  [Elle en avait perdu]\n"
     ]
    },
    {
     "data": {
      "application/vnd.jupyter.widget-view+json": {
       "model_id": "78d6286e02bd491fb03c9e46d17b126b",
       "version_major": 2,
       "version_minor": 0
      },
      "text/plain": [
       "DagreD3Widget()"
      ]
     },
     "metadata": {},
     "output_type": "display_data"
    },
    {
     "name": "stdout",
     "output_type": "stream",
     "text": [
      "=========================\n",
      "\n",
      "INDEX     :  29\n",
      "SENTENCE  :  , Elle fit venir un chasseur et lui dit : «\n",
      "SUBJECTs  :  []\n",
      "OBJECTs   :  [un chasseur]\n",
      "VERBS     :  [Elle fit venir, lui dit]\n"
     ]
    },
    {
     "data": {
      "application/vnd.jupyter.widget-view+json": {
       "model_id": "1b6d212caa0f4f6a98d3a2346945668e",
       "version_major": 2,
       "version_minor": 0
      },
      "text/plain": [
       "DagreD3Widget()"
      ]
     },
     "metadata": {},
     "output_type": "display_data"
    },
    {
     "name": "stdout",
     "output_type": "stream",
     "text": [
      "=========================\n",
      "\n",
      "INDEX     :  30\n",
      "SENTENCE  :  Emmène\n",
      "SUBJECTs  :  []\n",
      "OBJECTs   :  []\n",
      "VERBS     :  []\n"
     ]
    },
    {
     "data": {
      "application/vnd.jupyter.widget-view+json": {
       "model_id": "1a3b75ce821d44109ccdb8f602127a84",
       "version_major": 2,
       "version_minor": 0
      },
      "text/plain": [
       "DagreD3Widget()"
      ]
     },
     "metadata": {},
     "output_type": "display_data"
    },
    {
     "name": "stdout",
     "output_type": "stream",
     "text": [
      "=========================\n",
      "\n",
      "INDEX     :  31\n",
      "SENTENCE  :  l'enfant dans la forêt !\n",
      "SUBJECTs  :  []\n",
      "OBJECTs   :  []\n",
      "VERBS     :  []\n"
     ]
    },
    {
     "data": {
      "application/vnd.jupyter.widget-view+json": {
       "model_id": "8c293ca34e5b4cb9beb960775e9fe39a",
       "version_major": 2,
       "version_minor": 0
      },
      "text/plain": [
       "DagreD3Widget()"
      ]
     },
     "metadata": {},
     "output_type": "display_data"
    },
    {
     "name": "stdout",
     "output_type": "stream",
     "text": [
      "=========================\n",
      "\n",
      "INDEX     :  32\n",
      "SENTENCE  :  je ne veux plus la voir.\n",
      "SUBJECTs  :  []\n",
      "OBJECTs   :  []\n",
      "VERBS     :  [je ne veux, la voir]\n"
     ]
    },
    {
     "data": {
      "application/vnd.jupyter.widget-view+json": {
       "model_id": "b44f86dfabae4029a2b431ed0683eca7",
       "version_major": 2,
       "version_minor": 0
      },
      "text/plain": [
       "DagreD3Widget()"
      ]
     },
     "metadata": {},
     "output_type": "display_data"
    },
    {
     "name": "stdout",
     "output_type": "stream",
     "text": [
      "=========================\n",
      "\n",
      "INDEX     :  33\n",
      "SENTENCE  :  Tue-la et rapporte-moi pour preuve de sa mort ses poumons et son foie.\n",
      "SUBJECTs  :  []\n",
      "OBJECTs   :  [ses poumons et son foie]\n",
      "VERBS     :  [Tue-la et rapporte-moi, Tue-la, rapporte-moi]\n"
     ]
    },
    {
     "data": {
      "application/vnd.jupyter.widget-view+json": {
       "model_id": "e94218ec7a6a4ebd87e345f131f8ac7f",
       "version_major": 2,
       "version_minor": 0
      },
      "text/plain": [
       "DagreD3Widget()"
      ]
     },
     "metadata": {},
     "output_type": "display_data"
    },
    {
     "name": "stdout",
     "output_type": "stream",
     "text": [
      "=========================\n",
      "\n",
      "INDEX     :  34\n",
      "SENTENCE  :  »Le chasseur obéit et conduisit Blanche-Neige dans le bois.\n",
      "SUBJECTs  :  [Le chasseur]\n",
      "OBJECTs   :  [Blanche-Neige]\n",
      "VERBS     :  [obéit et conduisit, obéit, conduisit]\n"
     ]
    },
    {
     "data": {
      "application/vnd.jupyter.widget-view+json": {
       "model_id": "6ba68f1e0d6c4015956d35c86aa095be",
       "version_major": 2,
       "version_minor": 0
      },
      "text/plain": [
       "DagreD3Widget()"
      ]
     },
     "metadata": {},
     "output_type": "display_data"
    },
    {
     "name": "stdout",
     "output_type": "stream",
     "text": [
      "=========================\n",
      "\n",
      "INDEX     :  35\n",
      "SENTENCE  :  Mais quand il eut dégainé son poignard pour en percer le cœur innocent de la jeune fille, celle-ci se mit à pleurer et dit : « Ô, cher chasseur, laisse-moi la vie !\n",
      "SUBJECTs  :  [celle-ci]\n",
      "OBJECTs   :  [son poignard, le cœur innocent de la jeune fille, la vie]\n",
      "VERBS     :  [se mit, il eut dégainé, en percer, pleurer, dit, laisse-moi]\n"
     ]
    },
    {
     "data": {
      "application/vnd.jupyter.widget-view+json": {
       "model_id": "ffe09af8ec634d318311193a4aa3dfb2",
       "version_major": 2,
       "version_minor": 0
      },
      "text/plain": [
       "DagreD3Widget()"
      ]
     },
     "metadata": {},
     "output_type": "display_data"
    },
    {
     "name": "stdout",
     "output_type": "stream",
     "text": [
      "=========================\n",
      "\n",
      "INDEX     :  36\n",
      "SENTENCE  :  Je m'enfoncerai au plus profond de la forêt et ne rentrerai jamais à la maison.\n",
      "SUBJECTs  :  []\n",
      "OBJECTs   :  []\n",
      "VERBS     :  [Je m'enfoncerai, ne rentrerai]\n"
     ]
    },
    {
     "data": {
      "application/vnd.jupyter.widget-view+json": {
       "model_id": "fe1694910d02410892c0b152b67aa026",
       "version_major": 2,
       "version_minor": 0
      },
      "text/plain": [
       "DagreD3Widget()"
      ]
     },
     "metadata": {},
     "output_type": "display_data"
    },
    {
     "name": "stdout",
     "output_type": "stream",
     "text": [
      "=========================\n",
      "\n",
      "INDEX     :  37\n",
      "SENTENCE  :  »Le chasseur eut pitié d'elle et dit : « Sauve-toi, pauvre enfant !\n",
      "SUBJECTs  :  [Le chasseur]\n",
      "OBJECTs   :  []\n",
      "VERBS     :  [eut pitié, dit, Sauve-toi]\n"
     ]
    },
    {
     "data": {
      "application/vnd.jupyter.widget-view+json": {
       "model_id": "71c3d175f0a5418eabc8b5ea18740ce5",
       "version_major": 2,
       "version_minor": 0
      },
      "text/plain": [
       "DagreD3Widget()"
      ]
     },
     "metadata": {},
     "output_type": "display_data"
    },
    {
     "name": "stdout",
     "output_type": "stream",
     "text": [
      "=========================\n",
      "\n",
      "INDEX     :  38\n",
      "SENTENCE  :  » Mais il songeait :\n",
      "SUBJECTs  :  []\n",
      "OBJECTs   :  []\n",
      "VERBS     :  [il songeait]\n"
     ]
    },
    {
     "data": {
      "application/vnd.jupyter.widget-view+json": {
       "model_id": "57e535b0d907410aaab08d9becc38376",
       "version_major": 2,
       "version_minor": 0
      },
      "text/plain": [
       "DagreD3Widget()"
      ]
     },
     "metadata": {},
     "output_type": "display_data"
    },
    {
     "name": "stdout",
     "output_type": "stream",
     "text": [
      "=========================\n",
      "\n",
      "INDEX     :  39\n",
      "SENTENCE  :  « \n",
      "SUBJECTs  :  [Les bêtes de la forêt]\n",
      "OBJECTs   :  [ ]\n",
      "VERBS     :  [auront tôt fait, te dévorer]\n"
     ]
    },
    {
     "data": {
      "application/vnd.jupyter.widget-view+json": {
       "model_id": "ac2be437e5974d2db2a411c741ff2b02",
       "version_major": 2,
       "version_minor": 0
      },
      "text/plain": [
       "DagreD3Widget()"
      ]
     },
     "metadata": {},
     "output_type": "display_data"
    },
    {
     "name": "stdout",
     "output_type": "stream",
     "text": [
      "=========================\n",
      "\n",
      "INDEX     :  40\n",
      "SENTENCE  :  » Un marcassin passait justement.\n",
      "SUBJECTs  :  [Un marcassin]\n",
      "OBJECTs   :  []\n",
      "VERBS     :  [passait]\n"
     ]
    },
    {
     "data": {
      "application/vnd.jupyter.widget-view+json": {
       "model_id": "c48d4f6004ec4f1d8785787ff7ce2252",
       "version_major": 2,
       "version_minor": 0
      },
      "text/plain": [
       "DagreD3Widget()"
      ]
     },
     "metadata": {},
     "output_type": "display_data"
    },
    {
     "name": "stdout",
     "output_type": "stream",
     "text": [
      "=========================\n",
      "\n",
      "INDEX     :  41\n",
      "SENTENCE  :  Le chasseur le tua de son poignard, prit ses poumons et son foie et les apporta à la reine comme preuves de la mort de Blanche-Neige.\n",
      "SUBJECTs  :  [Le chasseur]\n",
      "OBJECTs   :  [ses poumons et son foie]\n",
      "VERBS     :  [le tua, prit, les apporta]\n"
     ]
    },
    {
     "data": {
      "application/vnd.jupyter.widget-view+json": {
       "model_id": "d3c6adf4d7004e0897d4816707632a85",
       "version_major": 2,
       "version_minor": 0
      },
      "text/plain": [
       "DagreD3Widget()"
      ]
     },
     "metadata": {},
     "output_type": "display_data"
    },
    {
     "name": "stdout",
     "output_type": "stream",
     "text": [
      "=========================\n",
      "\n",
      "INDEX     :  42\n",
      "SENTENCE  :  Le cuisinier reçut ordre de les apprêter et la méchante femme les mangea, s'imaginant qu'ils avaient appartenu à Blanche-Neige. , La pauvre petite, elle, était au milieu des bois, toute seule.\n",
      "SUBJECTs  :  [Le cuisinier, la méchante femme, La pauvre petite]\n",
      "OBJECTs   :  [ordre]\n",
      "VERBS     :  [reçut, les mangea, les apprêter, était, s'imaginant, ils avaient appartenu]\n"
     ]
    },
    {
     "data": {
      "application/vnd.jupyter.widget-view+json": {
       "model_id": "880a7d9e2c144fa596d8eeb3ea3532d5",
       "version_major": 2,
       "version_minor": 0
      },
      "text/plain": [
       "DagreD3Widget()"
      ]
     },
     "metadata": {},
     "output_type": "display_data"
    },
    {
     "name": "stdout",
     "output_type": "stream",
     "text": [
      "=========================\n",
      "\n",
      "INDEX     :  43\n",
      "SENTENCE  :  Sa peur était si grande qu'elle regardait toutes les feuilles de la forêt sans savoir ce qu'elle allait devenir.\n",
      "SUBJECTs  :  [Sa peur]\n",
      "OBJECTs   :  [toutes les feuilles de la forêt, ce qu'elle allait devenir, qu']\n",
      "VERBS     :  [était, elle regardait, savoir, elle allait, devenir]\n"
     ]
    },
    {
     "data": {
      "application/vnd.jupyter.widget-view+json": {
       "model_id": "4cec0619133b4e079311ea0cfea66508",
       "version_major": 2,
       "version_minor": 0
      },
      "text/plain": [
       "DagreD3Widget()"
      ]
     },
     "metadata": {},
     "output_type": "display_data"
    },
    {
     "name": "stdout",
     "output_type": "stream",
     "text": [
      "=========================\n",
      "\n",
      "INDEX     :  44\n",
      "SENTENCE  :  Elle se mit à courir sur les cailloux pointus et à travers les épines.\n",
      "SUBJECTs  :  []\n",
      "OBJECTs   :  []\n",
      "VERBS     :  [Elle se mit, courir]\n"
     ]
    },
    {
     "data": {
      "application/vnd.jupyter.widget-view+json": {
       "model_id": "e2b14fbcd995473e84428f8e7d3d0031",
       "version_major": 2,
       "version_minor": 0
      },
      "text/plain": [
       "DagreD3Widget()"
      ]
     },
     "metadata": {},
     "output_type": "display_data"
    },
    {
     "name": "stdout",
     "output_type": "stream",
     "text": [
      "=========================\n",
      "\n",
      "INDEX     :  45\n",
      "SENTENCE  :  Les bêtes sauvages bondissaient autour d'elle, mais ne lui faisaient aucun mal.\n",
      "SUBJECTs  :  [Les bêtes sauvages]\n",
      "OBJECTs   :  [aucun mal]\n",
      "VERBS     :  [bondissaient, ne lui faisaient]\n"
     ]
    },
    {
     "data": {
      "application/vnd.jupyter.widget-view+json": {
       "model_id": "a087a1c4a85e41ce93aca283405110c6",
       "version_major": 2,
       "version_minor": 0
      },
      "text/plain": [
       "DagreD3Widget()"
      ]
     },
     "metadata": {},
     "output_type": "display_data"
    },
    {
     "name": "stdout",
     "output_type": "stream",
     "text": [
      "=========================\n",
      "\n",
      "INDEX     :  46\n",
      "SENTENCE  :  Elle courut jusqu'au soir, aussi longtemps que ses jambes purent la porter.\n",
      "SUBJECTs  :  [ses jambes]\n",
      "OBJECTs   :  []\n",
      "VERBS     :  [Elle courut, purent, la porter]\n"
     ]
    },
    {
     "data": {
      "application/vnd.jupyter.widget-view+json": {
       "model_id": "643addad9fbf469480d5d46fd9315020",
       "version_major": 2,
       "version_minor": 0
      },
      "text/plain": [
       "DagreD3Widget()"
      ]
     },
     "metadata": {},
     "output_type": "display_data"
    },
    {
     "name": "stdout",
     "output_type": "stream",
     "text": [
      "=========================\n",
      "\n",
      "INDEX     :  47\n",
      "SENTENCE  :  Elle aperçut alors une petite maison et y pénétra pour s'y reposer.\n",
      "SUBJECTs  :  []\n",
      "OBJECTs   :  [une petite maison]\n",
      "VERBS     :  [Elle aperçut, y pénétra, s'y reposer]\n"
     ]
    },
    {
     "data": {
      "application/vnd.jupyter.widget-view+json": {
       "model_id": "2bbf3ede69574a4e861fde0dd4fe171c",
       "version_major": 2,
       "version_minor": 0
      },
      "text/plain": [
       "DagreD3Widget()"
      ]
     },
     "metadata": {},
     "output_type": "display_data"
    },
    {
     "name": "stdout",
     "output_type": "stream",
     "text": [
      "=========================\n",
      "\n",
      "INDEX     :  48\n",
      "SENTENCE  :  Dans la maisonnette, tout était minuscule, gracieux et propre.\n",
      "SUBJECTs  :  [tout]\n",
      "OBJECTs   :  []\n",
      "VERBS     :  [était]\n"
     ]
    },
    {
     "data": {
      "application/vnd.jupyter.widget-view+json": {
       "model_id": "1990d5b28ffc42d9974427c2dd74c524",
       "version_major": 2,
       "version_minor": 0
      },
      "text/plain": [
       "DagreD3Widget()"
      ]
     },
     "metadata": {},
     "output_type": "display_data"
    },
    {
     "name": "stdout",
     "output_type": "stream",
     "text": [
      "=========================\n",
      "\n",
      "INDEX     :  49\n",
      "SENTENCE  :  On y voyait une petite table couverte d'une nappe blanche, avec sept petites assiettes et sept petites cuillères, sept petites fourchettes et sept petits couteaux, et aussi sept petits gobelets.\n",
      "SUBJECTs  :  []\n",
      "OBJECTs   :  [une petite table couverte d'une nappe blanche, avec sept petites assiettes et sept petites cuillères, sept petites fourchettes et sept petits couteaux, et aussi sept petits gobelets]\n",
      "VERBS     :  [On y voyait]\n"
     ]
    },
    {
     "data": {
      "application/vnd.jupyter.widget-view+json": {
       "model_id": "a78d39844f2e4549976bbf0e995b868e",
       "version_major": 2,
       "version_minor": 0
      },
      "text/plain": [
       "DagreD3Widget()"
      ]
     },
     "metadata": {},
     "output_type": "display_data"
    },
    {
     "name": "stdout",
     "output_type": "stream",
     "text": [
      "=========================\n",
      "\n",
      "INDEX     :  50\n",
      "SENTENCE  :  Contre le mur, il y avait sept petits lits alignés les uns à côté des autres et recouverts de draps tout blancs.\n",
      "SUBJECTs  :  []\n",
      "OBJECTs   :  [sept petits lits alignés les uns à côté des autres et recouverts de draps tout blancs]\n",
      "VERBS     :  [il y avait]\n"
     ]
    },
    {
     "data": {
      "application/vnd.jupyter.widget-view+json": {
       "model_id": "8b96f6897db94c69b748b0a66a3da717",
       "version_major": 2,
       "version_minor": 0
      },
      "text/plain": [
       "DagreD3Widget()"
      ]
     },
     "metadata": {},
     "output_type": "display_data"
    },
    {
     "name": "stdout",
     "output_type": "stream",
     "text": [
      "=========================\n",
      "\n",
      "INDEX     :  51\n",
      "SENTENCE  :  Blanche\n",
      "SUBJECTs  :  []\n",
      "OBJECTs   :  []\n",
      "VERBS     :  []\n"
     ]
    },
    {
     "data": {
      "application/vnd.jupyter.widget-view+json": {
       "model_id": "d02f28de0fc34ba0bd6b4329f36664ed",
       "version_major": 2,
       "version_minor": 0
      },
      "text/plain": [
       "DagreD3Widget()"
      ]
     },
     "metadata": {},
     "output_type": "display_data"
    },
    {
     "name": "stdout",
     "output_type": "stream",
     "text": [
      "=========================\n",
      "\n",
      "INDEX     :  52\n",
      "SENTENCE  :  -Neige avait si faim et si soif qu'elle prit dans chaque assiette un peu de légumes et de pain et but une goutte de vin dans chaque gobelet car elle ne voulait pas manger la portion tout entière de l'un des convives.\n",
      "SUBJECTs  :  [-Neige]\n",
      "OBJECTs   :  [un peu de légumes et de pain, la portion tout entière de l'un des convives]\n",
      "VERBS     :  [avait, elle prit, elle ne voulait, manger]\n"
     ]
    },
    {
     "data": {
      "application/vnd.jupyter.widget-view+json": {
       "model_id": "a75bf85205cf4479abe2b9460bcda47e",
       "version_major": 2,
       "version_minor": 0
      },
      "text/plain": [
       "DagreD3Widget()"
      ]
     },
     "metadata": {},
     "output_type": "display_data"
    },
    {
     "name": "stdout",
     "output_type": "stream",
     "text": [
      "=========================\n",
      "\n",
      "INDEX     :  53\n",
      "SENTENCE  :  Fatiguée, elle voulut ensuite se coucher.\n",
      "SUBJECTs  :  []\n",
      "OBJECTs   :  []\n",
      "VERBS     :  [elle voulut, se coucher]\n"
     ]
    },
    {
     "data": {
      "application/vnd.jupyter.widget-view+json": {
       "model_id": "a2b930d1ba8a42569434fc9892e36782",
       "version_major": 2,
       "version_minor": 0
      },
      "text/plain": [
       "DagreD3Widget()"
      ]
     },
     "metadata": {},
     "output_type": "display_data"
    },
    {
     "name": "stdout",
     "output_type": "stream",
     "text": [
      "=========================\n",
      "\n",
      "INDEX     :  54\n",
      "SENTENCE  :  Mais aucun des lits ne lui convenait ;\n",
      "SUBJECTs  :  [aucun des lits]\n",
      "OBJECTs   :  [ ]\n",
      "VERBS     :  [ne lui convenait]\n"
     ]
    },
    {
     "data": {
      "application/vnd.jupyter.widget-view+json": {
       "model_id": "4698d2a948074025ba66f0a69720023e",
       "version_major": 2,
       "version_minor": 0
      },
      "text/plain": [
       "DagreD3Widget()"
      ]
     },
     "metadata": {},
     "output_type": "display_data"
    },
    {
     "name": "stdout",
     "output_type": "stream",
     "text": [
      "=========================\n",
      "\n",
      "INDEX     :  55\n",
      "SENTENCE  :  l'un était trop long, l'autre trop court.\n",
      "SUBJECTs  :  [l'un]\n",
      "OBJECTs   :  []\n",
      "VERBS     :  [était]\n"
     ]
    },
    {
     "data": {
      "application/vnd.jupyter.widget-view+json": {
       "model_id": "fc72f90a258a4f34a2c57bf5622df960",
       "version_major": 2,
       "version_minor": 0
      },
      "text/plain": [
       "DagreD3Widget()"
      ]
     },
     "metadata": {},
     "output_type": "display_data"
    },
    {
     "name": "stdout",
     "output_type": "stream",
     "text": [
      "=========================\n",
      "\n",
      "INDEX     :  56\n",
      "SENTENCE  :  Elle les essaya tous.\n",
      "SUBJECTs  :  []\n",
      "OBJECTs   :  [tous]\n",
      "VERBS     :  [Elle les essaya]\n"
     ]
    },
    {
     "data": {
      "application/vnd.jupyter.widget-view+json": {
       "model_id": "ab9e16d582c54d28a5e969b895438905",
       "version_major": 2,
       "version_minor": 0
      },
      "text/plain": [
       "DagreD3Widget()"
      ]
     },
     "metadata": {},
     "output_type": "display_data"
    },
    {
     "name": "stdout",
     "output_type": "stream",
     "text": [
      "=========================\n",
      "\n",
      "INDEX     :  57\n",
      "SENTENCE  :  Le septième, enfin, fut à sa taille.\n",
      "SUBJECTs  :  [Le septième]\n",
      "OBJECTs   :  []\n",
      "VERBS     :  [fut]\n"
     ]
    },
    {
     "data": {
      "application/vnd.jupyter.widget-view+json": {
       "model_id": "f3d461a8b7f2484697f4568bc1e7dd86",
       "version_major": 2,
       "version_minor": 0
      },
      "text/plain": [
       "DagreD3Widget()"
      ]
     },
     "metadata": {},
     "output_type": "display_data"
    },
    {
     "name": "stdout",
     "output_type": "stream",
     "text": [
      "=========================\n",
      "\n",
      "INDEX     :  58\n",
      "SENTENCE  :  Elle s'y allongea, se confia à Dieu et s'endormit. , Quand la nuit fut complètement tombée, les propriétaires de la maisonnette arrivèrent.\n",
      "SUBJECTs  :  [les propriétaires de la maisonnette, la nuit]\n",
      "OBJECTs   :  []\n",
      "VERBS     :  [Elle s'y allongea, se confia, s'endormit, arrivèrent, fut complètement tombée]\n"
     ]
    },
    {
     "data": {
      "application/vnd.jupyter.widget-view+json": {
       "model_id": "8abc527cd40149f7ba0b009512bb4156",
       "version_major": 2,
       "version_minor": 0
      },
      "text/plain": [
       "DagreD3Widget()"
      ]
     },
     "metadata": {},
     "output_type": "display_data"
    },
    {
     "name": "stdout",
     "output_type": "stream",
     "text": [
      "=========================\n",
      "\n",
      "INDEX     :  59\n",
      "SENTENCE  :  C'était sept nains qui, dans la montagne, travaillaient à la mine.\n",
      "SUBJECTs  :  [qui]\n",
      "OBJECTs   :  []\n",
      "VERBS     :  [C'était, travaillaient]\n"
     ]
    },
    {
     "data": {
      "application/vnd.jupyter.widget-view+json": {
       "model_id": "0abab8ff774f44a7aadf5e3773064719",
       "version_major": 2,
       "version_minor": 0
      },
      "text/plain": [
       "DagreD3Widget()"
      ]
     },
     "metadata": {},
     "output_type": "display_data"
    },
    {
     "name": "stdout",
     "output_type": "stream",
     "text": [
      "=========================\n",
      "\n",
      "INDEX     :  60\n",
      "SENTENCE  :  Ils allumèrent leurs sept petites lampes et quand la lumière illumina la pièce, ils virent que quelqu'un y était venu, car rien n'était plus tel qu'ils l'avaient laissé.\n",
      "SUBJECTs  :  [la lumière, quelqu'un, rien]\n",
      "OBJECTs   :  [leurs sept petites lampes, la pièce]\n",
      "VERBS     :  [Ils allumèrent, ils virent, illumina, y était venu, n'était, ils l'avaient laissé]\n"
     ]
    },
    {
     "data": {
      "application/vnd.jupyter.widget-view+json": {
       "model_id": "79bcf82f3d4d482f88b52270f9245d80",
       "version_major": 2,
       "version_minor": 0
      },
      "text/plain": [
       "DagreD3Widget()"
      ]
     },
     "metadata": {},
     "output_type": "display_data"
    },
    {
     "name": "stdout",
     "output_type": "stream",
     "text": [
      "=========================\n",
      "\n",
      "INDEX     :  61\n",
      "SENTENCE  :  Le premier dit :\n",
      "SUBJECTs  :  []\n",
      "OBJECTs   :  []\n",
      "VERBS     :  []\n"
     ]
    },
    {
     "data": {
      "application/vnd.jupyter.widget-view+json": {
       "model_id": "0d45c5595cd846f682842370ff24bd65",
       "version_major": 2,
       "version_minor": 0
      },
      "text/plain": [
       "DagreD3Widget()"
      ]
     },
     "metadata": {},
     "output_type": "display_data"
    },
    {
     "name": "stdout",
     "output_type": "stream",
     "text": [
      "=========================\n",
      "\n",
      "INDEX     :  62\n",
      "SENTENCE  :  Qui s'est assis sur ma petite chaise ?\n",
      "SUBJECTs  :  [Qui]\n",
      "OBJECTs   :  []\n",
      "VERBS     :  [s'est assis]\n"
     ]
    },
    {
     "data": {
      "application/vnd.jupyter.widget-view+json": {
       "model_id": "fe2bb407239f4058b04f833ddb8952f5",
       "version_major": 2,
       "version_minor": 0
      },
      "text/plain": [
       "DagreD3Widget()"
      ]
     },
     "metadata": {},
     "output_type": "display_data"
    },
    {
     "name": "stdout",
     "output_type": "stream",
     "text": [
      "=========================\n",
      "\n",
      "INDEX     :  63\n",
      "SENTENCE  :  »Le deuxième :\n",
      "SUBJECTs  :  []\n",
      "OBJECTs   :  []\n",
      "VERBS     :  []\n"
     ]
    },
    {
     "data": {
      "application/vnd.jupyter.widget-view+json": {
       "model_id": "ea52735d219646259036293fef92ab33",
       "version_major": 2,
       "version_minor": 0
      },
      "text/plain": [
       "DagreD3Widget()"
      ]
     },
     "metadata": {},
     "output_type": "display_data"
    },
    {
     "name": "stdout",
     "output_type": "stream",
     "text": [
      "=========================\n",
      "\n",
      "INDEX     :  64\n",
      "SENTENCE  :  « Qui a mangé dans ma petite assiette ?\n",
      "SUBJECTs  :  [Qui]\n",
      "OBJECTs   :  []\n",
      "VERBS     :  [a mangé]\n"
     ]
    },
    {
     "data": {
      "application/vnd.jupyter.widget-view+json": {
       "model_id": "f86ffc09c44e40ddb432f475bf813550",
       "version_major": 2,
       "version_minor": 0
      },
      "text/plain": [
       "DagreD3Widget()"
      ]
     },
     "metadata": {},
     "output_type": "display_data"
    },
    {
     "name": "stdout",
     "output_type": "stream",
     "text": [
      "=========================\n",
      "\n",
      "INDEX     :  65\n",
      "SENTENCE  :  »Le troisième :\n",
      "SUBJECTs  :  []\n",
      "OBJECTs   :  []\n",
      "VERBS     :  []\n"
     ]
    },
    {
     "data": {
      "application/vnd.jupyter.widget-view+json": {
       "model_id": "6bf4c0b5a52a4c16891f9b4b200a67be",
       "version_major": 2,
       "version_minor": 0
      },
      "text/plain": [
       "DagreD3Widget()"
      ]
     },
     "metadata": {},
     "output_type": "display_data"
    },
    {
     "name": "stdout",
     "output_type": "stream",
     "text": [
      "=========================\n",
      "\n",
      "INDEX     :  66\n",
      "SENTENCE  :  « Qui a pris de mon pain ?\n",
      "SUBJECTs  :  [Qui]\n",
      "OBJECTs   :  []\n",
      "VERBS     :  [a pris]\n"
     ]
    },
    {
     "data": {
      "application/vnd.jupyter.widget-view+json": {
       "model_id": "998f8744e0ae4eb3a398e03d333b5ea0",
       "version_major": 2,
       "version_minor": 0
      },
      "text/plain": [
       "DagreD3Widget()"
      ]
     },
     "metadata": {},
     "output_type": "display_data"
    },
    {
     "name": "stdout",
     "output_type": "stream",
     "text": [
      "=========================\n",
      "\n",
      "INDEX     :  67\n",
      "SENTENCE  :  »Le quatrième :\n",
      "SUBJECTs  :  []\n",
      "OBJECTs   :  []\n",
      "VERBS     :  []\n"
     ]
    },
    {
     "data": {
      "application/vnd.jupyter.widget-view+json": {
       "model_id": "a7ce2f62ba634f77bb7ba17bd9949cab",
       "version_major": 2,
       "version_minor": 0
      },
      "text/plain": [
       "DagreD3Widget()"
      ]
     },
     "metadata": {},
     "output_type": "display_data"
    },
    {
     "name": "stdout",
     "output_type": "stream",
     "text": [
      "=========================\n",
      "\n",
      "INDEX     :  68\n",
      "SENTENCE  :  « Qui a mangé de mes légumes ?\n",
      "SUBJECTs  :  [Qui]\n",
      "OBJECTs   :  []\n",
      "VERBS     :  [a mangé]\n"
     ]
    },
    {
     "data": {
      "application/vnd.jupyter.widget-view+json": {
       "model_id": "5a3104bce1f642b89439e70325be7d43",
       "version_major": 2,
       "version_minor": 0
      },
      "text/plain": [
       "DagreD3Widget()"
      ]
     },
     "metadata": {},
     "output_type": "display_data"
    },
    {
     "name": "stdout",
     "output_type": "stream",
     "text": [
      "=========================\n",
      "\n",
      "INDEX     :  69\n",
      "SENTENCE  :  »Le cinquième :\n",
      "SUBJECTs  :  []\n",
      "OBJECTs   :  []\n",
      "VERBS     :  []\n"
     ]
    },
    {
     "data": {
      "application/vnd.jupyter.widget-view+json": {
       "model_id": "7164125596cb43a38f7afa01bfe24e1a",
       "version_major": 2,
       "version_minor": 0
      },
      "text/plain": [
       "DagreD3Widget()"
      ]
     },
     "metadata": {},
     "output_type": "display_data"
    },
    {
     "name": "stdout",
     "output_type": "stream",
     "text": [
      "=========================\n",
      "\n",
      "INDEX     :  70\n",
      "SENTENCE  :  « \n",
      "SUBJECTs  :  [Qui]\n",
      "OBJECTs   :  []\n",
      "VERBS     :  [s'est servi]\n"
     ]
    },
    {
     "data": {
      "application/vnd.jupyter.widget-view+json": {
       "model_id": "507f6dbd040f4887b76b881704eadd45",
       "version_major": 2,
       "version_minor": 0
      },
      "text/plain": [
       "DagreD3Widget()"
      ]
     },
     "metadata": {},
     "output_type": "display_data"
    },
    {
     "name": "stdout",
     "output_type": "stream",
     "text": [
      "=========================\n",
      "\n",
      "INDEX     :  71\n",
      "SENTENCE  :  »Le sixième :\n",
      "SUBJECTs  :  []\n",
      "OBJECTs   :  []\n",
      "VERBS     :  []\n"
     ]
    },
    {
     "data": {
      "application/vnd.jupyter.widget-view+json": {
       "model_id": "a588c1248e8248edb60a1cb325e4b5ba",
       "version_major": 2,
       "version_minor": 0
      },
      "text/plain": [
       "DagreD3Widget()"
      ]
     },
     "metadata": {},
     "output_type": "display_data"
    },
    {
     "name": "stdout",
     "output_type": "stream",
     "text": [
      "=========================\n",
      "\n",
      "INDEX     :  72\n",
      "SENTENCE  :  « Qui a coupé avec mon couteau ?\n",
      "SUBJECTs  :  [Qui]\n",
      "OBJECTs   :  []\n",
      "VERBS     :  [a coupé]\n"
     ]
    },
    {
     "data": {
      "application/vnd.jupyter.widget-view+json": {
       "model_id": "76bfceb73c8b4ba2991a1fbde937cafb",
       "version_major": 2,
       "version_minor": 0
      },
      "text/plain": [
       "DagreD3Widget()"
      ]
     },
     "metadata": {},
     "output_type": "display_data"
    },
    {
     "name": "stdout",
     "output_type": "stream",
     "text": [
      "=========================\n",
      "\n",
      "INDEX     :  73\n",
      "SENTENCE  :  »Le septième :\n",
      "SUBJECTs  :  []\n",
      "OBJECTs   :  []\n",
      "VERBS     :  []\n"
     ]
    },
    {
     "data": {
      "application/vnd.jupyter.widget-view+json": {
       "model_id": "6b6d6848aea74975a72f3610ceacdd0a",
       "version_major": 2,
       "version_minor": 0
      },
      "text/plain": [
       "DagreD3Widget()"
      ]
     },
     "metadata": {},
     "output_type": "display_data"
    },
    {
     "name": "stdout",
     "output_type": "stream",
     "text": [
      "=========================\n",
      "\n",
      "INDEX     :  74\n",
      "SENTENCE  :  « Qui a bu dans mon gobelet ?\n",
      "SUBJECTs  :  [Qui]\n",
      "OBJECTs   :  []\n",
      "VERBS     :  [a bu]\n"
     ]
    },
    {
     "data": {
      "application/vnd.jupyter.widget-view+json": {
       "model_id": "2388c190f60746859ed888749fb966d6",
       "version_major": 2,
       "version_minor": 0
      },
      "text/plain": [
       "DagreD3Widget()"
      ]
     },
     "metadata": {},
     "output_type": "display_data"
    },
    {
     "name": "stdout",
     "output_type": "stream",
     "text": [
      "=========================\n",
      "\n",
      "INDEX     :  75\n",
      "SENTENCE  :  »Le premier, en se retournant, vit que son lit avait été dérangé.\n",
      "SUBJECTs  :  [Le premier, son lit]\n",
      "OBJECTs   :  []\n",
      "VERBS     :  [vit, se retournant, avait été dérangé]\n"
     ]
    },
    {
     "data": {
      "application/vnd.jupyter.widget-view+json": {
       "model_id": "9407701746ae4586ae0dad88899f2e5f",
       "version_major": 2,
       "version_minor": 0
      },
      "text/plain": [
       "DagreD3Widget()"
      ]
     },
     "metadata": {},
     "output_type": "display_data"
    },
    {
     "name": "stdout",
     "output_type": "stream",
     "text": [
      "=========================\n",
      "\n",
      "INDEX     :  76\n",
      "SENTENCE  :  « Qui a touché à mon lit ?\n",
      "SUBJECTs  :  [Qui]\n",
      "OBJECTs   :  []\n",
      "VERBS     :  [a touché]\n"
     ]
    },
    {
     "data": {
      "application/vnd.jupyter.widget-view+json": {
       "model_id": "65e1497b7d8446fdb3dd932bb36ffc0a",
       "version_major": 2,
       "version_minor": 0
      },
      "text/plain": [
       "DagreD3Widget()"
      ]
     },
     "metadata": {},
     "output_type": "display_data"
    },
    {
     "name": "stdout",
     "output_type": "stream",
     "text": [
      "=========================\n",
      "\n",
      "INDEX     :  77\n",
      "SENTENCE  :  » dit-il.\n",
      "SUBJECTs  :  []\n",
      "OBJECTs   :  []\n",
      "VERBS     :  [dit-il]\n"
     ]
    },
    {
     "data": {
      "application/vnd.jupyter.widget-view+json": {
       "model_id": "c2c5bc7466044a9cb4b9bbf611906255",
       "version_major": 2,
       "version_minor": 0
      },
      "text/plain": [
       "DagreD3Widget()"
      ]
     },
     "metadata": {},
     "output_type": "display_data"
    },
    {
     "name": "stdout",
     "output_type": "stream",
     "text": [
      "=========================\n",
      "\n",
      "INDEX     :  78\n",
      "SENTENCE  :  Les autres s'approchèrent en courant et chacun s'écria :\n",
      "SUBJECTs  :  [Les autres, chacun]\n",
      "OBJECTs   :  []\n",
      "VERBS     :  [s'approchèrent, courant, s'écria]\n"
     ]
    },
    {
     "data": {
      "application/vnd.jupyter.widget-view+json": {
       "model_id": "9a9e612d2af043358384d30f7b4feb05",
       "version_major": 2,
       "version_minor": 0
      },
      "text/plain": [
       "DagreD3Widget()"
      ]
     },
     "metadata": {},
     "output_type": "display_data"
    },
    {
     "name": "stdout",
     "output_type": "stream",
     "text": [
      "=========================\n",
      "\n",
      "INDEX     :  79\n",
      "SENTENCE  :  « Dans le mien aussi quelqu'un s'est couché !\n",
      "SUBJECTs  :  [quelqu'un]\n",
      "OBJECTs   :  []\n",
      "VERBS     :  [s'est couché]\n"
     ]
    },
    {
     "data": {
      "application/vnd.jupyter.widget-view+json": {
       "model_id": "add9622c2e064f328ad6bc19e66842f7",
       "version_major": 2,
       "version_minor": 0
      },
      "text/plain": [
       "DagreD3Widget()"
      ]
     },
     "metadata": {},
     "output_type": "display_data"
    },
    {
     "name": "stdout",
     "output_type": "stream",
     "text": [
      "=========================\n",
      "\n",
      "INDEX     :  80\n",
      "SENTENCE  :  »Mais le septième, quand il regarda son lit, y vit Blanche-Neige endormie.\n",
      "SUBJECTs  :  []\n",
      "OBJECTs   :  [son lit]\n",
      "VERBS     :  [y vit, il regarda]\n"
     ]
    },
    {
     "data": {
      "application/vnd.jupyter.widget-view+json": {
       "model_id": "809bbd921e934beaa2fd83731ec00a73",
       "version_major": 2,
       "version_minor": 0
      },
      "text/plain": [
       "DagreD3Widget()"
      ]
     },
     "metadata": {},
     "output_type": "display_data"
    },
    {
     "name": "stdout",
     "output_type": "stream",
     "text": [
      "=========================\n",
      "\n",
      "INDEX     :  81\n",
      "SENTENCE  :  Il appela les autres, qui vinrent bien vite et poussèrent des cris étonnés.\n",
      "SUBJECTs  :  [qui]\n",
      "OBJECTs   :  [les autres, qui vinrent bien vite et poussèrent des cris étonnés, des cris étonnés]\n",
      "VERBS     :  [Il appela, vinrent, poussèrent]\n"
     ]
    },
    {
     "data": {
      "application/vnd.jupyter.widget-view+json": {
       "model_id": "5d4452e1648b4fb3821d2c27acc3b48f",
       "version_major": 2,
       "version_minor": 0
      },
      "text/plain": [
       "DagreD3Widget()"
      ]
     },
     "metadata": {},
     "output_type": "display_data"
    },
    {
     "name": "stdout",
     "output_type": "stream",
     "text": [
      "=========================\n",
      "\n",
      "INDEX     :  82\n",
      "SENTENCE  :  Ils prirent leurs sept petites lampes et éclairèrent le visage de Blanche-Neige.\n",
      "SUBJECTs  :  []\n",
      "OBJECTs   :  [leurs sept petites lampes, le visage de Blanche-Neige]\n",
      "VERBS     :  [Ils prirent, éclairèrent]\n"
     ]
    },
    {
     "data": {
      "application/vnd.jupyter.widget-view+json": {
       "model_id": "146c576bfd3347ea92329999d16bcdac",
       "version_major": 2,
       "version_minor": 0
      },
      "text/plain": [
       "DagreD3Widget()"
      ]
     },
     "metadata": {},
     "output_type": "display_data"
    },
    {
     "name": "stdout",
     "output_type": "stream",
     "text": [
      "=========================\n",
      "\n",
      "INDEX     :  83\n",
      "SENTENCE  :  «\n",
      "SUBJECTs  :  []\n",
      "OBJECTs   :  []\n",
      "VERBS     :  []\n"
     ]
    },
    {
     "data": {
      "application/vnd.jupyter.widget-view+json": {
       "model_id": "2d340fbe362d420dbd7700d8dea8ff6a",
       "version_major": 2,
       "version_minor": 0
      },
      "text/plain": [
       "DagreD3Widget()"
      ]
     },
     "metadata": {},
     "output_type": "display_data"
    },
    {
     "name": "stdout",
     "output_type": "stream",
     "text": [
      "=========================\n",
      "\n",
      "INDEX     :  84\n",
      "SENTENCE  :  Seigneur Dieu !\n",
      "SUBJECTs  :  []\n",
      "OBJECTs   :  []\n",
      "VERBS     :  []\n"
     ]
    },
    {
     "data": {
      "application/vnd.jupyter.widget-view+json": {
       "model_id": "7845e526d5724aa4a4fc0acd7b5dcfc0",
       "version_major": 2,
       "version_minor": 0
      },
      "text/plain": [
       "DagreD3Widget()"
      ]
     },
     "metadata": {},
     "output_type": "display_data"
    },
    {
     "name": "stdout",
     "output_type": "stream",
     "text": [
      "=========================\n",
      "\n",
      "INDEX     :  85\n",
      "SENTENCE  :  Seigneur Dieu !\n",
      "SUBJECTs  :  []\n",
      "OBJECTs   :  []\n",
      "VERBS     :  []\n"
     ]
    },
    {
     "data": {
      "application/vnd.jupyter.widget-view+json": {
       "model_id": "aba43c9b36734526a487f70ccac41dfa",
       "version_major": 2,
       "version_minor": 0
      },
      "text/plain": [
       "DagreD3Widget()"
      ]
     },
     "metadata": {},
     "output_type": "display_data"
    },
    {
     "name": "stdout",
     "output_type": "stream",
     "text": [
      "=========================\n",
      "\n",
      "INDEX     :  86\n",
      "SENTENCE  :  s'écrièrent-ils ;\n",
      "SUBJECTs  :  []\n",
      "OBJECTs   :  [ ]\n",
      "VERBS     :  [s'écrièrent-ils]\n"
     ]
    },
    {
     "data": {
      "application/vnd.jupyter.widget-view+json": {
       "model_id": "7682a3d2ba944272bd5687ac0078d8b3",
       "version_major": 2,
       "version_minor": 0
      },
      "text/plain": [
       "DagreD3Widget()"
      ]
     },
     "metadata": {},
     "output_type": "display_data"
    },
    {
     "name": "stdout",
     "output_type": "stream",
     "text": [
      "=========================\n",
      "\n",
      "INDEX     :  87\n",
      "SENTENCE  :  que cette enfant est jolie !\n",
      "SUBJECTs  :  [cette enfant]\n",
      "OBJECTs   :  []\n",
      "VERBS     :  [est]\n"
     ]
    },
    {
     "data": {
      "application/vnd.jupyter.widget-view+json": {
       "model_id": "22112cabfe8c4a679253075000d00855",
       "version_major": 2,
       "version_minor": 0
      },
      "text/plain": [
       "DagreD3Widget()"
      ]
     },
     "metadata": {},
     "output_type": "display_data"
    },
    {
     "name": "stdout",
     "output_type": "stream",
     "text": [
      "=========================\n",
      "\n",
      "INDEX     :  88\n",
      "SENTENCE  :  »\n",
      "SUBJECTs  :  []\n",
      "OBJECTs   :  []\n",
      "VERBS     :  []\n"
     ]
    },
    {
     "data": {
      "application/vnd.jupyter.widget-view+json": {
       "model_id": "319c89b6ca03413d8ebf17a93c479ca4",
       "version_major": 2,
       "version_minor": 0
      },
      "text/plain": [
       "DagreD3Widget()"
      ]
     },
     "metadata": {},
     "output_type": "display_data"
    },
    {
     "name": "stdout",
     "output_type": "stream",
     "text": [
      "=========================\n",
      "\n",
      "INDEX     :  89\n",
      "SENTENCE  :  Ils en eurent tant de joie qu'ils ne l'éveillèrent pas et la laissèrent dormir dans le petit lit.\n",
      "SUBJECTs  :  []\n",
      "OBJECTs   :  [tant de joie]\n",
      "VERBS     :  [Ils en eurent, ils ne l'éveillèrent, la laissèrent, dormir]\n"
     ]
    },
    {
     "data": {
      "application/vnd.jupyter.widget-view+json": {
       "model_id": "d737d76efcdc4819900e20fd32d44ecc",
       "version_major": 2,
       "version_minor": 0
      },
      "text/plain": [
       "DagreD3Widget()"
      ]
     },
     "metadata": {},
     "output_type": "display_data"
    },
    {
     "name": "stdout",
     "output_type": "stream",
     "text": [
      "=========================\n",
      "\n",
      "INDEX     :  90\n",
      "SENTENCE  :  Le septième des nains coucha avec ses compagnons, une heure avec chacun, et la nuit passa ainsi. , Au matin, Blanche-Neige s'éveilla.\n",
      "SUBJECTs  :  [Le septième des nains, Blanche-Neige, la nuit]\n",
      "OBJECTs   :  []\n",
      "VERBS     :  [coucha, s'éveilla, passa]\n"
     ]
    },
    {
     "data": {
      "application/vnd.jupyter.widget-view+json": {
       "model_id": "a7cc8d8b3d35408bac36d269d0095b77",
       "version_major": 2,
       "version_minor": 0
      },
      "text/plain": [
       "DagreD3Widget()"
      ]
     },
     "metadata": {},
     "output_type": "display_data"
    },
    {
     "name": "stdout",
     "output_type": "stream",
     "text": [
      "=========================\n",
      "\n",
      "INDEX     :  91\n",
      "SENTENCE  :  Quand elle vit les sept nains, elle s'effraya.\n",
      "SUBJECTs  :  []\n",
      "OBJECTs   :  [les sept nains]\n",
      "VERBS     :  [elle s'effraya, elle vit]\n"
     ]
    },
    {
     "data": {
      "application/vnd.jupyter.widget-view+json": {
       "model_id": "0b6de5422a3747d1bc6386787b6616b0",
       "version_major": 2,
       "version_minor": 0
      },
      "text/plain": [
       "DagreD3Widget()"
      ]
     },
     "metadata": {},
     "output_type": "display_data"
    },
    {
     "name": "stdout",
     "output_type": "stream",
     "text": [
      "=========================\n",
      "\n",
      "INDEX     :  92\n",
      "SENTENCE  :  Mais ils la regardaient avec amitié et posaient déjà des questions :\n",
      "SUBJECTs  :  []\n",
      "OBJECTs   :  [des questions ]\n",
      "VERBS     :  [ils la regardaient, posaient]\n"
     ]
    },
    {
     "data": {
      "application/vnd.jupyter.widget-view+json": {
       "model_id": "683c3af1a19d46499c31ec8c87585856",
       "version_major": 2,
       "version_minor": 0
      },
      "text/plain": [
       "DagreD3Widget()"
      ]
     },
     "metadata": {},
     "output_type": "display_data"
    },
    {
     "name": "stdout",
     "output_type": "stream",
     "text": [
      "=========================\n",
      "\n",
      "INDEX     :  93\n",
      "SENTENCE  :  « Comment t'appelles\n",
      "SUBJECTs  :  []\n",
      "OBJECTs   :  []\n",
      "VERBS     :  [t'appelles]\n"
     ]
    },
    {
     "data": {
      "application/vnd.jupyter.widget-view+json": {
       "model_id": "97909794e2574734967b5b5e6daa64ab",
       "version_major": 2,
       "version_minor": 0
      },
      "text/plain": [
       "DagreD3Widget()"
      ]
     },
     "metadata": {},
     "output_type": "display_data"
    },
    {
     "name": "stdout",
     "output_type": "stream",
     "text": [
      "=========================\n",
      "\n",
      "INDEX     :  94\n",
      "SENTENCE  :  -tu ?\n",
      "SUBJECTs  :  []\n",
      "OBJECTs   :  []\n",
      "VERBS     :  [-tu ]\n"
     ]
    },
    {
     "data": {
      "application/vnd.jupyter.widget-view+json": {
       "model_id": "7249e378a53e42539b1b69134e7267b9",
       "version_major": 2,
       "version_minor": 0
      },
      "text/plain": [
       "DagreD3Widget()"
      ]
     },
     "metadata": {},
     "output_type": "display_data"
    },
    {
     "name": "stdout",
     "output_type": "stream",
     "text": [
      "=========================\n",
      "\n",
      "INDEX     :  95\n",
      "SENTENCE  :  — Je m'appelle Blanche-Neige, répondit\n",
      "SUBJECTs  :  []\n",
      "OBJECTs   :  []\n",
      "VERBS     :  [es-tu venue]\n"
     ]
    },
    {
     "data": {
      "application/vnd.jupyter.widget-view+json": {
       "model_id": "f8dcdc0ce3f54847830429d2d1e9951b",
       "version_major": 2,
       "version_minor": 0
      },
      "text/plain": [
       "DagreD3Widget()"
      ]
     },
     "metadata": {},
     "output_type": "display_data"
    },
    {
     "name": "stdout",
     "output_type": "stream",
     "text": [
      "=========================\n",
      "\n",
      "INDEX     :  96\n",
      "SENTENCE  :  »Elle leur raconta que sa belle-mère avait voulu la faire tuer, mais que le chasseur lui avait laissé la vie sauve et qu'elle avait ensuite couru tout le jour jusqu'à ce qu'elle trouvât cette petite maison.\n",
      "SUBJECTs  :  [sa belle-mère, le chasseur]\n",
      "OBJECTs   :  [la vie, cette petite maison]\n",
      "VERBS     :  [Elle leur raconta, avait voulu, la faire tuer, lui avait laissé, elle avait ensuite couru, elle trouvât]\n"
     ]
    },
    {
     "data": {
      "application/vnd.jupyter.widget-view+json": {
       "model_id": "9e73cb8728b4423ca57ec7a30700a0db",
       "version_major": 2,
       "version_minor": 0
      },
      "text/plain": [
       "DagreD3Widget()"
      ]
     },
     "metadata": {},
     "output_type": "display_data"
    },
    {
     "name": "stdout",
     "output_type": "stream",
     "text": [
      "=========================\n",
      "\n",
      "INDEX     :  97\n",
      "SENTENCE  :  Les nains lui dirent :\n",
      "SUBJECTs  :  [Les nains]\n",
      "OBJECTs   :  []\n",
      "VERBS     :  [lui dirent]\n"
     ]
    },
    {
     "data": {
      "application/vnd.jupyter.widget-view+json": {
       "model_id": "19ad113515564ea0a75f25973c2d883f",
       "version_major": 2,
       "version_minor": 0
      },
      "text/plain": [
       "DagreD3Widget()"
      ]
     },
     "metadata": {},
     "output_type": "display_data"
    },
    {
     "name": "stdout",
     "output_type": "stream",
     "text": [
      "=========================\n",
      "\n",
      "INDEX     :  98\n",
      "SENTENCE  :  «\n",
      "SUBJECTs  :  []\n",
      "OBJECTs   :  []\n",
      "VERBS     :  []\n"
     ]
    },
    {
     "data": {
      "application/vnd.jupyter.widget-view+json": {
       "model_id": "773ea70c895a4465be1e98b4ed94f764",
       "version_major": 2,
       "version_minor": 0
      },
      "text/plain": [
       "DagreD3Widget()"
      ]
     },
     "metadata": {},
     "output_type": "display_data"
    },
    {
     "name": "stdout",
     "output_type": "stream",
     "text": [
      "=========================\n",
      "\n",
      "INDEX     :  99\n",
      "SENTENCE  :  Si tu veux t'occuper de notre ménage, faire à manger, faire les lits, laver, coudre et tricoter, si tu tiens tout en ordre et en propreté, tu pourras rester avec nous et tu ne manqueras de rien.— D'accord, d'accord de tout mon cœur, » dit Blanche-Neige.\n",
      "SUBJECTs  :  [Blanche-Neige]\n",
      "OBJECTs   :  [les lits]\n",
      "VERBS     :  [tu veux, tu pourras rester avec nous et tu ne manqueras, t'occuper, faire à manger, manger, faire, laver, coudre, tricoter, tu tiens, tu pourras, tu ne manqueras, rester, dit]\n"
     ]
    },
    {
     "data": {
      "application/vnd.jupyter.widget-view+json": {
       "model_id": "e46f06d27d1d4146a8e18d5cad17a6a7",
       "version_major": 2,
       "version_minor": 0
      },
      "text/plain": [
       "DagreD3Widget()"
      ]
     },
     "metadata": {},
     "output_type": "display_data"
    },
    {
     "name": "stdout",
     "output_type": "stream",
     "text": [
      "=========================\n",
      "\n",
      "INDEX     :  100\n",
      "SENTENCE  :  Et elle resta auprès d'eux.\n",
      "SUBJECTs  :  []\n",
      "OBJECTs   :  []\n",
      "VERBS     :  [elle resta]\n"
     ]
    },
    {
     "data": {
      "application/vnd.jupyter.widget-view+json": {
       "model_id": "c22133e1654248198119f30eea050116",
       "version_major": 2,
       "version_minor": 0
      },
      "text/plain": [
       "DagreD3Widget()"
      ]
     },
     "metadata": {},
     "output_type": "display_data"
    },
    {
     "name": "stdout",
     "output_type": "stream",
     "text": [
      "=========================\n",
      "\n",
      "INDEX     :  101\n",
      "SENTENCE  :  Elle s'occupa de la maison.\n",
      "SUBJECTs  :  []\n",
      "OBJECTs   :  []\n",
      "VERBS     :  [Elle s'occupa]\n"
     ]
    },
    {
     "data": {
      "application/vnd.jupyter.widget-view+json": {
       "model_id": "99aae0ad187947fbab90df78d072613e",
       "version_major": 2,
       "version_minor": 0
      },
      "text/plain": [
       "DagreD3Widget()"
      ]
     },
     "metadata": {},
     "output_type": "display_data"
    },
    {
     "name": "stdout",
     "output_type": "stream",
     "text": [
      "=========================\n",
      "\n",
      "INDEX     :  102\n",
      "SENTENCE  :  Le matin, les nains partaient pour la montagne où ils arrachaient le fer et l'or ;\n",
      "SUBJECTs  :  [les nains]\n",
      "OBJECTs   :  [le fer et l'or ]\n",
      "VERBS     :  [partaient, ils arrachaient]\n"
     ]
    },
    {
     "data": {
      "application/vnd.jupyter.widget-view+json": {
       "model_id": "bb1ad02648eb4931be145af63b80f811",
       "version_major": 2,
       "version_minor": 0
      },
      "text/plain": [
       "DagreD3Widget()"
      ]
     },
     "metadata": {},
     "output_type": "display_data"
    },
    {
     "name": "stdout",
     "output_type": "stream",
     "text": [
      "=========================\n",
      "\n",
      "INDEX     :  103\n",
      "SENTENCE  :  le soir, ils s'en revenaient et il fallait que leur repas fût prêt.\n",
      "SUBJECTs  :  [leur repas]\n",
      "OBJECTs   :  []\n",
      "VERBS     :  [ils s'en revenaient, il fallait, fût]\n"
     ]
    },
    {
     "data": {
      "application/vnd.jupyter.widget-view+json": {
       "model_id": "41d2d9c749e14f388614c4714576e4b9",
       "version_major": 2,
       "version_minor": 0
      },
      "text/plain": [
       "DagreD3Widget()"
      ]
     },
     "metadata": {},
     "output_type": "display_data"
    },
    {
     "name": "stdout",
     "output_type": "stream",
     "text": [
      "=========================\n",
      "\n",
      "INDEX     :  104\n",
      "SENTENCE  :  Toute la journée, la jeune fille restait seule ;\n",
      "SUBJECTs  :  [la jeune fille]\n",
      "OBJECTs   :  []\n",
      "VERBS     :  [restait]\n"
     ]
    },
    {
     "data": {
      "application/vnd.jupyter.widget-view+json": {
       "model_id": "30b099e68f0f41b2a287edbcc752d093",
       "version_major": 2,
       "version_minor": 0
      },
      "text/plain": [
       "DagreD3Widget()"
      ]
     },
     "metadata": {},
     "output_type": "display_data"
    },
    {
     "name": "stdout",
     "output_type": "stream",
     "text": [
      "=========================\n",
      "\n",
      "INDEX     :  105\n",
      "SENTENCE  :  les bons petits nains l'avaient mise en garde : « Méfie-toi de ta belle-mère !\n",
      "SUBJECTs  :  [les bons petits nains]\n",
      "OBJECTs   :  []\n",
      "VERBS     :  [l'avaient mise en garde, Méfie-toi]\n"
     ]
    },
    {
     "data": {
      "application/vnd.jupyter.widget-view+json": {
       "model_id": "b201cb2d4219400da7cc2f18a1c0704e",
       "version_major": 2,
       "version_minor": 0
      },
      "text/plain": [
       "DagreD3Widget()"
      ]
     },
     "metadata": {},
     "output_type": "display_data"
    },
    {
     "name": "stdout",
     "output_type": "stream",
     "text": [
      "=========================\n",
      "\n",
      "INDEX     :  106\n",
      "SENTENCE  :  Elle saura bientôt que tu es ici ;\n",
      "SUBJECTs  :  []\n",
      "OBJECTs   :  []\n",
      "VERBS     :  [Elle saura, tu es]\n"
     ]
    },
    {
     "data": {
      "application/vnd.jupyter.widget-view+json": {
       "model_id": "14a229c1e5984967ac49fde24c9388c2",
       "version_major": 2,
       "version_minor": 0
      },
      "text/plain": [
       "DagreD3Widget()"
      ]
     },
     "metadata": {},
     "output_type": "display_data"
    },
    {
     "name": "stdout",
     "output_type": "stream",
     "text": [
      "=========================\n",
      "\n",
      "INDEX     :  107\n",
      "SENTENCE  :  ne laisse entrer personne !\n",
      "SUBJECTs  :  []\n",
      "OBJECTs   :  [personne]\n",
      "VERBS     :  [ne laisse, entrer]\n"
     ]
    },
    {
     "data": {
      "application/vnd.jupyter.widget-view+json": {
       "model_id": "dc5e8d92ab1048e88202628f6cc8433e",
       "version_major": 2,
       "version_minor": 0
      },
      "text/plain": [
       "DagreD3Widget()"
      ]
     },
     "metadata": {},
     "output_type": "display_data"
    },
    {
     "name": "stdout",
     "output_type": "stream",
     "text": [
      "=========================\n",
      "\n",
      "INDEX     :  108\n",
      "SENTENCE  :  » , La reine, cependant, après avoir mangé les poumons et le foie de Blanche-Neige, s'imaginait qu'elle était redevenue la plus belle de toutes.\n",
      "SUBJECTs  :  [La reine]\n",
      "OBJECTs   :  [les poumons et le foie de Blanche-Neige]\n",
      "VERBS     :  [s'imaginait, avoir mangé, elle était redevenue]\n"
     ]
    },
    {
     "data": {
      "application/vnd.jupyter.widget-view+json": {
       "model_id": "02f1fcdeb1714d7b936103a9386caf65",
       "version_major": 2,
       "version_minor": 0
      },
      "text/plain": [
       "DagreD3Widget()"
      ]
     },
     "metadata": {},
     "output_type": "display_data"
    },
    {
     "name": "stdout",
     "output_type": "stream",
     "text": [
      "=========================\n",
      "\n",
      "INDEX     :  109\n",
      "SENTENCE  :  Elle se mit devant son miroir et demanda : « Miroir, miroir joli, qui est la plus belle au pays ?\n",
      "SUBJECTs  :  [qui]\n",
      "OBJECTs   :  []\n",
      "VERBS     :  [Elle se mit, demanda, est]\n"
     ]
    },
    {
     "data": {
      "application/vnd.jupyter.widget-view+json": {
       "model_id": "e5e73b17caa946dfac0c311af7addfaa",
       "version_major": 2,
       "version_minor": 0
      },
      "text/plain": [
       "DagreD3Widget()"
      ]
     },
     "metadata": {},
     "output_type": "display_data"
    },
    {
     "name": "stdout",
     "output_type": "stream",
     "text": [
      "=========================\n",
      "\n",
      "INDEX     :  110\n",
      "SENTENCE  :  » Le miroir répondit :\n",
      "SUBJECTs  :  [Le miroir]\n",
      "OBJECTs   :  []\n",
      "VERBS     :  [répondit]\n"
     ]
    },
    {
     "data": {
      "application/vnd.jupyter.widget-view+json": {
       "model_id": "176e0cf30370485cac317113cb79beb4",
       "version_major": 2,
       "version_minor": 0
      },
      "text/plain": [
       "DagreD3Widget()"
      ]
     },
     "metadata": {},
     "output_type": "display_data"
    },
    {
     "name": "stdout",
     "output_type": "stream",
     "text": [
      "=========================\n",
      "\n",
      "INDEX     :  111\n",
      "SENTENCE  :  « \n",
      "SUBJECTs  :  []\n",
      "OBJECTs   :  []\n",
      "VERBS     :  [vous êtes]\n"
     ]
    },
    {
     "data": {
      "application/vnd.jupyter.widget-view+json": {
       "model_id": "155dc2e5a4a247c89c47eb5a1080c932",
       "version_major": 2,
       "version_minor": 0
      },
      "text/plain": [
       "DagreD3Widget()"
      ]
     },
     "metadata": {},
     "output_type": "display_data"
    },
    {
     "name": "stdout",
     "output_type": "stream",
     "text": [
      "=========================\n",
      "\n",
      "INDEX     :  112\n",
      "SENTENCE  :  Mais, par-delà les monts d'airain, auprès des gentils petits nains, Blanche-Neige est mille fois plus belle.\n",
      "SUBJECTs  :  [Blanche-Neige]\n",
      "OBJECTs   :  []\n",
      "VERBS     :  [est]\n"
     ]
    },
    {
     "data": {
      "application/vnd.jupyter.widget-view+json": {
       "model_id": "125cbf19390e4c70bf57facf09db28a7",
       "version_major": 2,
       "version_minor": 0
      },
      "text/plain": [
       "DagreD3Widget()"
      ]
     },
     "metadata": {},
     "output_type": "display_data"
    },
    {
     "name": "stdout",
     "output_type": "stream",
     "text": [
      "=========================\n",
      "\n",
      "INDEX     :  113\n",
      "SENTENCE  :  »La reine en fut bouleversée ;\n",
      "SUBJECTs  :  [La reine]\n",
      "OBJECTs   :  []\n",
      "VERBS     :  [en fut bouleversée]\n"
     ]
    },
    {
     "data": {
      "application/vnd.jupyter.widget-view+json": {
       "model_id": "310edfe99c0a4f8489c1b623152ed502",
       "version_major": 2,
       "version_minor": 0
      },
      "text/plain": [
       "DagreD3Widget()"
      ]
     },
     "metadata": {},
     "output_type": "display_data"
    },
    {
     "name": "stdout",
     "output_type": "stream",
     "text": [
      "=========================\n",
      "\n",
      "INDEX     :  114\n",
      "SENTENCE  :  elle savait que le miroir ne pouvait mentir.\n",
      "SUBJECTs  :  [le miroir]\n",
      "OBJECTs   :  []\n",
      "VERBS     :  [elle savait, ne pouvait, mentir]\n"
     ]
    },
    {
     "data": {
      "application/vnd.jupyter.widget-view+json": {
       "model_id": "afa2b88f97ff4d2eb377a4c0bf4501c3",
       "version_major": 2,
       "version_minor": 0
      },
      "text/plain": [
       "DagreD3Widget()"
      ]
     },
     "metadata": {},
     "output_type": "display_data"
    },
    {
     "name": "stdout",
     "output_type": "stream",
     "text": [
      "=========================\n",
      "\n",
      "INDEX     :  115\n",
      "SENTENCE  :  Elle comprit que le chasseur l'avait trompée et que Blanche-Neige était toujours en vie.\n",
      "SUBJECTs  :  [le chasseur, Blanche-Neige]\n",
      "OBJECTs   :  []\n",
      "VERBS     :  [Elle comprit, l'avait trompée, était]\n"
     ]
    },
    {
     "data": {
      "application/vnd.jupyter.widget-view+json": {
       "model_id": "dfe32783b291431d87dd87c3b2932304",
       "version_major": 2,
       "version_minor": 0
      },
      "text/plain": [
       "DagreD3Widget()"
      ]
     },
     "metadata": {},
     "output_type": "display_data"
    },
    {
     "name": "stdout",
     "output_type": "stream",
     "text": [
      "=========================\n",
      "\n",
      "INDEX     :  116\n",
      "SENTENCE  :  Elle se creusa la tête pour trouver un nouveau moyen de la tuer car aussi longtemps qu'elle ne serait pas la plus belle au pays, elle savait que la jalousie ne lui laisserait aucun repos.\n",
      "SUBJECTs  :  [la jalousie]\n",
      "OBJECTs   :  [la tête, un nouveau moyen de la tuer, aucun repos]\n",
      "VERBS     :  [Elle se creusa, trouver, la tuer, elle savait, elle ne serait, ne lui laisserait]\n"
     ]
    },
    {
     "data": {
      "application/vnd.jupyter.widget-view+json": {
       "model_id": "3066da5070b246fdab8f8071fb6b27aa",
       "version_major": 2,
       "version_minor": 0
      },
      "text/plain": [
       "DagreD3Widget()"
      ]
     },
     "metadata": {},
     "output_type": "display_data"
    },
    {
     "name": "stdout",
     "output_type": "stream",
     "text": [
      "=========================\n",
      "\n",
      "INDEX     :  117\n",
      "SENTENCE  :  Ayant finalement découvert un stratagème, elle se farda le visage et s'habilla comme une vieille marchande ambulante.\n",
      "SUBJECTs  :  []\n",
      "OBJECTs   :  [le visage, un stratagème]\n",
      "VERBS     :  [elle se farda, Ayant finalement découvert, s'habilla]\n"
     ]
    },
    {
     "data": {
      "application/vnd.jupyter.widget-view+json": {
       "model_id": "6c3d50a9f36f40ba8a98dab2b6246462",
       "version_major": 2,
       "version_minor": 0
      },
      "text/plain": [
       "DagreD3Widget()"
      ]
     },
     "metadata": {},
     "output_type": "display_data"
    },
    {
     "name": "stdout",
     "output_type": "stream",
     "text": [
      "=========================\n",
      "\n",
      "INDEX     :  118\n",
      "SENTENCE  :  Elle était méconnaissable. , Ainsi déguisée, elle franchit les sept montagnes derrière lesquelles vivaient les sept nains.\n",
      "SUBJECTs  :  [les sept nains]\n",
      "OBJECTs   :  [les sept montagnes derrière lesquelles vivaient les sept nains]\n",
      "VERBS     :  [Elle était, elle franchit, vivaient]\n"
     ]
    },
    {
     "data": {
      "application/vnd.jupyter.widget-view+json": {
       "model_id": "801a37f420154a2b8d218922dc6c68df",
       "version_major": 2,
       "version_minor": 0
      },
      "text/plain": [
       "DagreD3Widget()"
      ]
     },
     "metadata": {},
     "output_type": "display_data"
    },
    {
     "name": "stdout",
     "output_type": "stream",
     "text": [
      "=========================\n",
      "\n",
      "INDEX     :  119\n",
      "SENTENCE  :  Elle frappa à la porte et dit :\n",
      "SUBJECTs  :  []\n",
      "OBJECTs   :  []\n",
      "VERBS     :  [Elle frappa]\n"
     ]
    },
    {
     "data": {
      "application/vnd.jupyter.widget-view+json": {
       "model_id": "3c46c94ee2c24dcd8cd57d7f33011d7b",
       "version_major": 2,
       "version_minor": 0
      },
      "text/plain": [
       "DagreD3Widget()"
      ]
     },
     "metadata": {},
     "output_type": "display_data"
    },
    {
     "name": "stdout",
     "output_type": "stream",
     "text": [
      "=========================\n",
      "\n",
      "INDEX     :  120\n",
      "SENTENCE  :  « \n",
      "SUBJECTs  :  []\n",
      "OBJECTs   :  [du beau]\n",
      "VERBS     :  [J'ai, vendre, vendre]\n"
     ]
    },
    {
     "data": {
      "application/vnd.jupyter.widget-view+json": {
       "model_id": "2b11dda332534e6499093bde404bc4dc",
       "version_major": 2,
       "version_minor": 0
      },
      "text/plain": [
       "DagreD3Widget()"
      ]
     },
     "metadata": {},
     "output_type": "display_data"
    },
    {
     "name": "stdout",
     "output_type": "stream",
     "text": [
      "=========================\n",
      "\n",
      "INDEX     :  121\n",
      "SENTENCE  :  » Blanche-Neige regarda par la fenêtre et dit :\n",
      "SUBJECTs  :  [Blanche-Neige]\n",
      "OBJECTs   :  []\n",
      "VERBS     :  [regarda, dit]\n"
     ]
    },
    {
     "data": {
      "application/vnd.jupyter.widget-view+json": {
       "model_id": "ae0c3925934946f2b4fd93d8bf3bb5d5",
       "version_major": 2,
       "version_minor": 0
      },
      "text/plain": [
       "DagreD3Widget()"
      ]
     },
     "metadata": {},
     "output_type": "display_data"
    },
    {
     "name": "stdout",
     "output_type": "stream",
     "text": [
      "=========================\n",
      "\n",
      "INDEX     :  122\n",
      "SENTENCE  :  «\n",
      "SUBJECTs  :  []\n",
      "OBJECTs   :  []\n",
      "VERBS     :  []\n"
     ]
    },
    {
     "data": {
      "application/vnd.jupyter.widget-view+json": {
       "model_id": "1ba8c05cf0dc49fa88b10cf7164bff3b",
       "version_major": 2,
       "version_minor": 0
      },
      "text/plain": [
       "DagreD3Widget()"
      ]
     },
     "metadata": {},
     "output_type": "display_data"
    },
    {
     "name": "stdout",
     "output_type": "stream",
     "text": [
      "=========================\n",
      "\n",
      "INDEX     :  123\n",
      "SENTENCE  :  Bonjour, chère Madame, qu'avez-vous à vendre ?\n",
      "SUBJECTs  :  []\n",
      "OBJECTs   :  []\n",
      "VERBS     :  [chère, avez-vous, vendre]\n"
     ]
    },
    {
     "data": {
      "application/vnd.jupyter.widget-view+json": {
       "model_id": "c14fe3d49a504c81a9c1ea9dec4c8b33",
       "version_major": 2,
       "version_minor": 0
      },
      "text/plain": [
       "DagreD3Widget()"
      ]
     },
     "metadata": {},
     "output_type": "display_data"
    },
    {
     "name": "stdout",
     "output_type": "stream",
     "text": [
      "=========================\n",
      "\n",
      "INDEX     :  124\n",
      "SENTENCE  :  — De la belle, de la bonne marchandise, répondit-elle, des corselets de toutes les couleurs.\n",
      "SUBJECTs  :  []\n",
      "OBJECTs   :  []\n",
      "VERBS     :  [répondit-elle]\n"
     ]
    },
    {
     "data": {
      "application/vnd.jupyter.widget-view+json": {
       "model_id": "a1a4def4e22944599edaed62899f5be6",
       "version_major": 2,
       "version_minor": 0
      },
      "text/plain": [
       "DagreD3Widget()"
      ]
     },
     "metadata": {},
     "output_type": "display_data"
    },
    {
     "name": "stdout",
     "output_type": "stream",
     "text": [
      "=========================\n",
      "\n",
      "INDEX     :  125\n",
      "SENTENCE  :  Elle lui en montra un tressé de soie multicolore.\n",
      "SUBJECTs  :  []\n",
      "OBJECTs   :  [un tressé de soie multicolore]\n",
      "VERBS     :  [Elle lui en montra]\n"
     ]
    },
    {
     "data": {
      "application/vnd.jupyter.widget-view+json": {
       "model_id": "1cbffa68b05a49048e94eeb6fd739ac7",
       "version_major": 2,
       "version_minor": 0
      },
      "text/plain": [
       "DagreD3Widget()"
      ]
     },
     "metadata": {},
     "output_type": "display_data"
    },
    {
     "name": "stdout",
     "output_type": "stream",
     "text": [
      "=========================\n",
      "\n",
      "INDEX     :  126\n",
      "SENTENCE  :  «\n",
      "SUBJECTs  :  []\n",
      "OBJECTs   :  []\n",
      "VERBS     :  []\n"
     ]
    },
    {
     "data": {
      "application/vnd.jupyter.widget-view+json": {
       "model_id": "e1c75dfbd918403ab2768aed344342f8",
       "version_major": 2,
       "version_minor": 0
      },
      "text/plain": [
       "DagreD3Widget()"
      ]
     },
     "metadata": {},
     "output_type": "display_data"
    },
    {
     "name": "stdout",
     "output_type": "stream",
     "text": [
      "=========================\n",
      "\n",
      "INDEX     :  127\n",
      "SENTENCE  :  Je peux bien laisser entrer cette honnête femme !\n",
      "SUBJECTs  :  []\n",
      "OBJECTs   :  [cette honnête femme ]\n",
      "VERBS     :  [Je peux, laisser entrer, laisser, entrer]\n"
     ]
    },
    {
     "data": {
      "application/vnd.jupyter.widget-view+json": {
       "model_id": "3633cd3b625b4426b9ce3339732a9f6a",
       "version_major": 2,
       "version_minor": 0
      },
      "text/plain": [
       "DagreD3Widget()"
      ]
     },
     "metadata": {},
     "output_type": "display_data"
    },
    {
     "name": "stdout",
     "output_type": "stream",
     "text": [
      "=========================\n",
      "\n",
      "INDEX     :  128\n",
      "SENTENCE  :  » se dit Blanche-Neige.\n",
      "SUBJECTs  :  [Blanche-Neige]\n",
      "OBJECTs   :  []\n",
      "VERBS     :  [se dit]\n"
     ]
    },
    {
     "data": {
      "application/vnd.jupyter.widget-view+json": {
       "model_id": "bd1a79bc4fd94e19bb05e57b8cad1863",
       "version_major": 2,
       "version_minor": 0
      },
      "text/plain": [
       "DagreD3Widget()"
      ]
     },
     "metadata": {},
     "output_type": "display_data"
    },
    {
     "name": "stdout",
     "output_type": "stream",
     "text": [
      "=========================\n",
      "\n",
      "INDEX     :  129\n",
      "SENTENCE  :  Elle déverrouilla la porte et acheta le joli corselet.\n",
      "SUBJECTs  :  []\n",
      "OBJECTs   :  [la porte, le joli corselet]\n",
      "VERBS     :  [Elle déverrouilla, acheta]\n"
     ]
    },
    {
     "data": {
      "application/vnd.jupyter.widget-view+json": {
       "model_id": "47a6866ec9ed474d9f8837d2c33eca89",
       "version_major": 2,
       "version_minor": 0
      },
      "text/plain": [
       "DagreD3Widget()"
      ]
     },
     "metadata": {},
     "output_type": "display_data"
    },
    {
     "name": "stdout",
     "output_type": "stream",
     "text": [
      "=========================\n",
      "\n",
      "INDEX     :  130\n",
      "SENTENCE  :  «\n",
      "SUBJECTs  :  []\n",
      "OBJECTs   :  []\n",
      "VERBS     :  []\n"
     ]
    },
    {
     "data": {
      "application/vnd.jupyter.widget-view+json": {
       "model_id": "ab7e0b1e724843c3a6cfb2706cff4f29",
       "version_major": 2,
       "version_minor": 0
      },
      "text/plain": [
       "DagreD3Widget()"
      ]
     },
     "metadata": {},
     "output_type": "display_data"
    },
    {
     "name": "stdout",
     "output_type": "stream",
     "text": [
      "=========================\n",
      "\n",
      "INDEX     :  131\n",
      "SENTENCE  :  Enfant !\n",
      "SUBJECTs  :  []\n",
      "OBJECTs   :  []\n",
      "VERBS     :  []\n"
     ]
    },
    {
     "data": {
      "application/vnd.jupyter.widget-view+json": {
       "model_id": "03a47ad6dcee438c8ecf14f4f4774a0d",
       "version_major": 2,
       "version_minor": 0
      },
      "text/plain": [
       "DagreD3Widget()"
      ]
     },
     "metadata": {},
     "output_type": "display_data"
    },
    {
     "name": "stdout",
     "output_type": "stream",
     "text": [
      "=========================\n",
      "\n",
      "INDEX     :  132\n",
      "SENTENCE  :  dit la vieille.\n",
      "SUBJECTs  :  [la vieille]\n",
      "OBJECTs   :  []\n",
      "VERBS     :  [dit]\n"
     ]
    },
    {
     "data": {
      "application/vnd.jupyter.widget-view+json": {
       "model_id": "71844eb4d30d478c8e904c166e849de5",
       "version_major": 2,
       "version_minor": 0
      },
      "text/plain": [
       "DagreD3Widget()"
      ]
     },
     "metadata": {},
     "output_type": "display_data"
    },
    {
     "name": "stdout",
     "output_type": "stream",
     "text": [
      "=========================\n",
      "\n",
      "INDEX     :  133\n",
      "SENTENCE  :  Comme tu t'y prends !\n",
      "SUBJECTs  :  []\n",
      "OBJECTs   :  [ ]\n",
      "VERBS     :  [tu t'y prends]\n"
     ]
    },
    {
     "data": {
      "application/vnd.jupyter.widget-view+json": {
       "model_id": "3852118f344943d2a2b49fe62582eb3c",
       "version_major": 2,
       "version_minor": 0
      },
      "text/plain": [
       "DagreD3Widget()"
      ]
     },
     "metadata": {},
     "output_type": "display_data"
    },
    {
     "name": "stdout",
     "output_type": "stream",
     "text": [
      "=========================\n",
      "\n",
      "INDEX     :  134\n",
      "SENTENCE  :  Viens, je vais te l'ajuster comme il faut !\n",
      "SUBJECTs  :  []\n",
      "OBJECTs   :  [ ]\n",
      "VERBS     :  [Viens, je vais, te l'ajuster, il faut]\n"
     ]
    },
    {
     "data": {
      "application/vnd.jupyter.widget-view+json": {
       "model_id": "33b1fa8128774423ad0fa2b6d99d81ab",
       "version_major": 2,
       "version_minor": 0
      },
      "text/plain": [
       "DagreD3Widget()"
      ]
     },
     "metadata": {},
     "output_type": "display_data"
    },
    {
     "name": "stdout",
     "output_type": "stream",
     "text": [
      "=========================\n",
      "\n",
      "INDEX     :  135\n",
      "SENTENCE  :  » Blanche-Neige était sans méfiance.\n",
      "SUBJECTs  :  [Blanche-Neige]\n",
      "OBJECTs   :  []\n",
      "VERBS     :  [était]\n"
     ]
    },
    {
     "data": {
      "application/vnd.jupyter.widget-view+json": {
       "model_id": "e80300334a424996ab6483f7b7f8e2e6",
       "version_major": 2,
       "version_minor": 0
      },
      "text/plain": [
       "DagreD3Widget()"
      ]
     },
     "metadata": {},
     "output_type": "display_data"
    },
    {
     "name": "stdout",
     "output_type": "stream",
     "text": [
      "=========================\n",
      "\n",
      "INDEX     :  136\n",
      "SENTENCE  :  Elle se laissa passer le nouveau corselet.\n",
      "SUBJECTs  :  []\n",
      "OBJECTs   :  [le nouveau corselet]\n",
      "VERBS     :  [Elle se laissa, passer]\n"
     ]
    },
    {
     "data": {
      "application/vnd.jupyter.widget-view+json": {
       "model_id": "9357da988ceb42febe9d093e9cd654b5",
       "version_major": 2,
       "version_minor": 0
      },
      "text/plain": [
       "DagreD3Widget()"
      ]
     },
     "metadata": {},
     "output_type": "display_data"
    },
    {
     "name": "stdout",
     "output_type": "stream",
     "text": [
      "=========================\n",
      "\n",
      "INDEX     :  137\n",
      "SENTENCE  :  Mais la vieille serra rapidement et si fort que la jeune fille perdit le souffle et tomba comme morte.\n",
      "SUBJECTs  :  [la vieille, la jeune fille]\n",
      "OBJECTs   :  [le souffle]\n",
      "VERBS     :  [serra, perdit, tomba]\n"
     ]
    },
    {
     "data": {
      "application/vnd.jupyter.widget-view+json": {
       "model_id": "76131a0c18b24460a26534dfc84ce252",
       "version_major": 2,
       "version_minor": 0
      },
      "text/plain": [
       "DagreD3Widget()"
      ]
     },
     "metadata": {},
     "output_type": "display_data"
    },
    {
     "name": "stdout",
     "output_type": "stream",
     "text": [
      "=========================\n",
      "\n",
      "INDEX     :  138\n",
      "SENTENCE  :  « Et maintenant, tu as fini d'être la plus belle », dit la vieille en s'enfuyant. , Le soir, peu de temps après, les sept nains rentrèrent à la maison.\n",
      "SUBJECTs  :  [la vieille, les sept nains]\n",
      "OBJECTs   :  [la plus belle ]\n",
      "VERBS     :  [tu as fini, dit, rentrèrent, être, s'enfuyant]\n"
     ]
    },
    {
     "data": {
      "application/vnd.jupyter.widget-view+json": {
       "model_id": "d0457806b5e6442c8112f3ee9f9d1dae",
       "version_major": 2,
       "version_minor": 0
      },
      "text/plain": [
       "DagreD3Widget()"
      ]
     },
     "metadata": {},
     "output_type": "display_data"
    },
    {
     "name": "stdout",
     "output_type": "stream",
     "text": [
      "=========================\n",
      "\n",
      "INDEX     :  139\n",
      "SENTENCE  :  Quel effroi fut le leur lorsqu'ils virent leur chère Blanche-Neige étendue sur le sol, immobile et sans vie !\n",
      "SUBJECTs  :  [Quel effroi]\n",
      "OBJECTs   :  []\n",
      "VERBS     :  [fut, ils virent]\n"
     ]
    },
    {
     "data": {
      "application/vnd.jupyter.widget-view+json": {
       "model_id": "5d0e574057c5473bad5b732383d110ca",
       "version_major": 2,
       "version_minor": 0
      },
      "text/plain": [
       "DagreD3Widget()"
      ]
     },
     "metadata": {},
     "output_type": "display_data"
    },
    {
     "name": "stdout",
     "output_type": "stream",
     "text": [
      "=========================\n",
      "\n",
      "INDEX     :  140\n",
      "SENTENCE  :  Ils la soulevèrent et virent que son corselet la serrait trop.\n",
      "SUBJECTs  :  [son corselet]\n",
      "OBJECTs   :  []\n",
      "VERBS     :  [Ils la soulevèrent, virent, la serrait]\n"
     ]
    },
    {
     "data": {
      "application/vnd.jupyter.widget-view+json": {
       "model_id": "2c0f60552ec54a24a4b6edc4e440f62f",
       "version_major": 2,
       "version_minor": 0
      },
      "text/plain": [
       "DagreD3Widget()"
      ]
     },
     "metadata": {},
     "output_type": "display_data"
    },
    {
     "name": "stdout",
     "output_type": "stream",
     "text": [
      "=========================\n",
      "\n",
      "INDEX     :  141\n",
      "SENTENCE  :  Ils en coupèrent vite le cordonnet.\n",
      "SUBJECTs  :  []\n",
      "OBJECTs   :  [le cordonnet]\n",
      "VERBS     :  [Ils en coupèrent]\n"
     ]
    },
    {
     "data": {
      "application/vnd.jupyter.widget-view+json": {
       "model_id": "e248692a34ca43d1a28dcf8dc5a13a2a",
       "version_major": 2,
       "version_minor": 0
      },
      "text/plain": [
       "DagreD3Widget()"
      ]
     },
     "metadata": {},
     "output_type": "display_data"
    },
    {
     "name": "stdout",
     "output_type": "stream",
     "text": [
      "=========================\n",
      "\n",
      "INDEX     :  142\n",
      "SENTENCE  :  La jeune fille commença à respirer doucement et, peu à peu, elle revint à elle.\n",
      "SUBJECTs  :  [La jeune fille]\n",
      "OBJECTs   :  []\n",
      "VERBS     :  [commença, respirer, elle revint]\n"
     ]
    },
    {
     "data": {
      "application/vnd.jupyter.widget-view+json": {
       "model_id": "1427bc93afbb4c40b6ac9336474b851a",
       "version_major": 2,
       "version_minor": 0
      },
      "text/plain": [
       "DagreD3Widget()"
      ]
     },
     "metadata": {},
     "output_type": "display_data"
    },
    {
     "name": "stdout",
     "output_type": "stream",
     "text": [
      "=========================\n",
      "\n",
      "INDEX     :  143\n",
      "SENTENCE  :  Quand les nains apprirent ce qui s'était passé, ils dirent :\n",
      "SUBJECTs  :  [les nains, qui]\n",
      "OBJECTs   :  [ce qui s'était passé]\n",
      "VERBS     :  [ils dirent, apprirent, s'était passé]\n"
     ]
    },
    {
     "data": {
      "application/vnd.jupyter.widget-view+json": {
       "model_id": "48624425d9ab4a9eb51b2e0bc7eb2a69",
       "version_major": 2,
       "version_minor": 0
      },
      "text/plain": [
       "DagreD3Widget()"
      ]
     },
     "metadata": {},
     "output_type": "display_data"
    },
    {
     "name": "stdout",
     "output_type": "stream",
     "text": [
      "=========================\n",
      "\n",
      "INDEX     :  144\n",
      "SENTENCE  :  « La vieille marchande n'était autre que cette mécréante de reine.\n",
      "SUBJECTs  :  [La vieille marchande]\n",
      "OBJECTs   :  []\n",
      "VERBS     :  [n'était]\n"
     ]
    },
    {
     "data": {
      "application/vnd.jupyter.widget-view+json": {
       "model_id": "92ff0a8367e144a39409e8d100fbcf9f",
       "version_major": 2,
       "version_minor": 0
      },
      "text/plain": [
       "DagreD3Widget()"
      ]
     },
     "metadata": {},
     "output_type": "display_data"
    },
    {
     "name": "stdout",
     "output_type": "stream",
     "text": [
      "=========================\n",
      "\n",
      "INDEX     :  145\n",
      "SENTENCE  :  Garde-toi de laisser entrer quelqu'un quand nous ne sommes pas là !\n",
      "SUBJECTs  :  []\n",
      "OBJECTs   :  [quelqu'un]\n",
      "VERBS     :  [Garde-toi, laisser entrer, laisser, entrer, nous ne sommes]\n"
     ]
    },
    {
     "data": {
      "application/vnd.jupyter.widget-view+json": {
       "model_id": "312f92c5e8e8421b86cf7762141da6a3",
       "version_major": 2,
       "version_minor": 0
      },
      "text/plain": [
       "DagreD3Widget()"
      ]
     },
     "metadata": {},
     "output_type": "display_data"
    },
    {
     "name": "stdout",
     "output_type": "stream",
     "text": [
      "=========================\n",
      "\n",
      "INDEX     :  146\n",
      "SENTENCE  :  »\n",
      "SUBJECTs  :  []\n",
      "OBJECTs   :  []\n",
      "VERBS     :  []\n"
     ]
    },
    {
     "data": {
      "application/vnd.jupyter.widget-view+json": {
       "model_id": "a9845548400c427aad139d84245237fc",
       "version_major": 2,
       "version_minor": 0
      },
      "text/plain": [
       "DagreD3Widget()"
      ]
     },
     "metadata": {},
     "output_type": "display_data"
    },
    {
     "name": "stdout",
     "output_type": "stream",
     "text": [
      "=========================\n",
      "\n",
      "INDEX     :  147\n",
      "SENTENCE  :  La méchante femme, elle, dès son retour au château, s'était placée devant son miroir et avait demandé : « Miroir, miroir joli, qui est la plus belle au pays ?\n",
      "SUBJECTs  :  [La méchante femme, elle, La méchante femme, qui]\n",
      "OBJECTs   :  [ ]\n",
      "VERBS     :  [s'était placée, avait demandé, est]\n"
     ]
    },
    {
     "data": {
      "application/vnd.jupyter.widget-view+json": {
       "model_id": "393c570326ae4aeca7f879c7436b3368",
       "version_major": 2,
       "version_minor": 0
      },
      "text/plain": [
       "DagreD3Widget()"
      ]
     },
     "metadata": {},
     "output_type": "display_data"
    },
    {
     "name": "stdout",
     "output_type": "stream",
     "text": [
      "=========================\n",
      "\n",
      "INDEX     :  148\n",
      "SENTENCE  :  » Une nouvelle fois, le miroir avait répondu :\n",
      "SUBJECTs  :  [le miroir]\n",
      "OBJECTs   :  []\n",
      "VERBS     :  [avait répondu]\n"
     ]
    },
    {
     "data": {
      "application/vnd.jupyter.widget-view+json": {
       "model_id": "ac3064ed55b9413ab0636ec69e58a385",
       "version_major": 2,
       "version_minor": 0
      },
      "text/plain": [
       "DagreD3Widget()"
      ]
     },
     "metadata": {},
     "output_type": "display_data"
    },
    {
     "name": "stdout",
     "output_type": "stream",
     "text": [
      "=========================\n",
      "\n",
      "INDEX     :  149\n",
      "SENTENCE  :  « \n",
      "SUBJECTs  :  []\n",
      "OBJECTs   :  []\n",
      "VERBS     :  [vous êtes]\n"
     ]
    },
    {
     "data": {
      "application/vnd.jupyter.widget-view+json": {
       "model_id": "1002aaf6536a4a3a83ea4200aa3acf7c",
       "version_major": 2,
       "version_minor": 0
      },
      "text/plain": [
       "DagreD3Widget()"
      ]
     },
     "metadata": {},
     "output_type": "display_data"
    },
    {
     "name": "stdout",
     "output_type": "stream",
     "text": [
      "=========================\n",
      "\n",
      "INDEX     :  150\n",
      "SENTENCE  :  Mais, par-delà les monts d'airain, auprès des gentils petits nains, Blanche-Neige est mille fois plus belle.\n",
      "SUBJECTs  :  [Blanche-Neige]\n",
      "OBJECTs   :  []\n",
      "VERBS     :  [est]\n"
     ]
    },
    {
     "data": {
      "application/vnd.jupyter.widget-view+json": {
       "model_id": "c30c177cfacb4ece85df42fee9eb0de2",
       "version_major": 2,
       "version_minor": 0
      },
      "text/plain": [
       "DagreD3Widget()"
      ]
     },
     "metadata": {},
     "output_type": "display_data"
    },
    {
     "name": "stdout",
     "output_type": "stream",
     "text": [
      "=========================\n",
      "\n",
      "INDEX     :  151\n",
      "SENTENCE  :  » Quand la reine entendit ces mots, elle en fut si bouleversée qu'elle sentit son cœur étouffer.\n",
      "SUBJECTs  :  [la reine]\n",
      "OBJECTs   :  [ces mots, son cœur]\n",
      "VERBS     :  [elle en fut, entendit, elle sentit, étouffer]\n"
     ]
    },
    {
     "data": {
      "application/vnd.jupyter.widget-view+json": {
       "model_id": "a67f497d8fa44f22904b34ef71f8474e",
       "version_major": 2,
       "version_minor": 0
      },
      "text/plain": [
       "DagreD3Widget()"
      ]
     },
     "metadata": {},
     "output_type": "display_data"
    },
    {
     "name": "stdout",
     "output_type": "stream",
     "text": [
      "=========================\n",
      "\n",
      "INDEX     :  152\n",
      "SENTENCE  :  Elle comprit que Blanche-Neige avait recouvré la vie.\n",
      "SUBJECTs  :  [Blanche-Neige]\n",
      "OBJECTs   :  [la vie]\n",
      "VERBS     :  [Elle comprit, avait recouvré]\n"
     ]
    },
    {
     "data": {
      "application/vnd.jupyter.widget-view+json": {
       "model_id": "8a9ecd9f4ace45529ce0a09e3265198d",
       "version_major": 2,
       "version_minor": 0
      },
      "text/plain": [
       "DagreD3Widget()"
      ]
     },
     "metadata": {},
     "output_type": "display_data"
    },
    {
     "name": "stdout",
     "output_type": "stream",
     "text": [
      "=========================\n",
      "\n",
      "INDEX     :  153\n",
      "SENTENCE  :  «\n",
      "SUBJECTs  :  []\n",
      "OBJECTs   :  []\n",
      "VERBS     :  []\n"
     ]
    },
    {
     "data": {
      "application/vnd.jupyter.widget-view+json": {
       "model_id": "dc9849eb5f5f48f79a2ccec29b677a23",
       "version_major": 2,
       "version_minor": 0
      },
      "text/plain": [
       "DagreD3Widget()"
      ]
     },
     "metadata": {},
     "output_type": "display_data"
    },
    {
     "name": "stdout",
     "output_type": "stream",
     "text": [
      "=========================\n",
      "\n",
      "INDEX     :  154\n",
      "SENTENCE  :  Eh bien !\n",
      "SUBJECTs  :  []\n",
      "OBJECTs   :  []\n",
      "VERBS     :  []\n"
     ]
    },
    {
     "data": {
      "application/vnd.jupyter.widget-view+json": {
       "model_id": "9d32a0d009814512943e20bd8f41730b",
       "version_major": 2,
       "version_minor": 0
      },
      "text/plain": [
       "DagreD3Widget()"
      ]
     },
     "metadata": {},
     "output_type": "display_data"
    },
    {
     "name": "stdout",
     "output_type": "stream",
     "text": [
      "=========================\n",
      "\n",
      "INDEX     :  155\n",
      "SENTENCE  :  dit-elle, je vais trouver quelque moyen qui te fera disparaître à tout jamais !\n",
      "SUBJECTs  :  [qui]\n",
      "OBJECTs   :  [quelque moyen qui te fera disparaître à tout jamais ]\n",
      "VERBS     :  [je vais, dit-elle, trouver, te fera disparaître]\n"
     ]
    },
    {
     "data": {
      "application/vnd.jupyter.widget-view+json": {
       "model_id": "54c9ee13f4574226b6618741a2eb8ae8",
       "version_major": 2,
       "version_minor": 0
      },
      "text/plain": [
       "DagreD3Widget()"
      ]
     },
     "metadata": {},
     "output_type": "display_data"
    },
    {
     "name": "stdout",
     "output_type": "stream",
     "text": [
      "=========================\n",
      "\n",
      "INDEX     :  156\n",
      "SENTENCE  :  » Par un tour de sorcellerie qu'elle connaissait, elle empoisonna un peigne.\n",
      "SUBJECTs  :  []\n",
      "OBJECTs   :  [un peigne, qu']\n",
      "VERBS     :  [elle empoisonna, elle connaissait]\n"
     ]
    },
    {
     "data": {
      "application/vnd.jupyter.widget-view+json": {
       "model_id": "26232251c32b4b679137c4fbe4cf2e1c",
       "version_major": 2,
       "version_minor": 0
      },
      "text/plain": [
       "DagreD3Widget()"
      ]
     },
     "metadata": {},
     "output_type": "display_data"
    },
    {
     "name": "stdout",
     "output_type": "stream",
     "text": [
      "=========================\n",
      "\n",
      "INDEX     :  157\n",
      "SENTENCE  :  Elle se déguisa à nouveau et prit l'aspect d'une autre vieille femme.\n",
      "SUBJECTs  :  []\n",
      "OBJECTs   :  [l'aspect d'une autre vieille femme]\n",
      "VERBS     :  [Elle se déguisa, prit]\n"
     ]
    },
    {
     "data": {
      "application/vnd.jupyter.widget-view+json": {
       "model_id": "35524c4ac1854fcab97ace94f37000fe",
       "version_major": 2,
       "version_minor": 0
      },
      "text/plain": [
       "DagreD3Widget()"
      ]
     },
     "metadata": {},
     "output_type": "display_data"
    },
    {
     "name": "stdout",
     "output_type": "stream",
     "text": [
      "=========================\n",
      "\n",
      "INDEX     :  158\n",
      "SENTENCE  :  , Elle franchit ainsi les sept montagnes en direction de la maison des sept nains, frappa à la porte et cria : « Bonne marchandise à vendre !\n",
      "SUBJECTs  :  []\n",
      "OBJECTs   :  [les sept montagnes]\n",
      "VERBS     :  [Elle franchit, frappa, cria, vendre]\n"
     ]
    },
    {
     "data": {
      "application/vnd.jupyter.widget-view+json": {
       "model_id": "710e1ee7ad064943816a17425017949e",
       "version_major": 2,
       "version_minor": 0
      },
      "text/plain": [
       "DagreD3Widget()"
      ]
     },
     "metadata": {},
     "output_type": "display_data"
    },
    {
     "name": "stdout",
     "output_type": "stream",
     "text": [
      "=========================\n",
      "\n",
      "INDEX     :  159\n",
      "SENTENCE  :  » Blanche-Neige regarda par la fenêtre et dit :\n",
      "SUBJECTs  :  [Blanche-Neige]\n",
      "OBJECTs   :  []\n",
      "VERBS     :  [regarda, dit]\n"
     ]
    },
    {
     "data": {
      "application/vnd.jupyter.widget-view+json": {
       "model_id": "b9b2e279ba0a4423b25130793d4a9fce",
       "version_major": 2,
       "version_minor": 0
      },
      "text/plain": [
       "DagreD3Widget()"
      ]
     },
     "metadata": {},
     "output_type": "display_data"
    },
    {
     "name": "stdout",
     "output_type": "stream",
     "text": [
      "=========================\n",
      "\n",
      "INDEX     :  160\n",
      "SENTENCE  :  « Passez votre chemin !\n",
      "SUBJECTs  :  []\n",
      "OBJECTs   :  [votre chemin ]\n",
      "VERBS     :  [Passez]\n"
     ]
    },
    {
     "data": {
      "application/vnd.jupyter.widget-view+json": {
       "model_id": "350b9e100fba4e27a8d9ec6dd29a2542",
       "version_major": 2,
       "version_minor": 0
      },
      "text/plain": [
       "DagreD3Widget()"
      ]
     },
     "metadata": {},
     "output_type": "display_data"
    },
    {
     "name": "stdout",
     "output_type": "stream",
     "text": [
      "=========================\n",
      "\n",
      "INDEX     :  161\n",
      "SENTENCE  :  Je n'ai le droit d'ouvrir à quiconque.— Mais tu peux bien regarder, dit la vieille en lui montrant le peigne empoisonné.\n",
      "SUBJECTs  :  [la vieille]\n",
      "OBJECTs   :  [le droit d'ouvrir à quiconque.—, le peigne empoisonné]\n",
      "VERBS     :  [Je n'ai, ouvrir, tu peux, regarder, dit, lui montrant]\n"
     ]
    },
    {
     "data": {
      "application/vnd.jupyter.widget-view+json": {
       "model_id": "ca33ef0885a44f45b6a0e90d2171da8f",
       "version_major": 2,
       "version_minor": 0
      },
      "text/plain": [
       "DagreD3Widget()"
      ]
     },
     "metadata": {},
     "output_type": "display_data"
    },
    {
     "name": "stdout",
     "output_type": "stream",
     "text": [
      "=========================\n",
      "\n",
      "INDEX     :  162\n",
      "SENTENCE  :  Je vais te peigner joliment.\n",
      "SUBJECTs  :  []\n",
      "OBJECTs   :  []\n",
      "VERBS     :  [Je vais, te peigner]\n"
     ]
    },
    {
     "data": {
      "application/vnd.jupyter.widget-view+json": {
       "model_id": "f7599f80d30f40ae85b762e1e439e93c",
       "version_major": 2,
       "version_minor": 0
      },
      "text/plain": [
       "DagreD3Widget()"
      ]
     },
     "metadata": {},
     "output_type": "display_data"
    },
    {
     "name": "stdout",
     "output_type": "stream",
     "text": [
      "=========================\n",
      "\n",
      "INDEX     :  163\n",
      "SENTENCE  :  »La pauvre Blanche-Neige ne se douta de rien et laissa faire la vieille ;\n",
      "SUBJECTs  :  [La pauvre Blanche-Neige]\n",
      "OBJECTs   :  [la vieille ]\n",
      "VERBS     :  [ne se douta, laissa, faire]\n"
     ]
    },
    {
     "data": {
      "application/vnd.jupyter.widget-view+json": {
       "model_id": "3d3b24c354cb4ef0807042586174a8b5",
       "version_major": 2,
       "version_minor": 0
      },
      "text/plain": [
       "DagreD3Widget()"
      ]
     },
     "metadata": {},
     "output_type": "display_data"
    },
    {
     "name": "stdout",
     "output_type": "stream",
     "text": [
      "=========================\n",
      "\n",
      "INDEX     :  164\n",
      "SENTENCE  :  à peine le peigne eut-il touché ses cheveux que le poison agit et que la jeune fille tomba sans connaissance.\n",
      "SUBJECTs  :  [le peigne, le poison, la jeune fille]\n",
      "OBJECTs   :  [ses cheveux]\n",
      "VERBS     :  [eut-il touché, agit, tomba]\n"
     ]
    },
    {
     "data": {
      "application/vnd.jupyter.widget-view+json": {
       "model_id": "163e5031cfee4f789190309d012d0e22",
       "version_major": 2,
       "version_minor": 0
      },
      "text/plain": [
       "DagreD3Widget()"
      ]
     },
     "metadata": {},
     "output_type": "display_data"
    },
    {
     "name": "stdout",
     "output_type": "stream",
     "text": [
      "=========================\n",
      "\n",
      "INDEX     :  165\n",
      "SENTENCE  :  « Et voilà !\n",
      "SUBJECTs  :  []\n",
      "OBJECTs   :  []\n",
      "VERBS     :  []\n"
     ]
    },
    {
     "data": {
      "application/vnd.jupyter.widget-view+json": {
       "model_id": "a0efa6fc7ac04fa4bf044971842f9e85",
       "version_major": 2,
       "version_minor": 0
      },
      "text/plain": [
       "DagreD3Widget()"
      ]
     },
     "metadata": {},
     "output_type": "display_data"
    },
    {
     "name": "stdout",
     "output_type": "stream",
     "text": [
      "=========================\n",
      "\n",
      "INDEX     :  166\n",
      "SENTENCE  :  dit la méchante femme, c'en est fait de toi, prodige de beauté !\n",
      "SUBJECTs  :  [la méchante femme]\n",
      "OBJECTs   :  []\n",
      "VERBS     :  [dit, c'en est fait]\n"
     ]
    },
    {
     "data": {
      "application/vnd.jupyter.widget-view+json": {
       "model_id": "9b885685567a4d80b427cd891e6e5d23",
       "version_major": 2,
       "version_minor": 0
      },
      "text/plain": [
       "DagreD3Widget()"
      ]
     },
     "metadata": {},
     "output_type": "display_data"
    },
    {
     "name": "stdout",
     "output_type": "stream",
     "text": [
      "=========================\n",
      "\n",
      "INDEX     :  167\n",
      "SENTENCE  :  » Et elle s'en alla.\n",
      "SUBJECTs  :  []\n",
      "OBJECTs   :  []\n",
      "VERBS     :  [elle s'en alla]\n"
     ]
    },
    {
     "data": {
      "application/vnd.jupyter.widget-view+json": {
       "model_id": "5d6bc42381ae489580701f3b03f7a09e",
       "version_major": 2,
       "version_minor": 0
      },
      "text/plain": [
       "DagreD3Widget()"
      ]
     },
     "metadata": {},
     "output_type": "display_data"
    },
    {
     "name": "stdout",
     "output_type": "stream",
     "text": [
      "=========================\n",
      "\n",
      "INDEX     :  168\n",
      "SENTENCE  :  Par bonheur, le soir arriva vite et les sept nains rentrèrent à la maison. , Quand ils virent Blanche-Neige étendue comme morte sur le sol, ils songèrent aussitôt à la marâtre, cherchèrent et trouvèrent le peigne empoisonné.\n",
      "SUBJECTs  :  [le soir, les sept nains]\n",
      "OBJECTs   :  [le peigne empoisonné, Blanche-Neige]\n",
      "VERBS     :  [arriva, rentrèrent, ils songèrent, cherchèrent et trouvèrent, ils virent, trouvèrent]\n"
     ]
    },
    {
     "data": {
      "application/vnd.jupyter.widget-view+json": {
       "model_id": "0065b08f5cfa4e0e8c5ec3c22280b266",
       "version_major": 2,
       "version_minor": 0
      },
      "text/plain": [
       "DagreD3Widget()"
      ]
     },
     "metadata": {},
     "output_type": "display_data"
    },
    {
     "name": "stdout",
     "output_type": "stream",
     "text": [
      "=========================\n",
      "\n",
      "INDEX     :  169\n",
      "SENTENCE  :  Dès qu'ils l'eurent retiré de ses cheveux, Blanche-Neige revint à elle et elle leur raconta ce qui s'était passé.\n",
      "SUBJECTs  :  [Blanche-Neige, qui]\n",
      "OBJECTs   :  [ce qui s'était passé]\n",
      "VERBS     :  [revint, ils l'eurent retiré, elle leur raconta, s'était passé]\n"
     ]
    },
    {
     "data": {
      "application/vnd.jupyter.widget-view+json": {
       "model_id": "34050d4ab4184d83aec1cea21174905f",
       "version_major": 2,
       "version_minor": 0
      },
      "text/plain": [
       "DagreD3Widget()"
      ]
     },
     "metadata": {},
     "output_type": "display_data"
    },
    {
     "name": "stdout",
     "output_type": "stream",
     "text": [
      "=========================\n",
      "\n",
      "INDEX     :  170\n",
      "SENTENCE  :  Ils lui demandèrent une fois de plus d'être sur ses gardes et de n'ouvrir à personne.\n",
      "SUBJECTs  :  []\n",
      "OBJECTs   :  []\n",
      "VERBS     :  [Ils lui demandèrent, être, n'ouvrir]\n"
     ]
    },
    {
     "data": {
      "application/vnd.jupyter.widget-view+json": {
       "model_id": "9de30e6765884f98b4c0708405edbdd5",
       "version_major": 2,
       "version_minor": 0
      },
      "text/plain": [
       "DagreD3Widget()"
      ]
     },
     "metadata": {},
     "output_type": "display_data"
    },
    {
     "name": "stdout",
     "output_type": "stream",
     "text": [
      "=========================\n",
      "\n",
      "INDEX     :  171\n",
      "SENTENCE  :  Rentrée chez elle, la reine s'était placée devant son miroir et avait demandé : « Miroir, miroir joli, qui est la plus belle au pays ?\n",
      "SUBJECTs  :  [la reine, qui]\n",
      "OBJECTs   :  [ ]\n",
      "VERBS     :  [s'était placée, avait demandé, est]\n"
     ]
    },
    {
     "data": {
      "application/vnd.jupyter.widget-view+json": {
       "model_id": "40b51c72ed704451ac7927496162ffbe",
       "version_major": 2,
       "version_minor": 0
      },
      "text/plain": [
       "DagreD3Widget()"
      ]
     },
     "metadata": {},
     "output_type": "display_data"
    },
    {
     "name": "stdout",
     "output_type": "stream",
     "text": [
      "=========================\n",
      "\n",
      "INDEX     :  172\n",
      "SENTENCE  :  » Comme la fois précédente, le miroir répondit :\n",
      "SUBJECTs  :  [le miroir]\n",
      "OBJECTs   :  []\n",
      "VERBS     :  [répondit]\n"
     ]
    },
    {
     "data": {
      "application/vnd.jupyter.widget-view+json": {
       "model_id": "8a38d46db4974ed7b71ccd94a26c7420",
       "version_major": 2,
       "version_minor": 0
      },
      "text/plain": [
       "DagreD3Widget()"
      ]
     },
     "metadata": {},
     "output_type": "display_data"
    },
    {
     "name": "stdout",
     "output_type": "stream",
     "text": [
      "=========================\n",
      "\n",
      "INDEX     :  173\n",
      "SENTENCE  :  « \n",
      "SUBJECTs  :  []\n",
      "OBJECTs   :  []\n",
      "VERBS     :  [vous êtes]\n"
     ]
    },
    {
     "data": {
      "application/vnd.jupyter.widget-view+json": {
       "model_id": "2c0745400fbe4cb2b66a351075fb0575",
       "version_major": 2,
       "version_minor": 0
      },
      "text/plain": [
       "DagreD3Widget()"
      ]
     },
     "metadata": {},
     "output_type": "display_data"
    },
    {
     "name": "stdout",
     "output_type": "stream",
     "text": [
      "=========================\n",
      "\n",
      "INDEX     :  174\n",
      "SENTENCE  :  Mais, par-delà les monts d'airain, auprès des gentils petits nains, Blanche-Neige est mille fois plus belle.\n",
      "SUBJECTs  :  [Blanche-Neige]\n",
      "OBJECTs   :  []\n",
      "VERBS     :  [est]\n"
     ]
    },
    {
     "data": {
      "application/vnd.jupyter.widget-view+json": {
       "model_id": "c966dd0677ea4c63b280a5a0413e4bc5",
       "version_major": 2,
       "version_minor": 0
      },
      "text/plain": [
       "DagreD3Widget()"
      ]
     },
     "metadata": {},
     "output_type": "display_data"
    },
    {
     "name": "stdout",
     "output_type": "stream",
     "text": [
      "=========================\n",
      "\n",
      "INDEX     :  175\n",
      "SENTENCE  :  »\n",
      "SUBJECTs  :  []\n",
      "OBJECTs   :  []\n",
      "VERBS     :  []\n"
     ]
    },
    {
     "data": {
      "application/vnd.jupyter.widget-view+json": {
       "model_id": "abaef3ff6adc45669198a3f80c9d8862",
       "version_major": 2,
       "version_minor": 0
      },
      "text/plain": [
       "DagreD3Widget()"
      ]
     },
     "metadata": {},
     "output_type": "display_data"
    },
    {
     "name": "stdout",
     "output_type": "stream",
     "text": [
      "=========================\n",
      "\n",
      "INDEX     :  176\n",
      "SENTENCE  :  Quand la reine entendit cela, elle se mit à trembler de colère.\n",
      "SUBJECTs  :  [la reine]\n",
      "OBJECTs   :  [cela]\n",
      "VERBS     :  [elle se mit, entendit, trembler]\n"
     ]
    },
    {
     "data": {
      "application/vnd.jupyter.widget-view+json": {
       "model_id": "b5ffceb174304887a47862e924af4eb8",
       "version_major": 2,
       "version_minor": 0
      },
      "text/plain": [
       "DagreD3Widget()"
      ]
     },
     "metadata": {},
     "output_type": "display_data"
    },
    {
     "name": "stdout",
     "output_type": "stream",
     "text": [
      "=========================\n",
      "\n",
      "INDEX     :  177\n",
      "SENTENCE  :  «\n",
      "SUBJECTs  :  []\n",
      "OBJECTs   :  []\n",
      "VERBS     :  []\n"
     ]
    },
    {
     "data": {
      "application/vnd.jupyter.widget-view+json": {
       "model_id": "9f1b7b99574945308124e36e62d4b612",
       "version_major": 2,
       "version_minor": 0
      },
      "text/plain": [
       "DagreD3Widget()"
      ]
     },
     "metadata": {},
     "output_type": "display_data"
    },
    {
     "name": "stdout",
     "output_type": "stream",
     "text": [
      "=========================\n",
      "\n",
      "INDEX     :  178\n",
      "SENTENCE  :  Il faut que Blanche-Neige meure !\n",
      "SUBJECTs  :  [Blanche-Neige]\n",
      "OBJECTs   :  []\n",
      "VERBS     :  [Il faut, meure]\n"
     ]
    },
    {
     "data": {
      "application/vnd.jupyter.widget-view+json": {
       "model_id": "e73c09c0a4d64259bc71dc2722fc0984",
       "version_major": 2,
       "version_minor": 0
      },
      "text/plain": [
       "DagreD3Widget()"
      ]
     },
     "metadata": {},
     "output_type": "display_data"
    },
    {
     "name": "stdout",
     "output_type": "stream",
     "text": [
      "=========================\n",
      "\n",
      "INDEX     :  179\n",
      "SENTENCE  :  s'écria-t-elle,\n",
      "SUBJECTs  :  []\n",
      "OBJECTs   :  []\n",
      "VERBS     :  [s'écria-t-elle]\n"
     ]
    },
    {
     "data": {
      "application/vnd.jupyter.widget-view+json": {
       "model_id": "8372662c8bda46f08e8c681fae508732",
       "version_major": 2,
       "version_minor": 0
      },
      "text/plain": [
       "DagreD3Widget()"
      ]
     },
     "metadata": {},
     "output_type": "display_data"
    },
    {
     "name": "stdout",
     "output_type": "stream",
     "text": [
      "=========================\n",
      "\n",
      "INDEX     :  180\n",
      "SENTENCE  :  dussé\n",
      "SUBJECTs  :  []\n",
      "OBJECTs   :  []\n",
      "VERBS     :  [-je en périr]\n"
     ]
    },
    {
     "data": {
      "application/vnd.jupyter.widget-view+json": {
       "model_id": "c668e19b6b544c6589b9fe2b39ae99b1",
       "version_major": 2,
       "version_minor": 0
      },
      "text/plain": [
       "DagreD3Widget()"
      ]
     },
     "metadata": {},
     "output_type": "display_data"
    },
    {
     "name": "stdout",
     "output_type": "stream",
     "text": [
      "=========================\n",
      "\n",
      "INDEX     :  181\n",
      "SENTENCE  :  » Elle se rendit dans une chambre sombre et isolée où personne n'allait jamais et y prépara une pomme empoisonnée.\n",
      "SUBJECTs  :  [personne]\n",
      "OBJECTs   :  [une pomme empoisonnée]\n",
      "VERBS     :  [Elle se rendit, n'allait, y prépara]\n"
     ]
    },
    {
     "data": {
      "application/vnd.jupyter.widget-view+json": {
       "model_id": "dbf1c9f9b724459285eb1588612d858b",
       "version_major": 2,
       "version_minor": 0
      },
      "text/plain": [
       "DagreD3Widget()"
      ]
     },
     "metadata": {},
     "output_type": "display_data"
    },
    {
     "name": "stdout",
     "output_type": "stream",
     "text": [
      "=========================\n",
      "\n",
      "INDEX     :  182\n",
      "SENTENCE  :  Extérieurement, elle semblait belle, blanche et rouge, si bien qu'elle faisait envie à quiconque la voyait ;\n",
      "SUBJECTs  :  []\n",
      "OBJECTs   :  [envie]\n",
      "VERBS     :  [elle semblait, elle faisait, la voyait]\n"
     ]
    },
    {
     "data": {
      "application/vnd.jupyter.widget-view+json": {
       "model_id": "d5536b58f5904edbb83e5e4950e25b20",
       "version_major": 2,
       "version_minor": 0
      },
      "text/plain": [
       "DagreD3Widget()"
      ]
     },
     "metadata": {},
     "output_type": "display_data"
    },
    {
     "name": "stdout",
     "output_type": "stream",
     "text": [
      "=========================\n",
      "\n",
      "INDEX     :  183\n",
      "SENTENCE  :  mais il suffisait d'en manger un tout petit morceau pour mourir.\n",
      "SUBJECTs  :  []\n",
      "OBJECTs   :  [un tout petit morceau]\n",
      "VERBS     :  [il suffisait, en manger, mourir]\n"
     ]
    },
    {
     "data": {
      "application/vnd.jupyter.widget-view+json": {
       "model_id": "031ea05f1d054cd8b350ded4bd8d6503",
       "version_major": 2,
       "version_minor": 0
      },
      "text/plain": [
       "DagreD3Widget()"
      ]
     },
     "metadata": {},
     "output_type": "display_data"
    },
    {
     "name": "stdout",
     "output_type": "stream",
     "text": [
      "=========================\n",
      "\n",
      "INDEX     :  184\n",
      "SENTENCE  :  Quand tout fut prêt, la reine se farda le visage et se déguisa en paysanne.\n",
      "SUBJECTs  :  [la reine, tout]\n",
      "OBJECTs   :  [le visage]\n",
      "VERBS     :  [se farda, fut, se déguisa]\n"
     ]
    },
    {
     "data": {
      "application/vnd.jupyter.widget-view+json": {
       "model_id": "a0bb97f972e3405f8c021d505b606eff",
       "version_major": 2,
       "version_minor": 0
      },
      "text/plain": [
       "DagreD3Widget()"
      ]
     },
     "metadata": {},
     "output_type": "display_data"
    },
    {
     "name": "stdout",
     "output_type": "stream",
     "text": [
      "=========================\n",
      "\n",
      "INDEX     :  185\n",
      "SENTENCE  :  , Ainsi transformée, elle franchit les sept montagnes pour aller chez les sept nains.\n",
      "SUBJECTs  :  []\n",
      "OBJECTs   :  [les sept montagnes]\n",
      "VERBS     :  [elle franchit, aller]\n"
     ]
    },
    {
     "data": {
      "application/vnd.jupyter.widget-view+json": {
       "model_id": "4788d676ace94a82bc32a3e68ad5f1b7",
       "version_major": 2,
       "version_minor": 0
      },
      "text/plain": [
       "DagreD3Widget()"
      ]
     },
     "metadata": {},
     "output_type": "display_data"
    },
    {
     "name": "stdout",
     "output_type": "stream",
     "text": [
      "=========================\n",
      "\n",
      "INDEX     :  186\n",
      "SENTENCE  :  Elle frappa à la porte.\n",
      "SUBJECTs  :  []\n",
      "OBJECTs   :  []\n",
      "VERBS     :  [Elle frappa]\n"
     ]
    },
    {
     "data": {
      "application/vnd.jupyter.widget-view+json": {
       "model_id": "13d4e95e88b34dcb85375f86553a6314",
       "version_major": 2,
       "version_minor": 0
      },
      "text/plain": [
       "DagreD3Widget()"
      ]
     },
     "metadata": {},
     "output_type": "display_data"
    },
    {
     "name": "stdout",
     "output_type": "stream",
     "text": [
      "=========================\n",
      "\n",
      "INDEX     :  187\n",
      "SENTENCE  :  Blanche\n",
      "SUBJECTs  :  []\n",
      "OBJECTs   :  []\n",
      "VERBS     :  []\n"
     ]
    },
    {
     "data": {
      "application/vnd.jupyter.widget-view+json": {
       "model_id": "ffb606b01ac64dfcaee4598d9b76328b",
       "version_major": 2,
       "version_minor": 0
      },
      "text/plain": [
       "DagreD3Widget()"
      ]
     },
     "metadata": {},
     "output_type": "display_data"
    },
    {
     "name": "stdout",
     "output_type": "stream",
     "text": [
      "=========================\n",
      "\n",
      "INDEX     :  188\n",
      "SENTENCE  :  -Neige se pencha à la fenêtre et dit : «\n",
      "SUBJECTs  :  [-Neige]\n",
      "OBJECTs   :  []\n",
      "VERBS     :  [se pencha, dit]\n"
     ]
    },
    {
     "data": {
      "application/vnd.jupyter.widget-view+json": {
       "model_id": "4d128cd02fd94188b4292e37e65d89ac",
       "version_major": 2,
       "version_minor": 0
      },
      "text/plain": [
       "DagreD3Widget()"
      ]
     },
     "metadata": {},
     "output_type": "display_data"
    },
    {
     "name": "stdout",
     "output_type": "stream",
     "text": [
      "=========================\n",
      "\n",
      "INDEX     :  189\n",
      "SENTENCE  :  Je n'ai le droit de laisser entrer quiconque ici ;\n",
      "SUBJECTs  :  []\n",
      "OBJECTs   :  [le droit de laisser entrer quiconque ici , quiconque]\n",
      "VERBS     :  [Je n'ai, laisser, entrer]\n"
     ]
    },
    {
     "data": {
      "application/vnd.jupyter.widget-view+json": {
       "model_id": "64402edcb9814746b0f2e4bb6f94da4f",
       "version_major": 2,
       "version_minor": 0
      },
      "text/plain": [
       "DagreD3Widget()"
      ]
     },
     "metadata": {},
     "output_type": "display_data"
    },
    {
     "name": "stdout",
     "output_type": "stream",
     "text": [
      "=========================\n",
      "\n",
      "INDEX     :  190\n",
      "SENTENCE  :  les sept nains me l'ont interdit.— D'accord !\n",
      "SUBJECTs  :  [les sept nains]\n",
      "OBJECTs   :  []\n",
      "VERBS     :  []\n"
     ]
    },
    {
     "data": {
      "application/vnd.jupyter.widget-view+json": {
       "model_id": "f6a8a0f1ea7047d9ac13846443da7fcf",
       "version_major": 2,
       "version_minor": 0
      },
      "text/plain": [
       "DagreD3Widget()"
      ]
     },
     "metadata": {},
     "output_type": "display_data"
    },
    {
     "name": "stdout",
     "output_type": "stream",
     "text": [
      "=========================\n",
      "\n",
      "INDEX     :  191\n",
      "SENTENCE  :  répondit la paysanne.\n",
      "SUBJECTs  :  [la paysanne]\n",
      "OBJECTs   :  []\n",
      "VERBS     :  [répondit]\n"
     ]
    },
    {
     "data": {
      "application/vnd.jupyter.widget-view+json": {
       "model_id": "b88137edbd8b40c2a649448900084a5b",
       "version_major": 2,
       "version_minor": 0
      },
      "text/plain": [
       "DagreD3Widget()"
      ]
     },
     "metadata": {},
     "output_type": "display_data"
    },
    {
     "name": "stdout",
     "output_type": "stream",
     "text": [
      "=========================\n",
      "\n",
      "INDEX     :  192\n",
      "SENTENCE  :  J'arriverai bien à vendre mes pommes ailleurs ;\n",
      "SUBJECTs  :  []\n",
      "OBJECTs   :  [mes pommes]\n",
      "VERBS     :  [J'arriverai, vendre]\n"
     ]
    },
    {
     "data": {
      "application/vnd.jupyter.widget-view+json": {
       "model_id": "1c0238899f774fb0b05b543ffddee364",
       "version_major": 2,
       "version_minor": 0
      },
      "text/plain": [
       "DagreD3Widget()"
      ]
     },
     "metadata": {},
     "output_type": "display_data"
    },
    {
     "name": "stdout",
     "output_type": "stream",
     "text": [
      "=========================\n",
      "\n",
      "INDEX     :  193\n",
      "SENTENCE  :  mais je vais t'en offrir une.—\n",
      "SUBJECTs  :  []\n",
      "OBJECTs   :  []\n",
      "VERBS     :  [je vais, t'en offrir]\n"
     ]
    },
    {
     "data": {
      "application/vnd.jupyter.widget-view+json": {
       "model_id": "1f08963245a346d381a7bc19873e9ab2",
       "version_major": 2,
       "version_minor": 0
      },
      "text/plain": [
       "DagreD3Widget()"
      ]
     },
     "metadata": {},
     "output_type": "display_data"
    },
    {
     "name": "stdout",
     "output_type": "stream",
     "text": [
      "=========================\n",
      "\n",
      "INDEX     :  194\n",
      "SENTENCE  :  Non, dit Blanche-Neige, je n'ai pas le droit d'accepter quoi que ce soit.— Aurais-tu peur d'être empoisonnée ?\n",
      "SUBJECTs  :  [Blanche-Neige]\n",
      "OBJECTs   :  [peur d'être empoisonnée ]\n",
      "VERBS     :  [je n'ai, dit, accepter, Aurais-tu]\n"
     ]
    },
    {
     "data": {
      "application/vnd.jupyter.widget-view+json": {
       "model_id": "d9c20bf6844a425e84a4550c98b4c686",
       "version_major": 2,
       "version_minor": 0
      },
      "text/plain": [
       "DagreD3Widget()"
      ]
     },
     "metadata": {},
     "output_type": "display_data"
    },
    {
     "name": "stdout",
     "output_type": "stream",
     "text": [
      "=========================\n",
      "\n",
      "INDEX     :  195\n",
      "SENTENCE  :  demanda la vieille.\n",
      "SUBJECTs  :  [la vieille]\n",
      "OBJECTs   :  []\n",
      "VERBS     :  [demanda]\n"
     ]
    },
    {
     "data": {
      "application/vnd.jupyter.widget-view+json": {
       "model_id": "710ef7dcebb7484493c8b5618517388e",
       "version_major": 2,
       "version_minor": 0
      },
      "text/plain": [
       "DagreD3Widget()"
      ]
     },
     "metadata": {},
     "output_type": "display_data"
    },
    {
     "name": "stdout",
     "output_type": "stream",
     "text": [
      "=========================\n",
      "\n",
      "INDEX     :  196\n",
      "SENTENCE  :  Regarde :\n",
      "SUBJECTs  :  []\n",
      "OBJECTs   :  []\n",
      "VERBS     :  []\n"
     ]
    },
    {
     "data": {
      "application/vnd.jupyter.widget-view+json": {
       "model_id": "90d849a06c9a45478d7c1fbb624b2b9c",
       "version_major": 2,
       "version_minor": 0
      },
      "text/plain": [
       "DagreD3Widget()"
      ]
     },
     "metadata": {},
     "output_type": "display_data"
    },
    {
     "name": "stdout",
     "output_type": "stream",
     "text": [
      "=========================\n",
      "\n",
      "INDEX     :  197\n",
      "SENTENCE  :  je partage la pomme en deux ;\n",
      "SUBJECTs  :  []\n",
      "OBJECTs   :  [la pomme]\n",
      "VERBS     :  [je partage]\n"
     ]
    },
    {
     "data": {
      "application/vnd.jupyter.widget-view+json": {
       "model_id": "1a4c919163a74341b711350429a5a5b2",
       "version_major": 2,
       "version_minor": 0
      },
      "text/plain": [
       "DagreD3Widget()"
      ]
     },
     "metadata": {},
     "output_type": "display_data"
    },
    {
     "name": "stdout",
     "output_type": "stream",
     "text": [
      "=========================\n",
      "\n",
      "INDEX     :  198\n",
      "SENTENCE  :  tu mangeras\n",
      "SUBJECTs  :  []\n",
      "OBJECTs   :  []\n",
      "VERBS     :  []\n"
     ]
    },
    {
     "data": {
      "application/vnd.jupyter.widget-view+json": {
       "model_id": "8937645b81c84d11b0137837dc1cd24e",
       "version_major": 2,
       "version_minor": 0
      },
      "text/plain": [
       "DagreD3Widget()"
      ]
     },
     "metadata": {},
     "output_type": "display_data"
    },
    {
     "name": "stdout",
     "output_type": "stream",
     "text": [
      "=========================\n",
      "\n",
      "INDEX     :  199\n",
      "SENTENCE  :  la moitié qui est rouge, moi, celle qui est blanche.\n",
      "SUBJECTs  :  [qui, qui]\n",
      "OBJECTs   :  []\n",
      "VERBS     :  [est, est]\n"
     ]
    },
    {
     "data": {
      "application/vnd.jupyter.widget-view+json": {
       "model_id": "3ef9882439344abe9a7c0309adc3e4df",
       "version_major": 2,
       "version_minor": 0
      },
      "text/plain": [
       "DagreD3Widget()"
      ]
     },
     "metadata": {},
     "output_type": "display_data"
    },
    {
     "name": "stdout",
     "output_type": "stream",
     "text": [
      "=========================\n",
      "\n",
      "INDEX     :  200\n",
      "SENTENCE  :  »La pomme avait été traitée avec tant d'art que seule la moitié rouge était empoisonnée.\n",
      "SUBJECTs  :  [La pomme, seule la moitié rouge]\n",
      "OBJECTs   :  []\n",
      "VERBS     :  [avait été traitée, était empoisonnée]\n"
     ]
    },
    {
     "data": {
      "application/vnd.jupyter.widget-view+json": {
       "model_id": "d1975051d1764ce58a8570078831aa5f",
       "version_major": 2,
       "version_minor": 0
      },
      "text/plain": [
       "DagreD3Widget()"
      ]
     },
     "metadata": {},
     "output_type": "display_data"
    },
    {
     "name": "stdout",
     "output_type": "stream",
     "text": [
      "=========================\n",
      "\n",
      "INDEX     :  201\n",
      "SENTENCE  :  Blanche\n",
      "SUBJECTs  :  []\n",
      "OBJECTs   :  []\n",
      "VERBS     :  []\n"
     ]
    },
    {
     "data": {
      "application/vnd.jupyter.widget-view+json": {
       "model_id": "78bcf873f4e948068b3672202e677bc1",
       "version_major": 2,
       "version_minor": 0
      },
      "text/plain": [
       "DagreD3Widget()"
      ]
     },
     "metadata": {},
     "output_type": "display_data"
    },
    {
     "name": "stdout",
     "output_type": "stream",
     "text": [
      "=========================\n",
      "\n",
      "INDEX     :  202\n",
      "SENTENCE  :  -Neige regarda le fruit avec envie et quand elle vit que la paysanne en mangeait, elle ne put résister plus longtemps.\n",
      "SUBJECTs  :  [-Neige, la paysanne]\n",
      "OBJECTs   :  [le fruit]\n",
      "VERBS     :  [regarda, elle ne put, elle vit, en mangeait, résister]\n"
     ]
    },
    {
     "data": {
      "application/vnd.jupyter.widget-view+json": {
       "model_id": "220cee2593fe47418f9cb7850c3114fe",
       "version_major": 2,
       "version_minor": 0
      },
      "text/plain": [
       "DagreD3Widget()"
      ]
     },
     "metadata": {},
     "output_type": "display_data"
    },
    {
     "name": "stdout",
     "output_type": "stream",
     "text": [
      "=========================\n",
      "\n",
      "INDEX     :  203\n",
      "SENTENCE  :  Elle tendit la main et prit la partie empoisonnée de la pomme.\n",
      "SUBJECTs  :  []\n",
      "OBJECTs   :  [la main, la partie empoisonnée de la pomme]\n",
      "VERBS     :  [Elle tendit, prit]\n"
     ]
    },
    {
     "data": {
      "application/vnd.jupyter.widget-view+json": {
       "model_id": "0c731c8cf83b4e4da5019cfa63e4c545",
       "version_major": 2,
       "version_minor": 0
      },
      "text/plain": [
       "DagreD3Widget()"
      ]
     },
     "metadata": {},
     "output_type": "display_data"
    },
    {
     "name": "stdout",
     "output_type": "stream",
     "text": [
      "=========================\n",
      "\n",
      "INDEX     :  204\n",
      "SENTENCE  :  À peine y eut-elle mis les dents qu'elle tomba morte sur le sol.\n",
      "SUBJECTs  :  []\n",
      "OBJECTs   :  [les dents]\n",
      "VERBS     :  [y eut-elle mis, elle tomba]\n"
     ]
    },
    {
     "data": {
      "application/vnd.jupyter.widget-view+json": {
       "model_id": "4f31418100e340a48b3574fcce596ee0",
       "version_major": 2,
       "version_minor": 0
      },
      "text/plain": [
       "DagreD3Widget()"
      ]
     },
     "metadata": {},
     "output_type": "display_data"
    },
    {
     "name": "stdout",
     "output_type": "stream",
     "text": [
      "=========================\n",
      "\n",
      "INDEX     :  205\n",
      "SENTENCE  :  La reine la regarda de ses yeux méchants, ricana et dit : « Blanche comme neige, rose comme sang, noire comme ébène !\n",
      "SUBJECTs  :  [La reine]\n",
      "OBJECTs   :  []\n",
      "VERBS     :  [la regarda, ricana, dit]\n"
     ]
    },
    {
     "data": {
      "application/vnd.jupyter.widget-view+json": {
       "model_id": "04c743720d3b4ef1b2997a4d0ec0fbe6",
       "version_major": 2,
       "version_minor": 0
      },
      "text/plain": [
       "DagreD3Widget()"
      ]
     },
     "metadata": {},
     "output_type": "display_data"
    },
    {
     "name": "stdout",
     "output_type": "stream",
     "text": [
      "=========================\n",
      "\n",
      "INDEX     :  206\n",
      "SENTENCE  :  Cette fois-ci, les nains ne pourront plus te réveiller !\n",
      "SUBJECTs  :  [les nains]\n",
      "OBJECTs   :  [ ]\n",
      "VERBS     :  [ne pourront, réveiller]\n"
     ]
    },
    {
     "data": {
      "application/vnd.jupyter.widget-view+json": {
       "model_id": "6f7e8411b66f4c07aea759048dc416b6",
       "version_major": 2,
       "version_minor": 0
      },
      "text/plain": [
       "DagreD3Widget()"
      ]
     },
     "metadata": {},
     "output_type": "display_data"
    },
    {
     "name": "stdout",
     "output_type": "stream",
     "text": [
      "=========================\n",
      "\n",
      "INDEX     :  207\n",
      "SENTENCE  :  » Et quand elle fut de retour chez elle, elle demanda au miroir : Miroir, miroir joli, qui est la plus belle au pays ?\n",
      "SUBJECTs  :  [qui]\n",
      "OBJECTs   :  []\n",
      "VERBS     :  [elle demanda, elle fut, est]\n"
     ]
    },
    {
     "data": {
      "application/vnd.jupyter.widget-view+json": {
       "model_id": "cbd7bb301c82403ab9fc19c67db7f3fb",
       "version_major": 2,
       "version_minor": 0
      },
      "text/plain": [
       "DagreD3Widget()"
      ]
     },
     "metadata": {},
     "output_type": "display_data"
    },
    {
     "name": "stdout",
     "output_type": "stream",
     "text": [
      "=========================\n",
      "\n",
      "INDEX     :  208\n",
      "SENTENCE  :  Celui-ci répondit enfin :\n",
      "SUBJECTs  :  [Celui-ci]\n",
      "OBJECTs   :  [ ]\n",
      "VERBS     :  [répondit]\n"
     ]
    },
    {
     "data": {
      "application/vnd.jupyter.widget-view+json": {
       "model_id": "e45439820d80496992dfdccb37c3419d",
       "version_major": 2,
       "version_minor": 0
      },
      "text/plain": [
       "DagreD3Widget()"
      ]
     },
     "metadata": {},
     "output_type": "display_data"
    },
    {
     "name": "stdout",
     "output_type": "stream",
     "text": [
      "=========================\n",
      "\n",
      "INDEX     :  209\n",
      "SENTENCE  :  « \n",
      "SUBJECTs  :  []\n",
      "OBJECTs   :  []\n",
      "VERBS     :  [vous êtes]\n"
     ]
    },
    {
     "data": {
      "application/vnd.jupyter.widget-view+json": {
       "model_id": "ce72fa89dc2e489d83386c7de1df121a",
       "version_major": 2,
       "version_minor": 0
      },
      "text/plain": [
       "DagreD3Widget()"
      ]
     },
     "metadata": {},
     "output_type": "display_data"
    },
    {
     "name": "stdout",
     "output_type": "stream",
     "text": [
      "=========================\n",
      "\n",
      "INDEX     :  210\n",
      "SENTENCE  :  » Et son cœur jaloux trouva le repos, pour autant qu'un cœur jaloux puisse le trouver.\n",
      "SUBJECTs  :  [les petits nains]\n",
      "OBJECTs   :  [Blanche-Neige]\n",
      "VERBS     :  [ils trouvèrent, arrivèrent]\n"
     ]
    },
    {
     "data": {
      "application/vnd.jupyter.widget-view+json": {
       "model_id": "9627e54a2ce3454ba439a252e972b5f2",
       "version_major": 2,
       "version_minor": 0
      },
      "text/plain": [
       "DagreD3Widget()"
      ]
     },
     "metadata": {},
     "output_type": "display_data"
    },
    {
     "name": "stdout",
     "output_type": "stream",
     "text": [
      "=========================\n",
      "\n",
      "INDEX     :  211\n",
      "SENTENCE  :  Ils la soulevèrent, cherchèrent s'il y avait quelque chose d'empoisonné, défirent son corselet, coiffèrent ses cheveux, la lavèrent avec de l'eau et du vin.\n",
      "SUBJECTs  :  []\n",
      "OBJECTs   :  [son corselet, ses cheveux]\n",
      "VERBS     :  [Ils la soulevèrent, cherchèrent, défirent, coiffèrent, la lavèrent, il y avait]\n"
     ]
    },
    {
     "data": {
      "application/vnd.jupyter.widget-view+json": {
       "model_id": "e7a8f5bfd4744a89a64579edf20823c6",
       "version_major": 2,
       "version_minor": 0
      },
      "text/plain": [
       "DagreD3Widget()"
      ]
     },
     "metadata": {},
     "output_type": "display_data"
    },
    {
     "name": "stdout",
     "output_type": "stream",
     "text": [
      "=========================\n",
      "\n",
      "INDEX     :  212\n",
      "SENTENCE  :  Mais rien n'y fit : la chère enfant était morte et morte elle restait.\n",
      "SUBJECTs  :  [rien, la chère enfant]\n",
      "OBJECTs   :  [ ]\n",
      "VERBS     :  [n'y fit, était, elle restait]\n"
     ]
    },
    {
     "data": {
      "application/vnd.jupyter.widget-view+json": {
       "model_id": "7260d6edf10849e98aecb193da7c88b6",
       "version_major": 2,
       "version_minor": 0
      },
      "text/plain": [
       "DagreD3Widget()"
      ]
     },
     "metadata": {},
     "output_type": "display_data"
    },
    {
     "name": "stdout",
     "output_type": "stream",
     "text": [
      "=========================\n",
      "\n",
      "INDEX     :  213\n",
      "SENTENCE  :  Ils la placèrent sur une civière, s'assirent tous les sept autour d'elle et pleurèrent trois jours durant.\n",
      "SUBJECTs  :  []\n",
      "OBJECTs   :  []\n",
      "VERBS     :  [Ils la placèrent, s'assirent, pleurèrent]\n"
     ]
    },
    {
     "data": {
      "application/vnd.jupyter.widget-view+json": {
       "model_id": "16c59e9ac6a84fc59de7df8d86edb016",
       "version_major": 2,
       "version_minor": 0
      },
      "text/plain": [
       "DagreD3Widget()"
      ]
     },
     "metadata": {},
     "output_type": "display_data"
    },
    {
     "name": "stdout",
     "output_type": "stream",
     "text": [
      "=========================\n",
      "\n",
      "INDEX     :  214\n",
      "SENTENCE  :  Puis ils se préparèrent à l'enterrer.\n",
      "SUBJECTs  :  []\n",
      "OBJECTs   :  []\n",
      "VERBS     :  [ils se préparèrent, l'enterrer]\n"
     ]
    },
    {
     "data": {
      "application/vnd.jupyter.widget-view+json": {
       "model_id": "42397b430f234a77b08cfce18e36c528",
       "version_major": 2,
       "version_minor": 0
      },
      "text/plain": [
       "DagreD3Widget()"
      ]
     },
     "metadata": {},
     "output_type": "display_data"
    },
    {
     "name": "stdout",
     "output_type": "stream",
     "text": [
      "=========================\n",
      "\n",
      "INDEX     :  215\n",
      "SENTENCE  :  Mais elle était restée fraîche comme un être vivant et ses jolies joues étaient roses comme auparavant.\n",
      "SUBJECTs  :  [ses jolies joues]\n",
      "OBJECTs   :  []\n",
      "VERBS     :  [elle était restée, étaient roses]\n"
     ]
    },
    {
     "data": {
      "application/vnd.jupyter.widget-view+json": {
       "model_id": "1cd5c902f40447e4806ba4424f86f586",
       "version_major": 2,
       "version_minor": 0
      },
      "text/plain": [
       "DagreD3Widget()"
      ]
     },
     "metadata": {},
     "output_type": "display_data"
    },
    {
     "name": "stdout",
     "output_type": "stream",
     "text": [
      "=========================\n",
      "\n",
      "INDEX     :  216\n",
      "SENTENCE  :  Ils dirent : « Nous ne pouvons la mettre dans la terre noire.\n",
      "SUBJECTs  :  []\n",
      "OBJECTs   :  []\n",
      "VERBS     :  [Ils dirent, Nous ne pouvons, la mettre]\n"
     ]
    },
    {
     "data": {
      "application/vnd.jupyter.widget-view+json": {
       "model_id": "f45397f889b04f9cadf8ac86c53bfc6f",
       "version_major": 2,
       "version_minor": 0
      },
      "text/plain": [
       "DagreD3Widget()"
      ]
     },
     "metadata": {},
     "output_type": "display_data"
    },
    {
     "name": "stdout",
     "output_type": "stream",
     "text": [
      "=========================\n",
      "\n",
      "INDEX     :  217\n",
      "SENTENCE  :  » Ils fabriquèrent un cercueil de verre transparent où on pouvait la voir de tous les côtés, l'y installèrent et écrivirent dessus son nom en lettres d'or, en ajoutant qu'elle était fille de roi.\n",
      "SUBJECTs  :  []\n",
      "OBJECTs   :  [un cercueil de verre transparent où on pouvait la voir de tous les côtés]\n",
      "VERBS     :  [Ils fabriquèrent, l'y installèrent et écrivirent, on pouvait, la voir, l'y installèrent, écrivirent, ajoutant, elle était]\n"
     ]
    },
    {
     "data": {
      "application/vnd.jupyter.widget-view+json": {
       "model_id": "316b49a41c784fb6afa5bc58aa94051e",
       "version_major": 2,
       "version_minor": 0
      },
      "text/plain": [
       "DagreD3Widget()"
      ]
     },
     "metadata": {},
     "output_type": "display_data"
    },
    {
     "name": "stdout",
     "output_type": "stream",
     "text": [
      "=========================\n",
      "\n",
      "INDEX     :  218\n",
      "SENTENCE  :  Ils portèrent le cercueil en haut de la montagne et l'un d'eux monta la garde auprès de lui. , Longtemps Blanche-Neige resta ainsi dans son cercueil, toujours aussi jolie.\n",
      "SUBJECTs  :  [l'un d'eux, Blanche-Neige]\n",
      "OBJECTs   :  [le cercueil en haut de la montagne, la garde]\n",
      "VERBS     :  [Ils portèrent, monta, resta]\n"
     ]
    },
    {
     "data": {
      "application/vnd.jupyter.widget-view+json": {
       "model_id": "49da6c54ddb04b0fa179efcaf25bcf71",
       "version_major": 2,
       "version_minor": 0
      },
      "text/plain": [
       "DagreD3Widget()"
      ]
     },
     "metadata": {},
     "output_type": "display_data"
    },
    {
     "name": "stdout",
     "output_type": "stream",
     "text": [
      "=========================\n",
      "\n",
      "INDEX     :  219\n",
      "SENTENCE  :  Il arriva qu'un jour un prince qui chevauchait par la forêt s'arrêtât à la maison des nains pour y passer la nuit.\n",
      "SUBJECTs  :  [un prince qui chevauchait par la forêt, qui]\n",
      "OBJECTs   :  [la nuit]\n",
      "VERBS     :  [Il arriva, s'arrêtât, chevauchait, y passer]\n"
     ]
    },
    {
     "data": {
      "application/vnd.jupyter.widget-view+json": {
       "model_id": "d86fe120943f4efbb56a79d1adbf1a06",
       "version_major": 2,
       "version_minor": 0
      },
      "text/plain": [
       "DagreD3Widget()"
      ]
     },
     "metadata": {},
     "output_type": "display_data"
    },
    {
     "name": "stdout",
     "output_type": "stream",
     "text": [
      "=========================\n",
      "\n",
      "INDEX     :  220\n",
      "SENTENCE  :  Il vit le cercueil au sommet de la montagne, et la jolie Blanche-Neige.\n",
      "SUBJECTs  :  []\n",
      "OBJECTs   :  [le cercueil au sommet de la montagne, et la jolie Blanche-Neige]\n",
      "VERBS     :  [Il vit]\n"
     ]
    },
    {
     "data": {
      "application/vnd.jupyter.widget-view+json": {
       "model_id": "fb07a8b9ed1f4cb389d4e5c37902de8e",
       "version_major": 2,
       "version_minor": 0
      },
      "text/plain": [
       "DagreD3Widget()"
      ]
     },
     "metadata": {},
     "output_type": "display_data"
    },
    {
     "name": "stdout",
     "output_type": "stream",
     "text": [
      "=========================\n",
      "\n",
      "INDEX     :  221\n",
      "SENTENCE  :  Il dit aux nains : « Laissez-moi le cercueil ;\n",
      "SUBJECTs  :  []\n",
      "OBJECTs   :  [le cercueil]\n",
      "VERBS     :  [Il dit, Laissez-moi]\n"
     ]
    },
    {
     "data": {
      "application/vnd.jupyter.widget-view+json": {
       "model_id": "c0f0ce5aaadd474aae7ad341bfb6939b",
       "version_major": 2,
       "version_minor": 0
      },
      "text/plain": [
       "DagreD3Widget()"
      ]
     },
     "metadata": {},
     "output_type": "display_data"
    },
    {
     "name": "stdout",
     "output_type": "stream",
     "text": [
      "=========================\n",
      "\n",
      "INDEX     :  222\n",
      "SENTENCE  :  je vous en donnerai ce que vous voudrez.\n",
      "SUBJECTs  :  []\n",
      "OBJECTs   :  [ce que vous voudrez, que]\n",
      "VERBS     :  [je vous en donnerai, vous voudrez]\n"
     ]
    },
    {
     "data": {
      "application/vnd.jupyter.widget-view+json": {
       "model_id": "f9cbc893a8c244a29e4da59a7126a66b",
       "version_major": 2,
       "version_minor": 0
      },
      "text/plain": [
       "DagreD3Widget()"
      ]
     },
     "metadata": {},
     "output_type": "display_data"
    },
    {
     "name": "stdout",
     "output_type": "stream",
     "text": [
      "=========================\n",
      "\n",
      "INDEX     :  223\n",
      "SENTENCE  :  »Mais les nains répondirent :\n",
      "SUBJECTs  :  [les nains]\n",
      "OBJECTs   :  [ ]\n",
      "VERBS     :  [répondirent]\n"
     ]
    },
    {
     "data": {
      "application/vnd.jupyter.widget-view+json": {
       "model_id": "37559fc9a0a84c0da9a4e1f0184b9a12",
       "version_major": 2,
       "version_minor": 0
      },
      "text/plain": [
       "DagreD3Widget()"
      ]
     },
     "metadata": {},
     "output_type": "display_data"
    },
    {
     "ename": "KeyboardInterrupt",
     "evalue": "",
     "output_type": "error",
     "traceback": [
      "\u001b[0;31m---------------------------------------------------------------------------\u001b[0m",
      "\u001b[0;31mKeyboardInterrupt\u001b[0m                         Traceback (most recent call last)",
      "\u001b[0;32m<ipython-input-45-8d6eaa26e226>\u001b[0m in \u001b[0;36m<module>\u001b[0;34m\u001b[0m\n\u001b[1;32m      7\u001b[0m \u001b[0;34m\u001b[0m\u001b[0m\n\u001b[1;32m      8\u001b[0m \u001b[0;32mfor\u001b[0m \u001b[0mindex\u001b[0m\u001b[0;34m,\u001b[0m \u001b[0msentence\u001b[0m \u001b[0;32min\u001b[0m \u001b[0menumerate\u001b[0m\u001b[0;34m(\u001b[0m\u001b[0msentences\u001b[0m\u001b[0;34m[\u001b[0m\u001b[0;34m:\u001b[0m\u001b[0;34m]\u001b[0m\u001b[0;34m)\u001b[0m\u001b[0;34m:\u001b[0m\u001b[0;34m\u001b[0m\u001b[0;34m\u001b[0m\u001b[0m\n\u001b[0;32m----> 9\u001b[0;31m     \u001b[0msentDoc\u001b[0m \u001b[0;34m=\u001b[0m \u001b[0mnlp\u001b[0m\u001b[0;34m(\u001b[0m\u001b[0msentence\u001b[0m\u001b[0;34m.\u001b[0m\u001b[0mstrip\u001b[0m\u001b[0;34m(\u001b[0m\u001b[0;34m)\u001b[0m\u001b[0;34m)\u001b[0m\u001b[0;34m\u001b[0m\u001b[0;34m\u001b[0m\u001b[0m\n\u001b[0m\u001b[1;32m     10\u001b[0m     \u001b[0msent\u001b[0m \u001b[0;34m=\u001b[0m \u001b[0mlist\u001b[0m\u001b[0;34m(\u001b[0m\u001b[0msentDoc\u001b[0m\u001b[0;34m.\u001b[0m\u001b[0msents\u001b[0m\u001b[0;34m)\u001b[0m\u001b[0;34m[\u001b[0m\u001b[0;36m0\u001b[0m\u001b[0;34m]\u001b[0m\u001b[0;34m\u001b[0m\u001b[0;34m\u001b[0m\u001b[0m\n\u001b[1;32m     11\u001b[0m     \u001b[0mprint\u001b[0m\u001b[0;34m(\u001b[0m\u001b[0;34m\"=========================\\n\"\u001b[0m\u001b[0;34m)\u001b[0m\u001b[0;34m\u001b[0m\u001b[0;34m\u001b[0m\u001b[0m\n",
      "\u001b[0;32m~/.local/lib/python3.8/site-packages/spacy/language.py\u001b[0m in \u001b[0;36m__call__\u001b[0;34m(self, text, disable, component_cfg)\u001b[0m\n\u001b[1;32m    447\u001b[0m             \u001b[0;32mif\u001b[0m \u001b[0;32mnot\u001b[0m \u001b[0mhasattr\u001b[0m\u001b[0;34m(\u001b[0m\u001b[0mproc\u001b[0m\u001b[0;34m,\u001b[0m \u001b[0;34m\"__call__\"\u001b[0m\u001b[0;34m)\u001b[0m\u001b[0;34m:\u001b[0m\u001b[0;34m\u001b[0m\u001b[0;34m\u001b[0m\u001b[0m\n\u001b[1;32m    448\u001b[0m                 \u001b[0;32mraise\u001b[0m \u001b[0mValueError\u001b[0m\u001b[0;34m(\u001b[0m\u001b[0mErrors\u001b[0m\u001b[0;34m.\u001b[0m\u001b[0mE003\u001b[0m\u001b[0;34m.\u001b[0m\u001b[0mformat\u001b[0m\u001b[0;34m(\u001b[0m\u001b[0mcomponent\u001b[0m\u001b[0;34m=\u001b[0m\u001b[0mtype\u001b[0m\u001b[0;34m(\u001b[0m\u001b[0mproc\u001b[0m\u001b[0;34m)\u001b[0m\u001b[0;34m,\u001b[0m \u001b[0mname\u001b[0m\u001b[0;34m=\u001b[0m\u001b[0mname\u001b[0m\u001b[0;34m)\u001b[0m\u001b[0;34m)\u001b[0m\u001b[0;34m\u001b[0m\u001b[0;34m\u001b[0m\u001b[0m\n\u001b[0;32m--> 449\u001b[0;31m             \u001b[0mdoc\u001b[0m \u001b[0;34m=\u001b[0m \u001b[0mproc\u001b[0m\u001b[0;34m(\u001b[0m\u001b[0mdoc\u001b[0m\u001b[0;34m,\u001b[0m \u001b[0;34m**\u001b[0m\u001b[0mcomponent_cfg\u001b[0m\u001b[0;34m.\u001b[0m\u001b[0mget\u001b[0m\u001b[0;34m(\u001b[0m\u001b[0mname\u001b[0m\u001b[0;34m,\u001b[0m \u001b[0;34m{\u001b[0m\u001b[0;34m}\u001b[0m\u001b[0;34m)\u001b[0m\u001b[0;34m)\u001b[0m\u001b[0;34m\u001b[0m\u001b[0;34m\u001b[0m\u001b[0m\n\u001b[0m\u001b[1;32m    450\u001b[0m             \u001b[0;32mif\u001b[0m \u001b[0mdoc\u001b[0m \u001b[0;32mis\u001b[0m \u001b[0;32mNone\u001b[0m\u001b[0;34m:\u001b[0m\u001b[0;34m\u001b[0m\u001b[0;34m\u001b[0m\u001b[0m\n\u001b[1;32m    451\u001b[0m                 \u001b[0;32mraise\u001b[0m \u001b[0mValueError\u001b[0m\u001b[0;34m(\u001b[0m\u001b[0mErrors\u001b[0m\u001b[0;34m.\u001b[0m\u001b[0mE005\u001b[0m\u001b[0;34m.\u001b[0m\u001b[0mformat\u001b[0m\u001b[0;34m(\u001b[0m\u001b[0mname\u001b[0m\u001b[0;34m=\u001b[0m\u001b[0mname\u001b[0m\u001b[0;34m)\u001b[0m\u001b[0;34m)\u001b[0m\u001b[0;34m\u001b[0m\u001b[0;34m\u001b[0m\u001b[0m\n",
      "\u001b[0;32m~/.local/lib/python3.8/site-packages/benepar/spacy_plugin.py\u001b[0m in \u001b[0;36m__call__\u001b[0;34m(self, doc)\u001b[0m\n\u001b[1;32m     81\u001b[0m     \u001b[0;32mdef\u001b[0m \u001b[0m__call__\u001b[0m\u001b[0;34m(\u001b[0m\u001b[0mself\u001b[0m\u001b[0;34m,\u001b[0m \u001b[0mdoc\u001b[0m\u001b[0;34m)\u001b[0m\u001b[0;34m:\u001b[0m\u001b[0;34m\u001b[0m\u001b[0;34m\u001b[0m\u001b[0m\n\u001b[1;32m     82\u001b[0m         \u001b[0mconstituent_data\u001b[0m \u001b[0;34m=\u001b[0m \u001b[0mPartialConstituentData\u001b[0m\u001b[0;34m(\u001b[0m\u001b[0;34m)\u001b[0m\u001b[0;34m\u001b[0m\u001b[0;34m\u001b[0m\u001b[0m\n\u001b[0;32m---> 83\u001b[0;31m         \u001b[0;32mfor\u001b[0m \u001b[0mparse_raw\u001b[0m\u001b[0;34m,\u001b[0m \u001b[0mtags_raw\u001b[0m\u001b[0;34m,\u001b[0m \u001b[0msent\u001b[0m \u001b[0;32min\u001b[0m \u001b[0mself\u001b[0m\u001b[0;34m.\u001b[0m\u001b[0m_batched_parsed_raw\u001b[0m\u001b[0;34m(\u001b[0m\u001b[0mself\u001b[0m\u001b[0;34m.\u001b[0m\u001b[0m_process_doc\u001b[0m\u001b[0;34m(\u001b[0m\u001b[0mdoc\u001b[0m\u001b[0;34m)\u001b[0m\u001b[0;34m)\u001b[0m\u001b[0;34m:\u001b[0m\u001b[0;34m\u001b[0m\u001b[0;34m\u001b[0m\u001b[0m\n\u001b[0m\u001b[1;32m     84\u001b[0m             \u001b[0;31m# The optimized cython decoder implementation doesn't actually\u001b[0m\u001b[0;34m\u001b[0m\u001b[0;34m\u001b[0m\u001b[0;34m\u001b[0m\u001b[0m\n\u001b[1;32m     85\u001b[0m             \u001b[0;31m# generate trees, only scores and span indices. Indices follow a\u001b[0m\u001b[0;34m\u001b[0m\u001b[0;34m\u001b[0m\u001b[0;34m\u001b[0m\u001b[0m\n",
      "\u001b[0;32m~/.local/lib/python3.8/site-packages/benepar/base_parser.py\u001b[0m in \u001b[0;36m_batched_parsed_raw\u001b[0;34m(self, sentence_data_pairs)\u001b[0m\n\u001b[1;32m    350\u001b[0m                 \u001b[0mbatch_data\u001b[0m \u001b[0;34m=\u001b[0m \u001b[0;34m[\u001b[0m\u001b[0;34m]\u001b[0m\u001b[0;34m\u001b[0m\u001b[0;34m\u001b[0m\u001b[0m\n\u001b[1;32m    351\u001b[0m         \u001b[0;32mif\u001b[0m \u001b[0mbatch_sentences\u001b[0m\u001b[0;34m:\u001b[0m\u001b[0;34m\u001b[0m\u001b[0;34m\u001b[0m\u001b[0m\n\u001b[0;32m--> 352\u001b[0;31m             \u001b[0;32mfor\u001b[0m \u001b[0;34m(\u001b[0m\u001b[0mchart_np\u001b[0m\u001b[0;34m,\u001b[0m \u001b[0mtags_np\u001b[0m\u001b[0;34m)\u001b[0m\u001b[0;34m,\u001b[0m \u001b[0mdatum\u001b[0m \u001b[0;32min\u001b[0m \u001b[0mzip\u001b[0m\u001b[0;34m(\u001b[0m\u001b[0mself\u001b[0m\u001b[0;34m.\u001b[0m\u001b[0m_make_charts_and_tags\u001b[0m\u001b[0;34m(\u001b[0m\u001b[0mbatch_sentences\u001b[0m\u001b[0;34m)\u001b[0m\u001b[0;34m,\u001b[0m \u001b[0mbatch_data\u001b[0m\u001b[0;34m)\u001b[0m\u001b[0;34m:\u001b[0m\u001b[0;34m\u001b[0m\u001b[0;34m\u001b[0m\u001b[0m\n\u001b[0m\u001b[1;32m    353\u001b[0m                 \u001b[0;32myield\u001b[0m \u001b[0mchart_decoder\u001b[0m\u001b[0;34m.\u001b[0m\u001b[0mdecode\u001b[0m\u001b[0;34m(\u001b[0m\u001b[0mchart_np\u001b[0m\u001b[0;34m)\u001b[0m\u001b[0;34m,\u001b[0m \u001b[0mtags_np\u001b[0m\u001b[0;34m,\u001b[0m \u001b[0mdatum\u001b[0m\u001b[0;34m\u001b[0m\u001b[0;34m\u001b[0m\u001b[0m\n",
      "\u001b[0;32m~/.local/lib/python3.8/site-packages/benepar/base_parser.py\u001b[0m in \u001b[0;36m_make_charts_and_tags\u001b[0;34m(self, sentences)\u001b[0m\n\u001b[1;32m    326\u001b[0m         \u001b[0mfeed_dict\u001b[0m \u001b[0;34m=\u001b[0m \u001b[0mself\u001b[0m\u001b[0;34m.\u001b[0m\u001b[0m_make_feed_dict\u001b[0m\u001b[0;34m(\u001b[0m\u001b[0msentences\u001b[0m\u001b[0;34m)\u001b[0m\u001b[0;34m\u001b[0m\u001b[0;34m\u001b[0m\u001b[0m\n\u001b[1;32m    327\u001b[0m         \u001b[0;32mif\u001b[0m \u001b[0mself\u001b[0m\u001b[0;34m.\u001b[0m\u001b[0m_provides_tags\u001b[0m\u001b[0;34m:\u001b[0m\u001b[0;34m\u001b[0m\u001b[0;34m\u001b[0m\u001b[0m\n\u001b[0;32m--> 328\u001b[0;31m             \u001b[0mcharts_val\u001b[0m\u001b[0;34m,\u001b[0m \u001b[0mtags_val\u001b[0m \u001b[0;34m=\u001b[0m \u001b[0mself\u001b[0m\u001b[0;34m.\u001b[0m\u001b[0m_sess\u001b[0m\u001b[0;34m.\u001b[0m\u001b[0mrun\u001b[0m\u001b[0;34m(\u001b[0m\u001b[0;34m(\u001b[0m\u001b[0mself\u001b[0m\u001b[0;34m.\u001b[0m\u001b[0m_charts\u001b[0m\u001b[0;34m,\u001b[0m \u001b[0mself\u001b[0m\u001b[0;34m.\u001b[0m\u001b[0m_tags\u001b[0m\u001b[0;34m)\u001b[0m\u001b[0;34m,\u001b[0m \u001b[0mfeed_dict\u001b[0m\u001b[0;34m)\u001b[0m\u001b[0;34m\u001b[0m\u001b[0;34m\u001b[0m\u001b[0m\n\u001b[0m\u001b[1;32m    329\u001b[0m         \u001b[0;32melse\u001b[0m\u001b[0;34m:\u001b[0m\u001b[0;34m\u001b[0m\u001b[0;34m\u001b[0m\u001b[0m\n\u001b[1;32m    330\u001b[0m             \u001b[0mcharts_val\u001b[0m \u001b[0;34m=\u001b[0m \u001b[0mself\u001b[0m\u001b[0;34m.\u001b[0m\u001b[0m_sess\u001b[0m\u001b[0;34m.\u001b[0m\u001b[0mrun\u001b[0m\u001b[0;34m(\u001b[0m\u001b[0mself\u001b[0m\u001b[0;34m.\u001b[0m\u001b[0m_charts\u001b[0m\u001b[0;34m,\u001b[0m \u001b[0mfeed_dict\u001b[0m\u001b[0;34m)\u001b[0m\u001b[0;34m\u001b[0m\u001b[0;34m\u001b[0m\u001b[0m\n",
      "\u001b[0;32m~/.local/lib/python3.8/site-packages/tensorflow/python/client/session.py\u001b[0m in \u001b[0;36mrun\u001b[0;34m(self, fetches, feed_dict, options, run_metadata)\u001b[0m\n\u001b[1;32m    955\u001b[0m \u001b[0;34m\u001b[0m\u001b[0m\n\u001b[1;32m    956\u001b[0m     \u001b[0;32mtry\u001b[0m\u001b[0;34m:\u001b[0m\u001b[0;34m\u001b[0m\u001b[0;34m\u001b[0m\u001b[0m\n\u001b[0;32m--> 957\u001b[0;31m       result = self._run(None, fetches, feed_dict, options_ptr,\n\u001b[0m\u001b[1;32m    958\u001b[0m                          run_metadata_ptr)\n\u001b[1;32m    959\u001b[0m       \u001b[0;32mif\u001b[0m \u001b[0mrun_metadata\u001b[0m\u001b[0;34m:\u001b[0m\u001b[0;34m\u001b[0m\u001b[0;34m\u001b[0m\u001b[0m\n",
      "\u001b[0;32m~/.local/lib/python3.8/site-packages/tensorflow/python/client/session.py\u001b[0m in \u001b[0;36m_run\u001b[0;34m(self, handle, fetches, feed_dict, options, run_metadata)\u001b[0m\n\u001b[1;32m   1178\u001b[0m     \u001b[0;31m# or if the call is a partial run that specifies feeds.\u001b[0m\u001b[0;34m\u001b[0m\u001b[0;34m\u001b[0m\u001b[0;34m\u001b[0m\u001b[0m\n\u001b[1;32m   1179\u001b[0m     \u001b[0;32mif\u001b[0m \u001b[0mfinal_fetches\u001b[0m \u001b[0;32mor\u001b[0m \u001b[0mfinal_targets\u001b[0m \u001b[0;32mor\u001b[0m \u001b[0;34m(\u001b[0m\u001b[0mhandle\u001b[0m \u001b[0;32mand\u001b[0m \u001b[0mfeed_dict_tensor\u001b[0m\u001b[0;34m)\u001b[0m\u001b[0;34m:\u001b[0m\u001b[0;34m\u001b[0m\u001b[0;34m\u001b[0m\u001b[0m\n\u001b[0;32m-> 1180\u001b[0;31m       results = self._do_run(handle, final_targets, final_fetches,\n\u001b[0m\u001b[1;32m   1181\u001b[0m                              feed_dict_tensor, options, run_metadata)\n\u001b[1;32m   1182\u001b[0m     \u001b[0;32melse\u001b[0m\u001b[0;34m:\u001b[0m\u001b[0;34m\u001b[0m\u001b[0;34m\u001b[0m\u001b[0m\n",
      "\u001b[0;32m~/.local/lib/python3.8/site-packages/tensorflow/python/client/session.py\u001b[0m in \u001b[0;36m_do_run\u001b[0;34m(self, handle, target_list, fetch_list, feed_dict, options, run_metadata)\u001b[0m\n\u001b[1;32m   1356\u001b[0m \u001b[0;34m\u001b[0m\u001b[0m\n\u001b[1;32m   1357\u001b[0m     \u001b[0;32mif\u001b[0m \u001b[0mhandle\u001b[0m \u001b[0;32mis\u001b[0m \u001b[0;32mNone\u001b[0m\u001b[0;34m:\u001b[0m\u001b[0;34m\u001b[0m\u001b[0;34m\u001b[0m\u001b[0m\n\u001b[0;32m-> 1358\u001b[0;31m       return self._do_call(_run_fn, feeds, fetches, targets, options,\n\u001b[0m\u001b[1;32m   1359\u001b[0m                            run_metadata)\n\u001b[1;32m   1360\u001b[0m     \u001b[0;32melse\u001b[0m\u001b[0;34m:\u001b[0m\u001b[0;34m\u001b[0m\u001b[0;34m\u001b[0m\u001b[0m\n",
      "\u001b[0;32m~/.local/lib/python3.8/site-packages/tensorflow/python/client/session.py\u001b[0m in \u001b[0;36m_do_call\u001b[0;34m(self, fn, *args)\u001b[0m\n\u001b[1;32m   1363\u001b[0m   \u001b[0;32mdef\u001b[0m \u001b[0m_do_call\u001b[0m\u001b[0;34m(\u001b[0m\u001b[0mself\u001b[0m\u001b[0;34m,\u001b[0m \u001b[0mfn\u001b[0m\u001b[0;34m,\u001b[0m \u001b[0;34m*\u001b[0m\u001b[0margs\u001b[0m\u001b[0;34m)\u001b[0m\u001b[0;34m:\u001b[0m\u001b[0;34m\u001b[0m\u001b[0;34m\u001b[0m\u001b[0m\n\u001b[1;32m   1364\u001b[0m     \u001b[0;32mtry\u001b[0m\u001b[0;34m:\u001b[0m\u001b[0;34m\u001b[0m\u001b[0;34m\u001b[0m\u001b[0m\n\u001b[0;32m-> 1365\u001b[0;31m       \u001b[0;32mreturn\u001b[0m \u001b[0mfn\u001b[0m\u001b[0;34m(\u001b[0m\u001b[0;34m*\u001b[0m\u001b[0margs\u001b[0m\u001b[0;34m)\u001b[0m\u001b[0;34m\u001b[0m\u001b[0;34m\u001b[0m\u001b[0m\n\u001b[0m\u001b[1;32m   1366\u001b[0m     \u001b[0;32mexcept\u001b[0m \u001b[0merrors\u001b[0m\u001b[0;34m.\u001b[0m\u001b[0mOpError\u001b[0m \u001b[0;32mas\u001b[0m \u001b[0me\u001b[0m\u001b[0;34m:\u001b[0m\u001b[0;34m\u001b[0m\u001b[0;34m\u001b[0m\u001b[0m\n\u001b[1;32m   1367\u001b[0m       \u001b[0mmessage\u001b[0m \u001b[0;34m=\u001b[0m \u001b[0mcompat\u001b[0m\u001b[0;34m.\u001b[0m\u001b[0mas_text\u001b[0m\u001b[0;34m(\u001b[0m\u001b[0me\u001b[0m\u001b[0;34m.\u001b[0m\u001b[0mmessage\u001b[0m\u001b[0;34m)\u001b[0m\u001b[0;34m\u001b[0m\u001b[0;34m\u001b[0m\u001b[0m\n",
      "\u001b[0;32m~/.local/lib/python3.8/site-packages/tensorflow/python/client/session.py\u001b[0m in \u001b[0;36m_run_fn\u001b[0;34m(feed_dict, fetch_list, target_list, options, run_metadata)\u001b[0m\n\u001b[1;32m   1347\u001b[0m       \u001b[0;31m# Ensure any changes to the graph are reflected in the runtime.\u001b[0m\u001b[0;34m\u001b[0m\u001b[0;34m\u001b[0m\u001b[0;34m\u001b[0m\u001b[0m\n\u001b[1;32m   1348\u001b[0m       \u001b[0mself\u001b[0m\u001b[0;34m.\u001b[0m\u001b[0m_extend_graph\u001b[0m\u001b[0;34m(\u001b[0m\u001b[0;34m)\u001b[0m\u001b[0;34m\u001b[0m\u001b[0;34m\u001b[0m\u001b[0m\n\u001b[0;32m-> 1349\u001b[0;31m       return self._call_tf_sessionrun(options, feed_dict, fetch_list,\n\u001b[0m\u001b[1;32m   1350\u001b[0m                                       target_list, run_metadata)\n\u001b[1;32m   1351\u001b[0m \u001b[0;34m\u001b[0m\u001b[0m\n",
      "\u001b[0;32m~/.local/lib/python3.8/site-packages/tensorflow/python/client/session.py\u001b[0m in \u001b[0;36m_call_tf_sessionrun\u001b[0;34m(self, options, feed_dict, fetch_list, target_list, run_metadata)\u001b[0m\n\u001b[1;32m   1439\u001b[0m   def _call_tf_sessionrun(self, options, feed_dict, fetch_list, target_list,\n\u001b[1;32m   1440\u001b[0m                           run_metadata):\n\u001b[0;32m-> 1441\u001b[0;31m     return tf_session.TF_SessionRun_wrapper(self._session, options, feed_dict,\n\u001b[0m\u001b[1;32m   1442\u001b[0m                                             \u001b[0mfetch_list\u001b[0m\u001b[0;34m,\u001b[0m \u001b[0mtarget_list\u001b[0m\u001b[0;34m,\u001b[0m\u001b[0;34m\u001b[0m\u001b[0;34m\u001b[0m\u001b[0m\n\u001b[1;32m   1443\u001b[0m                                             run_metadata)\n",
      "\u001b[0;31mKeyboardInterrupt\u001b[0m: "
     ]
    }
   ],
   "source": [
    "sentDoc = nlp(\"le petit chat mange \")\n",
    "sent = list(sentDoc.sents)[0]\n",
    "print(\"=========================\\n\")\n",
    "print(\"INDEX     : \", index)\n",
    "print(\"SENTENCE  : \", sent)\n",
    "print(\"SUBJECTs  : \", sent._.search_constituency([\"NP-SUJ\"]))\n",
    "print(\"OBJECTs   : \", sent._.search_constituency([\"NP-OBJ\"]))\n",
    "print(\"VERBS     : \", sent._.search_constituency([\"VN\"]))\n",
    "sent._.show_constituency()\n",
    "\n"
   ]
  },
  {
   "cell_type": "code",
   "execution_count": null,
   "metadata": {},
   "outputs": [],
   "source": []
  },
  {
   "cell_type": "code",
   "execution_count": null,
   "metadata": {},
   "outputs": [],
   "source": []
  },
  {
   "cell_type": "code",
   "execution_count": null,
   "metadata": {},
   "outputs": [],
   "source": []
  },
  {
   "cell_type": "code",
   "execution_count": null,
   "metadata": {},
   "outputs": [],
   "source": []
  },
  {
   "cell_type": "code",
   "execution_count": null,
   "metadata": {},
   "outputs": [],
   "source": []
  }
 ],
 "metadata": {
  "kernelspec": {
   "display_name": "Python 3",
   "language": "python",
   "name": "python3"
  },
  "language_info": {
   "codemirror_mode": {
    "name": "ipython",
    "version": 3
   },
   "file_extension": ".py",
   "mimetype": "text/x-python",
   "name": "python",
   "nbconvert_exporter": "python",
   "pygments_lexer": "ipython3",
   "version": "3.8.2"
  }
 },
 "nbformat": 4,
 "nbformat_minor": 4
}
